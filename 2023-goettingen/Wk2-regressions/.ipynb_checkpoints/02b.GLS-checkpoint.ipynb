{
 "cells": [
  {
   "cell_type": "markdown",
   "metadata": {},
   "source": [
    "# Introduction to phylogenetic comparative methods in R\n",
    "Goettingen 2023  \n",
    "Andrew Hipp, ahipp@mortonarb.org  \n",
    "Tutorial 02b: Generalized least squares  \n",
    "Use [static view in nbviewer](XXXX) if you are not working directly in Jupyter notebooks.\n",
    "\n",
    "# Session 2b: Phylogenetic generalized least squares (GLS)"
   ]
  },
  {
   "cell_type": "markdown",
   "metadata": {},
   "source": [
    "## OLS vs GLS: the covariance matrix\n",
    "When we perform linear regression, we generally use what is referred to as an ordinary least squares (OLS) estimator for the regression coefficients (which include the intercept, if you choose to estimate it, as well as the slope on each predictor variable) as well as the model variance. These are our model parameters. With OLS, we assume that the residuals of our regression are independent of one another and normally distributed. Generalized least squares (GLS) allows us to relax this assumption: data (and residuals) may be correlated and have unequal variances. \n",
    "\n",
    "PIC relaxes these assumptions by transforming the tip data into contrasts, which have an expectation of 0; and normalizing those contrasts by their expected variance, so that data points that might drift off into new values don't disproportionately influence results. PIC is, thus, a kind of weighted regression.\n",
    "\n",
    "GLS is as well. GLS uses the inverted phylogenetic variance-covariance matrix (or simply covariance matrix, or sometimes variance matrix) to weight the data. The covariance matrix is abbreviated __C__, and the inverted matrix, __C__<sup>-1</sup>. You'll see what these look like below. In case you are left wanting more, see 02c for a brief note on how to interpret __C__."
   ]
  },
  {
   "cell_type": "markdown",
   "metadata": {},
   "source": [
    "## GLS under the hood\n",
    "Let's look at the pieces of the GLS estimators, to understand how they work. First, get an example tree and dataset:"
   ]
  },
  {
   "cell_type": "code",
   "execution_count": 1,
   "metadata": {
    "vscode": {
     "languageId": "r"
    }
   },
   "outputs": [
    {
     "name": "stderr",
     "output_type": "stream",
     "text": [
      "Loading required package: ape\n",
      "Loading required package: maps\n"
     ]
    },
    {
     "data": {
      "image/png": "[encoded data removed]",
      "text/plain": [
       "plot without title"
      ]
     },
     "metadata": {},
     "output_type": "display_data"
    }
   ],
   "source": [
    "library(phytools)\n",
    "library(geiger)\n",
    "\n",
    "a=tr <- pbtree(n = 100)\n",
    "dat <- sim.char(tr, matrix(c(1,0,0,1), 2, 2))[,,1]\n",
    "colnames(dat) <- c('y', 'x')\n",
    "#layout(matrix(c(1:2, 1, 2)))\n",
    "par(mfrow = c(1,2))\n",
    "plot(tr)\n",
    "plot(dat)"
   ]
  },
  {
   "cell_type": "markdown",
   "metadata": {},
   "source": [
    "You need the variance-covariance matrix of the tree:"
   ]
  },
  {
   "cell_type": "code",
   "execution_count": 2,
   "metadata": {
    "vscode": {
     "languageId": "r"
    }
   },
   "outputs": [
    {
     "data": {
      "text/html": [
       "<table>\n",
       "<thead><tr><th></th><th scope=col>t70</th><th scope=col>t71</th><th scope=col>t6</th><th scope=col>t23</th><th scope=col>t24</th><th scope=col>t4</th><th scope=col>t2</th><th scope=col>t80</th><th scope=col>t81</th><th scope=col>t72</th></tr></thead>\n",
       "<tbody>\n",
       "\t<tr><th scope=row>t70</th><td>6.32</td><td>6.15</td><td>3.59</td><td>3.59</td><td>3.59</td><td>3.59</td><td>3.59</td><td>3.59</td><td>3.59</td><td>3.59</td></tr>\n",
       "\t<tr><th scope=row>t71</th><td>6.15</td><td>6.32</td><td>3.59</td><td>3.59</td><td>3.59</td><td>3.59</td><td>3.59</td><td>3.59</td><td>3.59</td><td>3.59</td></tr>\n",
       "\t<tr><th scope=row>t6</th><td>3.59</td><td>3.59</td><td>6.32</td><td>4.88</td><td>4.88</td><td>4.59</td><td>4.31</td><td>3.92</td><td>3.92</td><td>3.92</td></tr>\n",
       "\t<tr><th scope=row>t23</th><td>3.59</td><td>3.59</td><td>4.88</td><td>6.32</td><td>5.67</td><td>4.59</td><td>4.31</td><td>3.92</td><td>3.92</td><td>3.92</td></tr>\n",
       "\t<tr><th scope=row>t24</th><td>3.59</td><td>3.59</td><td>4.88</td><td>5.67</td><td>6.32</td><td>4.59</td><td>4.31</td><td>3.92</td><td>3.92</td><td>3.92</td></tr>\n",
       "\t<tr><th scope=row>t4</th><td>3.59</td><td>3.59</td><td>4.59</td><td>4.59</td><td>4.59</td><td>6.32</td><td>4.31</td><td>3.92</td><td>3.92</td><td>3.92</td></tr>\n",
       "\t<tr><th scope=row>t2</th><td>3.59</td><td>3.59</td><td>4.31</td><td>4.31</td><td>4.31</td><td>4.31</td><td>6.32</td><td>3.92</td><td>3.92</td><td>3.92</td></tr>\n",
       "\t<tr><th scope=row>t80</th><td>3.59</td><td>3.59</td><td>3.92</td><td>3.92</td><td>3.92</td><td>3.92</td><td>3.92</td><td>6.32</td><td>6.18</td><td>5.52</td></tr>\n",
       "\t<tr><th scope=row>t81</th><td>3.59</td><td>3.59</td><td>3.92</td><td>3.92</td><td>3.92</td><td>3.92</td><td>3.92</td><td>6.18</td><td>6.32</td><td>5.52</td></tr>\n",
       "\t<tr><th scope=row>t72</th><td>3.59</td><td>3.59</td><td>3.92</td><td>3.92</td><td>3.92</td><td>3.92</td><td>3.92</td><td>5.52</td><td>5.52</td><td>6.32</td></tr>\n",
       "</tbody>\n",
       "</table>\n"
      ],
      "text/latex": [
       "\\begin{tabular}{r|llllllllll}\n",
       "  & t70 & t71 & t6 & t23 & t24 & t4 & t2 & t80 & t81 & t72\\\\\n",
       "\\hline\n",
       "\tt70 & 6.32 & 6.15 & 3.59 & 3.59 & 3.59 & 3.59 & 3.59 & 3.59 & 3.59 & 3.59\\\\\n",
       "\tt71 & 6.15 & 6.32 & 3.59 & 3.59 & 3.59 & 3.59 & 3.59 & 3.59 & 3.59 & 3.59\\\\\n",
       "\tt6 & 3.59 & 3.59 & 6.32 & 4.88 & 4.88 & 4.59 & 4.31 & 3.92 & 3.92 & 3.92\\\\\n",
       "\tt23 & 3.59 & 3.59 & 4.88 & 6.32 & 5.67 & 4.59 & 4.31 & 3.92 & 3.92 & 3.92\\\\\n",
       "\tt24 & 3.59 & 3.59 & 4.88 & 5.67 & 6.32 & 4.59 & 4.31 & 3.92 & 3.92 & 3.92\\\\\n",
       "\tt4 & 3.59 & 3.59 & 4.59 & 4.59 & 4.59 & 6.32 & 4.31 & 3.92 & 3.92 & 3.92\\\\\n",
       "\tt2 & 3.59 & 3.59 & 4.31 & 4.31 & 4.31 & 4.31 & 6.32 & 3.92 & 3.92 & 3.92\\\\\n",
       "\tt80 & 3.59 & 3.59 & 3.92 & 3.92 & 3.92 & 3.92 & 3.92 & 6.32 & 6.18 & 5.52\\\\\n",
       "\tt81 & 3.59 & 3.59 & 3.92 & 3.92 & 3.92 & 3.92 & 3.92 & 6.18 & 6.32 & 5.52\\\\\n",
       "\tt72 & 3.59 & 3.59 & 3.92 & 3.92 & 3.92 & 3.92 & 3.92 & 5.52 & 5.52 & 6.32\\\\\n",
       "\\end{tabular}\n"
      ],
      "text/markdown": [
       "\n",
       "| <!--/--> | t70 | t71 | t6 | t23 | t24 | t4 | t2 | t80 | t81 | t72 | \n",
       "|---|---|---|---|---|---|---|---|---|---|\n",
       "| t70 | 6.32 | 6.15 | 3.59 | 3.59 | 3.59 | 3.59 | 3.59 | 3.59 | 3.59 | 3.59 | \n",
       "| t71 | 6.15 | 6.32 | 3.59 | 3.59 | 3.59 | 3.59 | 3.59 | 3.59 | 3.59 | 3.59 | \n",
       "| t6 | 3.59 | 3.59 | 6.32 | 4.88 | 4.88 | 4.59 | 4.31 | 3.92 | 3.92 | 3.92 | \n",
       "| t23 | 3.59 | 3.59 | 4.88 | 6.32 | 5.67 | 4.59 | 4.31 | 3.92 | 3.92 | 3.92 | \n",
       "| t24 | 3.59 | 3.59 | 4.88 | 5.67 | 6.32 | 4.59 | 4.31 | 3.92 | 3.92 | 3.92 | \n",
       "| t4 | 3.59 | 3.59 | 4.59 | 4.59 | 4.59 | 6.32 | 4.31 | 3.92 | 3.92 | 3.92 | \n",
       "| t2 | 3.59 | 3.59 | 4.31 | 4.31 | 4.31 | 4.31 | 6.32 | 3.92 | 3.92 | 3.92 | \n",
       "| t80 | 3.59 | 3.59 | 3.92 | 3.92 | 3.92 | 3.92 | 3.92 | 6.32 | 6.18 | 5.52 | \n",
       "| t81 | 3.59 | 3.59 | 3.92 | 3.92 | 3.92 | 3.92 | 3.92 | 6.18 | 6.32 | 5.52 | \n",
       "| t72 | 3.59 | 3.59 | 3.92 | 3.92 | 3.92 | 3.92 | 3.92 | 5.52 | 5.52 | 6.32 | \n",
       "\n",
       "\n"
      ],
      "text/plain": [
       "    t70  t71  t6   t23  t24  t4   t2   t80  t81  t72 \n",
       "t70 6.32 6.15 3.59 3.59 3.59 3.59 3.59 3.59 3.59 3.59\n",
       "t71 6.15 6.32 3.59 3.59 3.59 3.59 3.59 3.59 3.59 3.59\n",
       "t6  3.59 3.59 6.32 4.88 4.88 4.59 4.31 3.92 3.92 3.92\n",
       "t23 3.59 3.59 4.88 6.32 5.67 4.59 4.31 3.92 3.92 3.92\n",
       "t24 3.59 3.59 4.88 5.67 6.32 4.59 4.31 3.92 3.92 3.92\n",
       "t4  3.59 3.59 4.59 4.59 4.59 6.32 4.31 3.92 3.92 3.92\n",
       "t2  3.59 3.59 4.31 4.31 4.31 4.31 6.32 3.92 3.92 3.92\n",
       "t80 3.59 3.59 3.92 3.92 3.92 3.92 3.92 6.32 6.18 5.52\n",
       "t81 3.59 3.59 3.92 3.92 3.92 3.92 3.92 6.18 6.32 5.52\n",
       "t72 3.59 3.59 3.92 3.92 3.92 3.92 3.92 5.52 5.52 6.32"
      ]
     },
     "metadata": {},
     "output_type": "display_data"
    }
   ],
   "source": [
    "tr.v <- vcv.phylo(tr)\n",
    "round(tr.v[1:10, 1:10], 2) # shows just the upper lefthand corner of your matrix"
   ]
  },
  {
   "cell_type": "markdown",
   "metadata": {},
   "source": [
    "This becomes part of everything you do in generalized least squares. What can you do with it? You can invert it: the inverted matrix is that matrix that multiplied by the original (uninverted) matrix yields a matrix with diagonals of 1 and off-diagonals of 0:"
   ]
  },
  {
   "cell_type": "code",
   "execution_count": 3,
   "metadata": {
    "vscode": {
     "languageId": "r"
    }
   },
   "outputs": [
    {
     "data": {
      "text/html": [
       "<table>\n",
       "<thead><tr><th></th><th scope=col>t70</th><th scope=col>t71</th><th scope=col>t6</th><th scope=col>t23</th><th scope=col>t24</th><th scope=col>t4</th><th scope=col>t2</th><th scope=col>t80</th><th scope=col>t81</th><th scope=col>t72</th></tr></thead>\n",
       "<tbody>\n",
       "\t<tr><th scope=row>t70</th><td> 2.90</td><td>-2.75</td><td>-0.01</td><td>-0.01</td><td>-0.01</td><td>-0.01</td><td>-0.02</td><td> 0.00</td><td> 0.00</td><td> 0.00</td></tr>\n",
       "\t<tr><th scope=row>t71</th><td>-2.75</td><td> 2.90</td><td>-0.01</td><td>-0.01</td><td>-0.01</td><td>-0.01</td><td>-0.02</td><td> 0.00</td><td> 0.00</td><td> 0.00</td></tr>\n",
       "\t<tr><th scope=row>t6</th><td>-0.01</td><td>-0.01</td><td> 0.51</td><td>-0.12</td><td>-0.12</td><td>-0.10</td><td>-0.06</td><td>-0.01</td><td>-0.01</td><td> 0.00</td></tr>\n",
       "\t<tr><th scope=row>t23</th><td>-0.01</td><td>-0.01</td><td>-0.12</td><td> 0.92</td><td>-0.62</td><td>-0.07</td><td>-0.04</td><td> 0.00</td><td> 0.00</td><td> 0.00</td></tr>\n",
       "\t<tr><th scope=row>t24</th><td>-0.01</td><td>-0.01</td><td>-0.12</td><td>-0.62</td><td> 0.92</td><td>-0.07</td><td>-0.04</td><td> 0.00</td><td> 0.00</td><td> 0.00</td></tr>\n",
       "\t<tr><th scope=row>t4</th><td>-0.01</td><td>-0.01</td><td>-0.10</td><td>-0.07</td><td>-0.07</td><td> 0.45</td><td>-0.08</td><td>-0.01</td><td>-0.01</td><td> 0.00</td></tr>\n",
       "\t<tr><th scope=row>t2</th><td>-0.02</td><td>-0.02</td><td>-0.06</td><td>-0.04</td><td>-0.04</td><td>-0.08</td><td> 0.40</td><td>-0.01</td><td>-0.01</td><td>-0.01</td></tr>\n",
       "\t<tr><th scope=row>t80</th><td> 0.00</td><td> 0.00</td><td>-0.01</td><td> 0.00</td><td> 0.00</td><td>-0.01</td><td>-0.01</td><td> 3.73</td><td>-3.28</td><td>-0.06</td></tr>\n",
       "\t<tr><th scope=row>t81</th><td> 0.00</td><td> 0.00</td><td>-0.01</td><td> 0.00</td><td> 0.00</td><td>-0.01</td><td>-0.01</td><td>-3.28</td><td> 3.73</td><td>-0.06</td></tr>\n",
       "\t<tr><th scope=row>t72</th><td> 0.00</td><td> 0.00</td><td> 0.00</td><td> 0.00</td><td> 0.00</td><td> 0.00</td><td>-0.01</td><td>-0.06</td><td>-0.06</td><td> 3.40</td></tr>\n",
       "</tbody>\n",
       "</table>\n"
      ],
      "text/latex": [
       "\\begin{tabular}{r|llllllllll}\n",
       "  & t70 & t71 & t6 & t23 & t24 & t4 & t2 & t80 & t81 & t72\\\\\n",
       "\\hline\n",
       "\tt70 &  2.90 & -2.75 & -0.01 & -0.01 & -0.01 & -0.01 & -0.02 &  0.00 &  0.00 &  0.00\\\\\n",
       "\tt71 & -2.75 &  2.90 & -0.01 & -0.01 & -0.01 & -0.01 & -0.02 &  0.00 &  0.00 &  0.00\\\\\n",
       "\tt6 & -0.01 & -0.01 &  0.51 & -0.12 & -0.12 & -0.10 & -0.06 & -0.01 & -0.01 &  0.00\\\\\n",
       "\tt23 & -0.01 & -0.01 & -0.12 &  0.92 & -0.62 & -0.07 & -0.04 &  0.00 &  0.00 &  0.00\\\\\n",
       "\tt24 & -0.01 & -0.01 & -0.12 & -0.62 &  0.92 & -0.07 & -0.04 &  0.00 &  0.00 &  0.00\\\\\n",
       "\tt4 & -0.01 & -0.01 & -0.10 & -0.07 & -0.07 &  0.45 & -0.08 & -0.01 & -0.01 &  0.00\\\\\n",
       "\tt2 & -0.02 & -0.02 & -0.06 & -0.04 & -0.04 & -0.08 &  0.40 & -0.01 & -0.01 & -0.01\\\\\n",
       "\tt80 &  0.00 &  0.00 & -0.01 &  0.00 &  0.00 & -0.01 & -0.01 &  3.73 & -3.28 & -0.06\\\\\n",
       "\tt81 &  0.00 &  0.00 & -0.01 &  0.00 &  0.00 & -0.01 & -0.01 & -3.28 &  3.73 & -0.06\\\\\n",
       "\tt72 &  0.00 &  0.00 &  0.00 &  0.00 &  0.00 &  0.00 & -0.01 & -0.06 & -0.06 &  3.40\\\\\n",
       "\\end{tabular}\n"
      ],
      "text/markdown": [
       "\n",
       "| <!--/--> | t70 | t71 | t6 | t23 | t24 | t4 | t2 | t80 | t81 | t72 | \n",
       "|---|---|---|---|---|---|---|---|---|---|\n",
       "| t70 |  2.90 | -2.75 | -0.01 | -0.01 | -0.01 | -0.01 | -0.02 |  0.00 |  0.00 |  0.00 | \n",
       "| t71 | -2.75 |  2.90 | -0.01 | -0.01 | -0.01 | -0.01 | -0.02 |  0.00 |  0.00 |  0.00 | \n",
       "| t6 | -0.01 | -0.01 |  0.51 | -0.12 | -0.12 | -0.10 | -0.06 | -0.01 | -0.01 |  0.00 | \n",
       "| t23 | -0.01 | -0.01 | -0.12 |  0.92 | -0.62 | -0.07 | -0.04 |  0.00 |  0.00 |  0.00 | \n",
       "| t24 | -0.01 | -0.01 | -0.12 | -0.62 |  0.92 | -0.07 | -0.04 |  0.00 |  0.00 |  0.00 | \n",
       "| t4 | -0.01 | -0.01 | -0.10 | -0.07 | -0.07 |  0.45 | -0.08 | -0.01 | -0.01 |  0.00 | \n",
       "| t2 | -0.02 | -0.02 | -0.06 | -0.04 | -0.04 | -0.08 |  0.40 | -0.01 | -0.01 | -0.01 | \n",
       "| t80 |  0.00 |  0.00 | -0.01 |  0.00 |  0.00 | -0.01 | -0.01 |  3.73 | -3.28 | -0.06 | \n",
       "| t81 |  0.00 |  0.00 | -0.01 |  0.00 |  0.00 | -0.01 | -0.01 | -3.28 |  3.73 | -0.06 | \n",
       "| t72 |  0.00 |  0.00 |  0.00 |  0.00 |  0.00 |  0.00 | -0.01 | -0.06 | -0.06 |  3.40 | \n",
       "\n",
       "\n"
      ],
      "text/plain": [
       "    t70   t71   t6    t23   t24   t4    t2    t80   t81   t72  \n",
       "t70  2.90 -2.75 -0.01 -0.01 -0.01 -0.01 -0.02  0.00  0.00  0.00\n",
       "t71 -2.75  2.90 -0.01 -0.01 -0.01 -0.01 -0.02  0.00  0.00  0.00\n",
       "t6  -0.01 -0.01  0.51 -0.12 -0.12 -0.10 -0.06 -0.01 -0.01  0.00\n",
       "t23 -0.01 -0.01 -0.12  0.92 -0.62 -0.07 -0.04  0.00  0.00  0.00\n",
       "t24 -0.01 -0.01 -0.12 -0.62  0.92 -0.07 -0.04  0.00  0.00  0.00\n",
       "t4  -0.01 -0.01 -0.10 -0.07 -0.07  0.45 -0.08 -0.01 -0.01  0.00\n",
       "t2  -0.02 -0.02 -0.06 -0.04 -0.04 -0.08  0.40 -0.01 -0.01 -0.01\n",
       "t80  0.00  0.00 -0.01  0.00  0.00 -0.01 -0.01  3.73 -3.28 -0.06\n",
       "t81  0.00  0.00 -0.01  0.00  0.00 -0.01 -0.01 -3.28  3.73 -0.06\n",
       "t72  0.00  0.00  0.00  0.00  0.00  0.00 -0.01 -0.06 -0.06  3.40"
      ]
     },
     "metadata": {},
     "output_type": "display_data"
    },
    {
     "data": {
      "text/html": [
       "<table>\n",
       "<thead><tr><th></th><th scope=col>t70</th><th scope=col>t71</th><th scope=col>t6</th><th scope=col>t23</th><th scope=col>t24</th><th scope=col>t4</th><th scope=col>t2</th><th scope=col>t80</th><th scope=col>t81</th><th scope=col>t72</th></tr></thead>\n",
       "<tbody>\n",
       "\t<tr><th scope=row>t70</th><td>1</td><td>0</td><td>0</td><td>0</td><td>0</td><td>0</td><td>0</td><td>0</td><td>0</td><td>0</td></tr>\n",
       "\t<tr><th scope=row>t71</th><td>0</td><td>1</td><td>0</td><td>0</td><td>0</td><td>0</td><td>0</td><td>0</td><td>0</td><td>0</td></tr>\n",
       "\t<tr><th scope=row>t6</th><td>0</td><td>0</td><td>1</td><td>0</td><td>0</td><td>0</td><td>0</td><td>0</td><td>0</td><td>0</td></tr>\n",
       "\t<tr><th scope=row>t23</th><td>0</td><td>0</td><td>0</td><td>1</td><td>0</td><td>0</td><td>0</td><td>0</td><td>0</td><td>0</td></tr>\n",
       "\t<tr><th scope=row>t24</th><td>0</td><td>0</td><td>0</td><td>0</td><td>1</td><td>0</td><td>0</td><td>0</td><td>0</td><td>0</td></tr>\n",
       "\t<tr><th scope=row>t4</th><td>0</td><td>0</td><td>0</td><td>0</td><td>0</td><td>1</td><td>0</td><td>0</td><td>0</td><td>0</td></tr>\n",
       "\t<tr><th scope=row>t2</th><td>0</td><td>0</td><td>0</td><td>0</td><td>0</td><td>0</td><td>1</td><td>0</td><td>0</td><td>0</td></tr>\n",
       "\t<tr><th scope=row>t80</th><td>0</td><td>0</td><td>0</td><td>0</td><td>0</td><td>0</td><td>0</td><td>1</td><td>0</td><td>0</td></tr>\n",
       "\t<tr><th scope=row>t81</th><td>0</td><td>0</td><td>0</td><td>0</td><td>0</td><td>0</td><td>0</td><td>0</td><td>1</td><td>0</td></tr>\n",
       "\t<tr><th scope=row>t72</th><td>0</td><td>0</td><td>0</td><td>0</td><td>0</td><td>0</td><td>0</td><td>0</td><td>0</td><td>1</td></tr>\n",
       "</tbody>\n",
       "</table>\n"
      ],
      "text/latex": [
       "\\begin{tabular}{r|llllllllll}\n",
       "  & t70 & t71 & t6 & t23 & t24 & t4 & t2 & t80 & t81 & t72\\\\\n",
       "\\hline\n",
       "\tt70 & 1 & 0 & 0 & 0 & 0 & 0 & 0 & 0 & 0 & 0\\\\\n",
       "\tt71 & 0 & 1 & 0 & 0 & 0 & 0 & 0 & 0 & 0 & 0\\\\\n",
       "\tt6 & 0 & 0 & 1 & 0 & 0 & 0 & 0 & 0 & 0 & 0\\\\\n",
       "\tt23 & 0 & 0 & 0 & 1 & 0 & 0 & 0 & 0 & 0 & 0\\\\\n",
       "\tt24 & 0 & 0 & 0 & 0 & 1 & 0 & 0 & 0 & 0 & 0\\\\\n",
       "\tt4 & 0 & 0 & 0 & 0 & 0 & 1 & 0 & 0 & 0 & 0\\\\\n",
       "\tt2 & 0 & 0 & 0 & 0 & 0 & 0 & 1 & 0 & 0 & 0\\\\\n",
       "\tt80 & 0 & 0 & 0 & 0 & 0 & 0 & 0 & 1 & 0 & 0\\\\\n",
       "\tt81 & 0 & 0 & 0 & 0 & 0 & 0 & 0 & 0 & 1 & 0\\\\\n",
       "\tt72 & 0 & 0 & 0 & 0 & 0 & 0 & 0 & 0 & 0 & 1\\\\\n",
       "\\end{tabular}\n"
      ],
      "text/markdown": [
       "\n",
       "| <!--/--> | t70 | t71 | t6 | t23 | t24 | t4 | t2 | t80 | t81 | t72 | \n",
       "|---|---|---|---|---|---|---|---|---|---|\n",
       "| t70 | 1 | 0 | 0 | 0 | 0 | 0 | 0 | 0 | 0 | 0 | \n",
       "| t71 | 0 | 1 | 0 | 0 | 0 | 0 | 0 | 0 | 0 | 0 | \n",
       "| t6 | 0 | 0 | 1 | 0 | 0 | 0 | 0 | 0 | 0 | 0 | \n",
       "| t23 | 0 | 0 | 0 | 1 | 0 | 0 | 0 | 0 | 0 | 0 | \n",
       "| t24 | 0 | 0 | 0 | 0 | 1 | 0 | 0 | 0 | 0 | 0 | \n",
       "| t4 | 0 | 0 | 0 | 0 | 0 | 1 | 0 | 0 | 0 | 0 | \n",
       "| t2 | 0 | 0 | 0 | 0 | 0 | 0 | 1 | 0 | 0 | 0 | \n",
       "| t80 | 0 | 0 | 0 | 0 | 0 | 0 | 0 | 1 | 0 | 0 | \n",
       "| t81 | 0 | 0 | 0 | 0 | 0 | 0 | 0 | 0 | 1 | 0 | \n",
       "| t72 | 0 | 0 | 0 | 0 | 0 | 0 | 0 | 0 | 0 | 1 | \n",
       "\n",
       "\n"
      ],
      "text/plain": [
       "    t70 t71 t6 t23 t24 t4 t2 t80 t81 t72\n",
       "t70 1   0   0  0   0   0  0  0   0   0  \n",
       "t71 0   1   0  0   0   0  0  0   0   0  \n",
       "t6  0   0   1  0   0   0  0  0   0   0  \n",
       "t23 0   0   0  1   0   0  0  0   0   0  \n",
       "t24 0   0   0  0   1   0  0  0   0   0  \n",
       "t4  0   0   0  0   0   1  0  0   0   0  \n",
       "t2  0   0   0  0   0   0  1  0   0   0  \n",
       "t80 0   0   0  0   0   0  0  1   0   0  \n",
       "t81 0   0   0  0   0   0  0  0   1   0  \n",
       "t72 0   0   0  0   0   0  0  0   0   1  "
      ]
     },
     "metadata": {},
     "output_type": "display_data"
    }
   ],
   "source": [
    "round(solve(tr.v), 2)[1:10, 1:10]\n",
    "round(solve(tr.v) %*% tr.v, 2)[1:10, 1:10]"
   ]
  },
  {
   "cell_type": "markdown",
   "metadata": {},
   "source": [
    "With the inverted matrix, you can weight your data by how phylogenetically distinct the corresponding tips are. To visualize these weights, multiply the inverted matrix by a column-matrix of ones (for example, `matrix(1, 10)` is a one-column matrix of 10 1s). You can visualize this using `phydataplot` from the `ape` package:"
   ]
  },
  {
   "cell_type": "code",
   "execution_count": 4,
   "metadata": {
    "vscode": {
     "languageId": "r"
    }
   },
   "outputs": [
    {
     "data": {
      "image/png": "[encoded data removed]",
      "text/plain": [
       "plot without title"
      ]
     },
     "metadata": {},
     "output_type": "display_data"
    }
   ],
   "source": [
    "one <- matrix(1, length(tr$tip.label), 1) # a matrix of 1s, 1 column\n",
    "tr.w <- t(one) %*% solve(tr.v)\n",
    "a=plot(tr, show.tip.label = F, x.lim = nodeheight(tr,1) * 3) # sets the plot window width to be thrice the tree depth\n",
    "phydataplot(tr.w[1,] / max(tr.w[1,]) * nodeheight(tr, 1), tr)"
   ]
  },
  {
   "cell_type": "markdown",
   "metadata": {},
   "source": [
    "With this same machinery, you can compare the GLS estimate of regression coefficients with the OLS (ordinary least squares) estimates, using equations from Symonds and Blomberg Appendix A:"
   ]
  },
  {
   "cell_type": "code",
   "execution_count": 5,
   "metadata": {
    "vscode": {
     "languageId": "r"
    }
   },
   "outputs": [
    {
     "name": "stderr",
     "output_type": "stream",
     "text": [
      "GLS coefficients (intercept and slope)\n"
     ]
    },
    {
     "data": {
      "text/html": [
       "<table>\n",
       "<tbody>\n",
       "\t<tr><th scope=row></th><td> 3.45074056</td></tr>\n",
       "\t<tr><th scope=row>x</th><td>-0.07288534</td></tr>\n",
       "</tbody>\n",
       "</table>\n"
      ],
      "text/latex": [
       "\\begin{tabular}{r|l}\n",
       "\t &  3.45074056\\\\\n",
       "\tx & -0.07288534\\\\\n",
       "\\end{tabular}\n"
      ],
      "text/markdown": [
       "\n",
       "|  |  3.45074056 | \n",
       "| x | -0.07288534 | \n",
       "\n",
       "\n"
      ],
      "text/plain": [
       "  [,1]       \n",
       "   3.45074056\n",
       "x -0.07288534"
      ]
     },
     "metadata": {},
     "output_type": "display_data"
    },
    {
     "name": "stderr",
     "output_type": "stream",
     "text": [
      "OLS coefficients (intercept and slope)\n"
     ]
    },
    {
     "data": {
      "text/html": [
       "<table>\n",
       "<tbody>\n",
       "\t<tr><th scope=row></th><td> 3.62123366</td></tr>\n",
       "\t<tr><th scope=row>x</th><td>-0.05665922</td></tr>\n",
       "</tbody>\n",
       "</table>\n"
      ],
      "text/latex": [
       "\\begin{tabular}{r|l}\n",
       "\t &  3.62123366\\\\\n",
       "\tx & -0.05665922\\\\\n",
       "\\end{tabular}\n"
      ],
      "text/markdown": [
       "\n",
       "|  |  3.62123366 | \n",
       "| x | -0.05665922 | \n",
       "\n",
       "\n"
      ],
      "text/plain": [
       "  [,1]       \n",
       "   3.62123366\n",
       "x -0.05665922"
      ]
     },
     "metadata": {},
     "output_type": "display_data"
    }
   ],
   "source": [
    "b.gls <- function(tr, dat, y = 'y', x = 'x') {\n",
    "    #print(dat)\n",
    "    v.solved <- solve(vcv.phylo(tr))\n",
    "    one <- matrix(1, length(tr$tip.label))\n",
    "    X <- cbind(origin = one, x = dat[, x])\n",
    "    out <- solve(t(X) %*% v.solved %*% X) %*% (t(X) %*% v.solved %*% dat[, y])\n",
    "    out\n",
    "}\n",
    "\n",
    "b.ols <- function(dat, y = 'y', x = 'x') {\n",
    "    one <- matrix(1, dim(dat)[1])\n",
    "    X <- cbind(origin = one, x = dat[, x])\n",
    "    out <- solve(t(X) %*% X) %*% (t(X) %*% dat[, y])\n",
    "    out\n",
    "}\n",
    "message('GLS coefficients (intercept and slope)')\n",
    "b.gls(tr, dat)\n",
    "message('OLS coefficients (intercept and slope)')\n",
    "b.ols(dat)"
   ]
  },
  {
   "cell_type": "markdown",
   "metadata": {},
   "source": [
    "In practice, you will probably find it easier to use one of the standard GLS functions. I typically use the `gls` function from the `nlme` package. The function requires a correlation structure, which can be pulled from the tree using the `corBrownian`, `corPagel`, or other correlation structures in `ape` (to see them all, use `?corClasses` in `R` with `ape` attached).\n",
    "\n",
    "Revell and Symonds and Blomberg both discuss estimating phylogenetic signal simultaneously with the regression coefficients. This is really simple to do in R. Here is an example:"
   ]
  },
  {
   "cell_type": "code",
   "execution_count": 6,
   "metadata": {
    "vscode": {
     "languageId": "r"
    }
   },
   "outputs": [
    {
     "data": {
      "text/plain": [
       "Generalized least squares fit by REML\n",
       "  Model: y ~ x \n",
       "  Data: as.data.frame(dat) \n",
       "      AIC      BIC   logLik\n",
       "  288.498 298.8379 -140.249\n",
       "\n",
       "Correlation Structure: corPagel\n",
       " Formula: ~1 \n",
       " Parameter estimate(s):\n",
       "   lambda \n",
       "0.9994369 \n",
       "\n",
       "Coefficients:\n",
       "                Value Std.Error    t-value p-value\n",
       "(Intercept)  3.451608  1.336705  2.5821764  0.0113\n",
       "x           -0.071951  0.104546 -0.6882216  0.4929\n",
       "\n",
       " Correlation: \n",
       "  (Intr)\n",
       "x 0.06  \n",
       "\n",
       "Standardized residuals:\n",
       "        Min          Q1         Med          Q3         Max \n",
       "-1.16023830 -0.44793813  0.05485566  0.45250181  1.82621833 \n",
       "\n",
       "Residual standard error: 2.527379 \n",
       "Degrees of freedom: 100 total; 98 residual"
      ]
     },
     "metadata": {},
     "output_type": "display_data"
    }
   ],
   "source": [
    "library(nlme)\n",
    "out <- gls(y ~ x, as.data.frame(dat), corPagel(1, tr))\n",
    "summary(out)"
   ]
  },
  {
   "cell_type": "markdown",
   "metadata": {},
   "source": [
    "As an aside, folks do not agree about the use of R<sup>2</sup> in GLS regression. The problem is, as I understand it, at least in part that GLS regression is actually a regression on transformed data, so it's ambiguous what we mean by the amount of variance in `y` explained by `X`. But sometimes it's handy to report; I often do, but never on multiple GLS regression. The formula used here is from Judge et al. 1985, an econometrics text that is often cited for GLS. As I recall (I don't have the book in front of me now), Judge describes this as the R<sup>2</sup> on the transformed data projected back into the original coordinate space. Please don't quote me on this; I'm not sure I fully understand it. But this appears to be coded correctly, and I've used it plenty of times. In case you need it or want it, here it is:"
   ]
  },
  {
   "cell_type": "code",
   "execution_count": 7,
   "metadata": {
    "vscode": {
     "languageId": "r"
    }
   },
   "outputs": [
    {
     "data": {
      "text/html": [
       "0.00480990637371681"
      ],
      "text/latex": [
       "0.00480990637371681"
      ],
      "text/markdown": [
       "0.00480990637371681"
      ],
      "text/plain": [
       "[1] 0.004809906"
      ]
     },
     "metadata": {},
     "output_type": "display_data"
    }
   ],
   "source": [
    "gls.r.squared <- function(x) {\n",
    "# based on Judge et al. 1985, eq. 2.3.16\n",
    "  e = x$resid\n",
    "  V <- corMatrix(x$modelStruct$corStruct)\n",
    "  Y = x$resid + x$fitted\n",
    "  one <- matrix(1, length(Y), 1)\n",
    "  a <- as.numeric(solve(t(one) %*% solve(V) %*% one) %*% (t(one) %*% solve(V) %*% Y))\n",
    "  r.squared= 1-(t(e) %*% solve(V) %*% e) / (t(Y-a) %*% solve(V) %*% (Y-a))\n",
    "  return(r.squared[1,1])\n",
    "  }\n",
    "\n",
    "## example:\n",
    "gls.r.squared(out) # probably will be pretty low, as we simulated data with no correlation"
   ]
  },
  {
   "cell_type": "markdown",
   "metadata": {},
   "source": [
    "# Practice questions\n",
    "1. Play around with the inverse of the covariance matrix (`tr.w <- t(one) %*% solve(tr.v)`) on different trees and see what taxa are upweighted more. What species contribute the most to the regression? Which weightings make sense, and which are surprising? You can use the code above and just run it for a handful of trees. Try your own data, if you have some.\n",
    "2. Wrestle your own data into R or use the maple dataset we started working with on week 1, and use `gls` and `lm` to calculate regression coefficients. Try this in the traditional GLS / PIC manner using `corBrownian` for the correlation structure, and as Revell suggests, using `corPagel` and simulating lambda. What estimate of lambda do you get? how, if at all, does this affect your inferences?\n",
    "2. Use formula #4 in Rohlf 2006 to calculate the phylogenetic mean (answer at the end of this tutorial). How is it different from the formula for the regression coefficients? Then, use that formula to estimate the mean for a randomly simulated trait on each of 500 randomly generated trees, each of 50 tips, with a root state of 0. Compare with the non-phylogenetic means for these. How do they compare? which gives the smaller variance? the lower bias?\n",
    "3. Use the functions `lm` and `gls` OR the functions we generated for regression coefficients to compare the OLS and GLS slope on a Brownian-motion generated pair of traits on each of 500 randomly generated trees of 50 tips each, with a slope and root state of 0. How do they compare? which gives the smaller variance? the lower bias? "
   ]
  },
  {
   "cell_type": "markdown",
   "metadata": {},
   "source": [
    "## ANSWERS (NO PEEKING!)"
   ]
  },
  {
   "cell_type": "markdown",
   "metadata": {},
   "source": [
    "### Challenge 2: phylogenetic means"
   ]
  },
  {
   "cell_type": "code",
   "execution_count": 8,
   "metadata": {
    "vscode": {
     "languageId": "r"
    }
   },
   "outputs": [
    {
     "data": {
      "image/png": "[encoded data removed]",
      "text/plain": [
       "Plot with title \"phylogenetic means\""
      ]
     },
     "metadata": {},
     "output_type": "display_data"
    }
   ],
   "source": [
    "tr.set <- lapply(rep(1, 500), pbtree, n = 50)\n",
    "dat.set <- sapply(tr.set, sim.char, par = 1, root = 0)\n",
    "phylo.mean <- function(tr, dat) {\n",
    "    #print(dat)\n",
    "    v.solved = solve(vcv.phylo(tr))\n",
    "    one = matrix(1, length(tr$tip.label))\n",
    "    out = solve(t(one) %*% v.solved %*% one) %*% (t(one) %*% v.solved %*% dat)\n",
    "    out\n",
    "}\n",
    "dat.phyloMeans <- sapply(1:length(tr.set), function(x) phylo.mean(tr.set[[x]], dat.set[, x]))\n",
    "par(mfrow = c(1, 2))\n",
    "hist(apply(dat.set, 1, mean), 20, main = 'ordinary means', xlim = c(-3, 3))\n",
    "abline(v = mean(apply(dat.set, 1, mean)), col= 'red', lty = 'dashed')\n",
    "hist(dat.phyloMeans, 20, main = 'phylogenetic means', xlim = c(-3, 3))\n",
    "abline(v = mean(dat.phyloMeans), col = 'red', lty = 'dashed')"
   ]
  },
  {
   "cell_type": "markdown",
   "metadata": {},
   "source": [
    "### Challenge 3: slope and intercept, OLS vs GLS"
   ]
  },
  {
   "cell_type": "code",
   "execution_count": 9,
   "metadata": {
    "vscode": {
     "languageId": "r"
    }
   },
   "outputs": [
    {
     "ename": "ERROR",
     "evalue": "Error in eval(expr, envir, enclos): object 'ols.out' not found\n",
     "output_type": "error",
     "traceback": [
      "Error in eval(expr, envir, enclos): object 'ols.out' not found\nTraceback:\n",
      "1. summary(lm(ols.out[, 2] ~ gls.out[, 2]))",
      "2. lm(ols.out[, 2] ~ gls.out[, 2])",
      "3. eval(mf, parent.frame())",
      "4. eval(expr, envir, enclos)",
      "5. stats::model.frame(formula = ols.out[, 2] ~ gls.out[, 2], drop.unused.levels = TRUE)",
      "6. model.frame.default(formula = ols.out[, 2] ~ gls.out[, 2], drop.unused.levels = TRUE)",
      "7. eval(predvars, data, env)",
      "8. eval(expr, envir, enclos)"
     ]
    },
    {
     "data": {
      "image/png": "[encoded data removed]",
      "text/plain": [
       "Plot with title \"gls slope\""
      ]
     },
     "metadata": {},
     "output_type": "display_data"
    }
   ],
   "source": [
    "dat.set <- lapply(tr.set, sim.char, par = matrix(c(1, 0, 0, 1), 2, 2,), root = 0)\n",
    "dat.set <- lapply(dat.set, function(x) x[,,1])\n",
    "\n",
    "out <- list(ols = t(sapply(1:length(tr.set), function(i) b.ols(dat.set[[i]], y = 1, x = 2))),\n",
    "             gls = t(sapply(1:length(tr.set), function(i) b.gls(tr.set[[i]], dat.set[[i]], y = 1, x = 2)))\n",
    "                 )\n",
    "colnames(out$ols) <- colnames(out$gls) <- c('intercept', 'slope')\n",
    "                 \n",
    "par(mfrow = c(3, 2)) # set up plotting area\n",
    "                 \n",
    "for(j in c('intercept', 'slope')) {\n",
    "    for(i in c('ols', 'gls')) {\n",
    "        hist(out[[i]][, j], 20, main = paste(i, j), xlim = c(-3, 3))\n",
    "        abline(v = mean(out[[i]][, j]), col= 'red', lty = 'dashed')\n",
    "    } # close i\n",
    "    plot(out$ols[, j], out$gls[, j], xlab = paste('ols', j), ylab = paste('gls', j))\n",
    "    abline(0, 1, col = 'red', lty = 'dashed')\n",
    "  } # close j\n",
    "\n",
    "summary(lm(ols.out[, 2] ~ gls.out[, 2]))\n",
    "summary(lm(ols.out[, 1] ~ gls.out[, 1]))"
   ]
  }
 ],
 "metadata": {
  "anaconda-cloud": {},
  "kernelspec": {
   "display_name": "R",
   "language": "R",
   "name": "ir"
  },
  "language_info": {
   "codemirror_mode": "r",
   "file_extension": ".r",
   "mimetype": "text/x-r-source",
   "name": "R",
   "pygments_lexer": "r",
   "version": "4.2.3"
  }
 },
 "nbformat": 4,
 "nbformat_minor": 1
}

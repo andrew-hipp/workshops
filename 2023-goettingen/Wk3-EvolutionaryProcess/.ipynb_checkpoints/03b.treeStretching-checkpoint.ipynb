{
 "cells": [
  {
   "cell_type": "markdown",
   "metadata": {},
   "source": [
    "# Introduction to phylogenetic comparative methods in R\n",
    "Goettingen 2023  \n",
    "Andrew Hipp, ahipp@mortonarb.org  \n",
    "Tutorial 03b: Stretching the tree and manipulating   \n",
    "Use [static view in nbviewer](https://nbviewer.org/github/andrew-hipp/workshops/blob/master/2023-goettingen/Wk3-EvolutionaryProcess/03b.treeStretching.ipynb) if you are not working directly in Jupyter notebooks.\n",
    "\n",
    "# Session 3b: Evaluating alternative continuous trait evolution models\n",
    "In this tutorial, you'll:\n",
    "1. practice testing for shifts in the rate of evolution on a tree, using an approach adapated from O'Meara's (2006) method\n",
    "1. Use Pagel's $\\lambda$ to test for phylogenetic signal, then visualize the likelihood of your model from $\\lambda$ of 0 to 1."
   ]
  },
  {
   "cell_type": "markdown",
   "metadata": {},
   "source": [
    "# 1. Comparing a one-rate model with a two-rate model\n",
    "\n",
    "Let's start with the example of a very simple censored two-rate model as we discussed in lecture. First let's generate a tree:"
   ]
  },
  {
   "cell_type": "code",
   "execution_count": 1,
   "metadata": {
    "vscode": {
     "languageId": "r"
    }
   },
   "outputs": [
    {
     "name": "stderr",
     "output_type": "stream",
     "text": [
      "Loading required package: ape\n",
      "\n",
      "Loading required package: phytools\n",
      "\n",
      "Loading required package: maps\n",
      "\n"
     ]
    }
   ],
   "source": [
    "library(geiger)\n",
    "library(phytools)\n",
    "tr <- sim.bdtree(n = 20)"
   ]
  },
  {
   "cell_type": "markdown",
   "metadata": {},
   "source": [
    "Now, let's simulate a trait evolving on that tree, with a single shift in the rate of evolution. We'll do so by first transforming the tree so that one clade is stretched out; we'll then simulate data according to a Brownian motion process on that transformed tree:"
   ]
  },
  {
   "cell_type": "code",
   "execution_count": 2,
   "metadata": {
    "vscode": {
     "languageId": "r"
    }
   },
   "outputs": [],
   "source": [
    "tr2 <- ex.ratesimulator(tr, min = 5)\n",
    "dat2 <- sim.char(tr2,1,1)[,,1]"
   ]
  },
  {
   "cell_type": "code",
   "execution_count": 3,
   "metadata": {
    "vscode": {
     "languageId": "r"
    }
   },
   "outputs": [
    {
     "name": "stderr",
     "output_type": "stream",
     "text": [
      "the stretched (high-rate) clade:\n",
      "\n"
     ]
    },
    {
     "name": "stdout",
     "output_type": "stream",
     "text": [
      "[1] \"s12\" \"s13\" \"s14\" \"s15\" \"s16\" \"s17\" \"s18\" \"s19\"\n"
     ]
    },
    {
     "data": {
      "image/png": "[encoded data removed]",
      "text/plain": [
       "Plot with title “rescaled tree”"
      ]
     },
     "metadata": {
      "image/png": {
       "height": 420,
       "width": 420
      }
     },
     "output_type": "display_data"
    }
   ],
   "source": [
    "layout(matrix(1:2, 1))\n",
    "plot(tr, main = 'original tree')\n",
    "plot(tr2, main = 'rescaled tree')\n",
    "message('the stretched (high-rate) clade:')\n",
    "fastCladeTips <- \n",
    "  names(which(round(diag(vcv(tr2)), 3) == max(round(diag(vcv(tr2)), 3))))\n",
    "print(fastCladeTips)"
   ]
  },
  {
   "cell_type": "markdown",
   "metadata": {},
   "source": [
    "Consider what these trees imply. The tree on the left side is our original tree, scaled in units of time. The tree on the right side simulates the effects of a single increase in ch. We can use the `geiger` package to estimate the Brownian motion model parameters on these for the single-rate model:"
   ]
  },
  {
   "cell_type": "code",
   "execution_count": 4,
   "metadata": {
    "vscode": {
     "languageId": "r"
    }
   },
   "outputs": [
    {
     "name": "stdout",
     "output_type": "stream",
     "text": [
      "       fittedToRescaledTree fittedToOriginalTree\n",
      "sigsq  1.609544             57.46375            \n",
      "z0     0.9573943            2.456299            \n",
      "lnL    -43.9637             -63.63626           \n",
      "method \"Brent\"              \"Brent\"             \n",
      "k      2                    2                   \n",
      "aic    91.92739             131.2725            \n",
      "aicc   92.63328             131.9784            \n",
      "aic.w  1                    2.859654e-09        \n"
     ]
    }
   ],
   "source": [
    "models <- list(\n",
    "    fittedToRescaledTree = fitContinuous(tr2, dat2),\n",
    "    fittedToOriginalTree = fitContinuous(tr,dat2)\n",
    ")\n",
    "models.mat <- cbind(fittedToRescaledTree = models$fittedToRescaledTree$opt,\n",
    "                    fittedToOriginalTree = models$fittedToOriginalTree$opt)\n",
    "models.mat <- rbind(models.mat, aic.w = aic.w(as.numeric(models.mat['aic',]))) # here, using phytools function\n",
    "print(models.mat)"
   ]
  },
  {
   "cell_type": "markdown",
   "metadata": {},
   "source": [
    "Not surprisingly, the rescaled tree explains the data better. It confers a higher likelihood on the trait data, because the variance structure of the data was created under the second tree.\n",
    "\n",
    "But imagine that we inferred tree 1 from our data and had some hypotheses about what changes we had found. If we want to test these following the O'Meara method, we'll first we need the pieces of the model. These are the GLS estimators that O'Meara et al. (2006) use to estimate the rate of trait evolution. We'll write a separate functions for each of the following:\n",
    "* The phylogenetic mean (or ancestral state at the root)\n",
    "* Sigma-squared (the rate)\n",
    "* The log-likelihood"
   ]
  },
  {
   "cell_type": "code",
   "execution_count": 5,
   "metadata": {
    "vscode": {
     "languageId": "r"
    }
   },
   "outputs": [],
   "source": [
    "library(ape)\n",
    "\n",
    "rootState <- function(tr, X) {\n",
    "  ## the maximum likelihood estimate of root state based on O'Meara, p. 925\n",
    "  vcvMat <- vcv(tr)\n",
    "  one <- matrix(1, length(X), 1) # a matrix of 1s, as tall as the length of X\n",
    "  B0 <- as.numeric(solve(t(one) %*% solve(vcvMat) %*% one) %*% (t(one) %*% solve(vcvMat) %*% X))\n",
    "  return(B0)\n",
    "  }\n",
    "\n",
    "sigmaSq <- function(tr, X) {\n",
    "  ## following O'Meara 2006, eq. 2\n",
    "  vcvMat <- vcv(tr)\n",
    "  N <- length(X)\n",
    "  E.X <- matrix(rootState(tr, X), length(X), 1) # expected value of X is just the rootstate of X\n",
    "  sigmaSq <- as.numeric((t(X - E.X) %*% solve(vcvMat) %*% (X - E.X)) / N)\n",
    "  out <- list(V = vcvMat * sigmaSq, sigmaSq = sigmaSq, X = X, E.X. = E.X, N = N)\n",
    "  class(out) <- \"phylogSigmaSq\"\n",
    "  return(out)\n",
    "  }\n",
    "\n",
    "logLik.phylogSigmaSq <- function(object, ...) {\n",
    "  # following O'Meara 2006, eq. 3\n",
    "  # takes output from sigmaSq\n",
    "  numer <- exp(-0.5 * t(object$X - object$E.X) %*% solve(object$V) %*% (object$X - object$E.X))\n",
    "  denom <- sqrt((2*pi)^object$N * det(object$V))\n",
    "  out <- log(numer / denom)\n",
    "  attr(out, \"nobs\") <- object$N\n",
    "  attr(out, \"df\") <- 2\n",
    "  class(out) <- \"logLik\"\n",
    "  return(out)\n",
    "  }"
   ]
  },
  {
   "cell_type": "markdown",
   "metadata": {},
   "source": [
    "This is a little clunky, but it should do. Let's try it out with our data and make sure everything works:"
   ]
  },
  {
   "cell_type": "code",
   "execution_count": 6,
   "metadata": {
    "vscode": {
     "languageId": "r"
    }
   },
   "outputs": [
    {
     "name": "stderr",
     "output_type": "stream",
     "text": [
      "our function results:\n",
      "\n"
     ]
    },
    {
     "name": "stdout",
     "output_type": "stream",
     "text": [
      "[1] 2.456299\n",
      "'log Lik.' -63.63626 (df=2)\n",
      "[1] 57.46375\n"
     ]
    },
    {
     "name": "stderr",
     "output_type": "stream",
     "text": [
      "for comparison, results from geiger, fitContinuous:\n",
      "\n"
     ]
    },
    {
     "name": "stdout",
     "output_type": "stream",
     "text": [
      "GEIGER-fitted comparative model of continuous data\n",
      " fitted ‘BM’ model parameters:\n",
      "\tsigsq = 57.463752\n",
      "\tz0 = 2.456299\n",
      "\n",
      " model summary:\n",
      "\tlog-likelihood = -63.636262\n",
      "\tAIC = 131.272524\n",
      "\tAICc = 131.978406\n",
      "\tfree parameters = 2\n",
      "\n",
      "Convergence diagnostics:\n",
      "\toptimization iterations = 100\n",
      "\tfailed iterations = 0\n",
      "\tnumber of iterations with same best fit = 100\n",
      "\tfrequency of best fit = 1.000\n",
      "\n",
      " object summary:\n",
      "\t'lik' -- likelihood function\n",
      "\t'bnd' -- bounds for likelihood search\n",
      "\t'res' -- optimization iteration summary\n",
      "\t'opt' -- maximum likelihood parameter estimates\n"
     ]
    }
   ],
   "source": [
    "d.a <- rootState(tr, dat2)\n",
    "d.s <- sigmaSq(tr, dat2)\n",
    "d.L <- logLik(d.s)\n",
    "message('our function results:')\n",
    "print(d.a)\n",
    "print(d.L)\n",
    "print(d.s$sigmaSq)\n",
    "\n",
    "message('for comparison, results from geiger, fitContinuous:')\n",
    "fitContinuous(tr, dat2) |> print()\n"
   ]
  },
  {
   "cell_type": "markdown",
   "metadata": {},
   "source": [
    "Then, we'll code a function to perform the censored test of O'Meara et al. Our function will take a tree, some definition of how the tree should be split up into groups, and a vector of data. These are the arguments of your function. The value of oour function (what it returns) should include the log-likelihood of the model, the root state, and sigma-squared for each subtree.\n",
    "\n",
    "There are a lot of ways to approach this problem, but I'll walk you through how I might do it. First, we need a function to split a tree into subtrees. Let's call this function `censor`."
   ]
  },
  {
   "cell_type": "code",
   "execution_count": 7,
   "metadata": {
    "vscode": {
     "languageId": "r"
    }
   },
   "outputs": [],
   "source": [
    "censor <- function(tr, taxa = 2) {\n",
    "  ## tr is a tree of class \"phylo\"\n",
    "  ## taxa is a list of taxa defining subtrees, or a single number for the number of subtrees you'd like to define somewhat interactively\n",
    "  if(class(taxa) == \"numeric\" && length(taxa) == 1) {\n",
    "    taxa <- vector(\"list\", taxa)\n",
    "    for(i in seq(length(taxa))) taxa[[i]] <- select.list(tr$tip.label, multiple = TRUE, title = \"Select taxa comprising one subtree\")\n",
    "    }\n",
    "  if(!identical(sort(unlist(taxa)), sort(tr$tip.label))) warning(\"Taxa do not represent non-overlapping sets of taxa on the tree\")\n",
    "  treeList <- vector(\"list\",length(taxa))\n",
    "  for(i in seq(length(taxa))) {\n",
    "    tipsToDrop <- tr$tip.label[-which(tr$tip.label %in% taxa[[i]])]\n",
    "    treeList[[i]] <- drop.tip(tr, tipsToDrop)\n",
    "    }\n",
    "  return(treeList)\n",
    "  }"
   ]
  },
  {
   "cell_type": "markdown",
   "metadata": {},
   "source": [
    "Let's try it out to see how it works on our rescaled tree:"
   ]
  },
  {
   "cell_type": "code",
   "execution_count": 8,
   "metadata": {
    "vscode": {
     "languageId": "r"
    }
   },
   "outputs": [
    {
     "data": {
      "text/plain": [
       "[[1]]\n",
       "\n",
       "Phylogenetic tree with 8 tips and 7 internal nodes.\n",
       "\n",
       "Tip labels:\n",
       "  s12, s13, s14, s15, s16, s17, ...\n",
       "\n",
       "Rooted; includes branch lengths.\n",
       "\n",
       "[[2]]\n",
       "\n",
       "Phylogenetic tree with 12 tips and 11 internal nodes.\n",
       "\n",
       "Tip labels:\n",
       "  s1, s2, s3, s4, s5, s6, ...\n",
       "\n",
       "Rooted; includes branch lengths.\n"
      ]
     },
     "metadata": {},
     "output_type": "display_data"
    },
    {
     "data": {
      "image/png": "[encoded data removed]",
      "text/plain": [
       "plot without title"
      ]
     },
     "metadata": {
      "image/png": {
       "height": 420,
       "width": 420
      }
     },
     "output_type": "display_data"
    }
   ],
   "source": [
    "# then, split that one out:\n",
    "treesOut <- censor(tr, taxa = list(fastCladeTips, setdiff(tr$tip.label, fastCladeTips)))\n",
    "treesOut\n",
    "layout(matrix(1:2, 1))\n",
    "plot(treesOut[[1]])\n",
    "plot(treesOut[[2]])"
   ]
  },
  {
   "cell_type": "markdown",
   "metadata": {},
   "source": [
    "What we've done is to cleave out the fast-evolving clade as a separate subtree."
   ]
  },
  {
   "cell_type": "markdown",
   "metadata": {},
   "source": [
    "Now, we need a function to actually test the models."
   ]
  },
  {
   "cell_type": "code",
   "execution_count": 9,
   "metadata": {
    "vscode": {
     "languageId": "r"
    }
   },
   "outputs": [],
   "source": [
    "testModels <- function(tr, X, multiRateModels = 1, modelList = NULL, ...) {\n",
    "  ## tests a single-rate model against a single multiple-rate models\n",
    "    # -- should be generalized to compare the single-rate model against as many multiple-rate models as you like\n",
    "  ## currently only the censored option is implemented\n",
    "  ## Arguments:\n",
    "  ##  tr = tree of class \"phylo\"\n",
    "  ##  X = vector of trait values\n",
    "  ##  multiRateModels = number of multiple-rate models to test\n",
    "  ##  modelList = list of list of trees; if NULL, trees are created interactively using censor function\n",
    "   \n",
    "  ## 1. Check the data out a bit to catch obvious problems\n",
    "  vcvMat <- vcv(tr)\n",
    "  if(length(X) != dim(vcvMat)[1]) stop(\"This function currently only takes vectors of trait values equal in length to the number of taxa in the tree\")\n",
    "  if(identical(names(X), NULL)) {\n",
    "    warning(\"X has no labels; assumed to be ordered the same as VCV matrix\")\n",
    "    names(X) <- dimnames(vcvMat)[[1]]\n",
    "    }\n",
    "  else {\n",
    "    if(!all(names(X) %in% dimnames(vcvMat)[[1]])) warning(\"X labels not identical to tip labels; traits assumed to be ordered the same as VCV matrix\")\n",
    "    vcvMat <- vcvMat[names(X), names(X)]\n",
    "    }\n",
    "  \n",
    "  ## 2. Set up the models\n",
    "  treeSets <- vector(\"list\", 1 + multiRateModels)\n",
    "  treeSets[[1]] <- list(tr) ## necessary to make this a list of length=1 so that the nested loop below works\n",
    "  maxTrees <- 1\n",
    "  for(i in 2:(1 + multiRateModels)) {\n",
    "    if(class(modelList) == 'list') {\n",
    "      taxa <- length(modelList[[i-1]])\n",
    "      treeSets[[i]] <- modelList[[i-1]] # use trees if provided, or ...\n",
    "      } ## close if\n",
    "    else {\n",
    "      taxa <- as.numeric(select.list(c('2','3','4','5','6','7','8','9','10'), preselect = \"2\", title = \"Select the number of subtrees you would like\"))\n",
    "      treeSets[[i]] <- censor(tr, taxa) # ... do interactive tree creation if no trees are handed in via modelList\n",
    "      } ## close else\n",
    "    maxTrees <- max(taxa, maxTrees)\n",
    "    } ## close i\n",
    "  \n",
    "  ## 3. Set up matrix to capture output\n",
    "  paramsBase <- c(\"sigma.sq\", \"root\")\n",
    "  params <- paste(sort(rep(paramsBase, maxTrees)), rep(1:maxTrees,length(paramsBase)), sep = \".\")\n",
    "  results <- matrix(NA, nrow = length(treeSets), ncol = 2 + length(paramsBase)*maxTrees, dimnames = list(1:length(treeSets), c('lnL', 'df', params)))\n",
    "  for(i in 1:length(treeSets)) {\n",
    "    message(paste('running treeSet', i))\n",
    "    results[i, c('lnL', 'df')] <- c(0,0)\n",
    "    for(j in 1:length(treeSets[[i]])) {\n",
    "      if(class(treeSets[[i]]) != 'phylo') tr.temp <- treeSets[[i]][[j]]\n",
    "      sigma.sq.temp <- sigmaSq(tr.temp, X[tr.temp$tip.label])\n",
    "      lnL.temp <- logLik(sigma.sq.temp)\n",
    "      results[i, c('lnL', 'df')] <- results[i, c('lnL', 'df')] + c(lnL.temp, attr(lnL.temp, 'df'))\n",
    "      results[i, paste(paramsBase, j, sep = \".\")] <- c(sigma.sq.temp$sigmaSq,                         ## sigma.sq\n",
    "                                                       rootState(tr.temp, X[tr.temp$tip.label])  ## root\n",
    "                                                       )                                              ## and close that concatenation\n",
    "    } ## close j\n",
    "  } ## close i\n",
    "  results <- list(treeSets = treeSets, modelSummary = results)\n",
    "  return(results)\n",
    "  }"
   ]
  },
  {
   "cell_type": "markdown",
   "metadata": {},
   "source": [
    "Let's try it out on our dataset from above. Let's imagine that we hypothesize three rate-shift scenarios: a shift at clade (s1, s2, s3); a shift at the simultated rate-shift clade; and a shift at both. We'll compare all of these against the single-rate tree. First, let's set up our models:"
   ]
  },
  {
   "cell_type": "code",
   "execution_count": 10,
   "metadata": {
    "vscode": {
     "languageId": "r"
    }
   },
   "outputs": [],
   "source": [
    "modelset = list(\n",
    "  c1 = censor(tr, taxa = list(\n",
    "      fastCladeTips, \n",
    "      setdiff(tr$tip.label, fastCladeTips))),\n",
    "  c2 = censor(tr, taxa = list(\n",
    "      c('s1', 's2', 's3'), \n",
    "      setdiff(tr$tip.label, c('s1', 's2', 's3')))),\n",
    "  c3 = censor(tr, taxa = list(\n",
    "      c('s1', 's2', 's3'),\n",
    "      fastCladeTips, \n",
    "      setdiff(tr$tip.label, c(fastCladeTips, 's1', 's2', 's3'))))\n",
    ")"
   ]
  },
  {
   "cell_type": "code",
   "execution_count": 11,
   "metadata": {
    "vscode": {
     "languageId": "r"
    }
   },
   "outputs": [
    {
     "name": "stderr",
     "output_type": "stream",
     "text": [
      "running treeSet 1\n",
      "\n",
      "running treeSet 2\n",
      "\n",
      "running treeSet 3\n",
      "\n",
      "running treeSet 4\n",
      "\n"
     ]
    },
    {
     "name": "stdout",
     "output_type": "stream",
     "text": [
      "        lnL df   root.1    root.2    root.3  sigma.sq.1 sigma.sq.2 sigma.sq.3\n",
      "1 -63.63626  2 2.456299        NA        NA  57.4637529         NA         NA\n",
      "2 -42.77046  4 6.458430 0.8596534        NA 138.2217715   1.087417         NA\n",
      "3 -57.41610  4 1.225053 2.4785148        NA   0.2777572  67.436273         NA\n",
      "4 -40.64023  6 1.225053 6.4584299 0.5805832   0.2777572 138.221772  0.9732736\n"
     ]
    }
   ],
   "source": [
    "output <- testModels(tr, dat2, multiRateModels = 3, modelList =modelset)\n",
    "print(output$modelSummary)"
   ]
  },
  {
   "cell_type": "markdown",
   "metadata": {},
   "source": [
    "From this, what would you say is the best-fit model? Take into account both the likelihood and the model complexity. And we'd better add aic in there! Let's make a little aic function:"
   ]
  },
  {
   "cell_type": "code",
   "execution_count": 12,
   "metadata": {
    "vscode": {
     "languageId": "r"
    }
   },
   "outputs": [],
   "source": [
    "#aic = function(L, K) {\n",
    "#  out <- -2 * L + 2 * K\n",
    "#  return(out)\n",
    "#    }\n",
    "\n",
    "## better yet! let's grab the one we wrote earlier:\n",
    "aic <- dget('aic.R')"
   ]
  },
  {
   "cell_type": "markdown",
   "metadata": {},
   "source": [
    "... and add AIC and AIC weights to this table:"
   ]
  },
  {
   "cell_type": "code",
   "execution_count": 13,
   "metadata": {},
   "outputs": [
    {
     "data": {
      "text/html": [
       "<table class=\"dataframe\">\n",
       "<caption>A matrix: 4 × 10 of type dbl</caption>\n",
       "<thead>\n",
       "\t<tr><th></th><th scope=col>aic</th><th scope=col>aiw.w</th><th scope=col>lnL</th><th scope=col>df</th><th scope=col>root.1</th><th scope=col>root.2</th><th scope=col>root.3</th><th scope=col>sigma.sq.1</th><th scope=col>sigma.sq.2</th><th scope=col>sigma.sq.3</th></tr>\n",
       "</thead>\n",
       "<tbody>\n",
       "\t<tr><th scope=row>1</th><td>131.27252</td><td>0.0000</td><td>-63.63626</td><td>2</td><td>2.456299</td><td>       NA</td><td>       NA</td><td> 57.4637529</td><td>        NA</td><td>       NA</td></tr>\n",
       "\t<tr><th scope=row>2</th><td> 93.54092</td><td>0.4675</td><td>-42.77046</td><td>4</td><td>6.458430</td><td>0.8596534</td><td>       NA</td><td>138.2217715</td><td>  1.087417</td><td>       NA</td></tr>\n",
       "\t<tr><th scope=row>3</th><td>122.83220</td><td>0.0000</td><td>-57.41610</td><td>4</td><td>1.225053</td><td>2.4785148</td><td>       NA</td><td>  0.2777572</td><td> 67.436273</td><td>       NA</td></tr>\n",
       "\t<tr><th scope=row>4</th><td> 93.28046</td><td>0.5325</td><td>-40.64023</td><td>6</td><td>1.225053</td><td>6.4584299</td><td>0.5805832</td><td>  0.2777572</td><td>138.221772</td><td>0.9732736</td></tr>\n",
       "</tbody>\n",
       "</table>\n"
      ],
      "text/latex": [
       "A matrix: 4 × 10 of type dbl\n",
       "\\begin{tabular}{r|llllllllll}\n",
       "  & aic & aiw.w & lnL & df & root.1 & root.2 & root.3 & sigma.sq.1 & sigma.sq.2 & sigma.sq.3\\\\\n",
       "\\hline\n",
       "\t1 & 131.27252 & 0.0000 & -63.63626 & 2 & 2.456299 &        NA &        NA &  57.4637529 &         NA &        NA\\\\\n",
       "\t2 &  93.54092 & 0.4675 & -42.77046 & 4 & 6.458430 & 0.8596534 &        NA & 138.2217715 &   1.087417 &        NA\\\\\n",
       "\t3 & 122.83220 & 0.0000 & -57.41610 & 4 & 1.225053 & 2.4785148 &        NA &   0.2777572 &  67.436273 &        NA\\\\\n",
       "\t4 &  93.28046 & 0.5325 & -40.64023 & 6 & 1.225053 & 6.4584299 & 0.5805832 &   0.2777572 & 138.221772 & 0.9732736\\\\\n",
       "\\end{tabular}\n"
      ],
      "text/markdown": [
       "\n",
       "A matrix: 4 × 10 of type dbl\n",
       "\n",
       "| <!--/--> | aic | aiw.w | lnL | df | root.1 | root.2 | root.3 | sigma.sq.1 | sigma.sq.2 | sigma.sq.3 |\n",
       "|---|---|---|---|---|---|---|---|---|---|---|\n",
       "| 1 | 131.27252 | 0.0000 | -63.63626 | 2 | 2.456299 |        NA |        NA |  57.4637529 |         NA |        NA |\n",
       "| 2 |  93.54092 | 0.4675 | -42.77046 | 4 | 6.458430 | 0.8596534 |        NA | 138.2217715 |   1.087417 |        NA |\n",
       "| 3 | 122.83220 | 0.0000 | -57.41610 | 4 | 1.225053 | 2.4785148 |        NA |   0.2777572 |  67.436273 |        NA |\n",
       "| 4 |  93.28046 | 0.5325 | -40.64023 | 6 | 1.225053 | 6.4584299 | 0.5805832 |   0.2777572 | 138.221772 | 0.9732736 |\n",
       "\n"
      ],
      "text/plain": [
       "  aic       aiw.w  lnL       df root.1   root.2    root.3    sigma.sq.1 \n",
       "1 131.27252 0.0000 -63.63626 2  2.456299        NA        NA  57.4637529\n",
       "2  93.54092 0.4675 -42.77046 4  6.458430 0.8596534        NA 138.2217715\n",
       "3 122.83220 0.0000 -57.41610 4  1.225053 2.4785148        NA   0.2777572\n",
       "4  93.28046 0.5325 -40.64023 6  1.225053 6.4584299 0.5805832   0.2777572\n",
       "  sigma.sq.2 sigma.sq.3\n",
       "1         NA        NA \n",
       "2   1.087417        NA \n",
       "3  67.436273        NA \n",
       "4 138.221772 0.9732736 "
      ]
     },
     "metadata": {},
     "output_type": "display_data"
    }
   ],
   "source": [
    "aicTemp <- \n",
    "    aic(L = output$modelSummary[, 1], \n",
    "        K = output$modelSummary[, 2], \n",
    "        n = rep(length(tr$tip.label), dim(output$modelSummary)[1])\n",
    "        )\n",
    "output$modelSummary <- \n",
    "    cbind(\n",
    "        aic = aicTemp$aic,\n",
    "        aiw.w = aicTemp$aic |> aic.w() |> round(4),\n",
    "        output$modelSummary\n",
    "        )\n",
    "output$modelSummary"
   ]
  },
  {
   "cell_type": "markdown",
   "metadata": {},
   "source": [
    "# 2. Phylogenetic signal\n",
    "This is a simpler exercise, but useful because phylogenetic signal --- the degree of phylogenetic autocorrelation in our data --- is a very basic and oft-used descriptive statistic. Here's what we'll do:\n",
    "\n",
    "1. Make a tree. \n",
    "1. Generate data using the ```sim.char``` function on the original tree and the tree rescaled to ```lambda = 0.5```. \n",
    "1. Plot the log-likelihood of our data from lambda = 0 to lambda = 0.5. \n",
    "1. Draw a line at the max(lnL) - 2 as a coarse estimate of the 95% CI."
   ]
  },
  {
   "cell_type": "code",
   "execution_count": 14,
   "metadata": {
    "vscode": {
     "languageId": "r"
    }
   },
   "outputs": [
    {
     "data": {
      "image/png": "[encoded data removed]",
      "text/plain": [
       "Plot with title “lambda tree (0.5)”"
      ]
     },
     "metadata": {
      "image/png": {
       "height": 420,
       "width": 420
      }
     },
     "output_type": "display_data"
    }
   ],
   "source": [
    "library(geiger)\n",
    "library(phytools)\n",
    "\n",
    "tr3 <- pbtree(n = 70)\n",
    "x.raw <- sim.char(tr3, 1)[,,]\n",
    "x.lambda.5 <- sim.char(rescale(tr3, 'lambda', 0.5), 1)[,,]\n",
    "par(mfrow=c(1,2))\n",
    "x.vals <- seq(from = 0, to = 1, by = 0.02)\n",
    "y.raw <- sapply(x.vals, function(w) {\n",
    "    tr.temp <- rescale(tr3, 'lambda', w)\n",
    "    logLik.phylogSigmaSq(sigmaSq(tr.temp, x.raw))\n",
    "    }\n",
    "    )\n",
    "y.lambda <- sapply(x.vals, function(w) {\n",
    "    tr.temp <- rescale(tr3, 'lambda', w)\n",
    "    logLik.phylogSigmaSq(sigmaSq(tr.temp, x.lambda.5))\n",
    "    }\n",
    "    )\n",
    "\n",
    "plot(x.vals, y.raw, main = 'original tree', xlab = 'lambda estimate', ylab = 'lnL', type = 'l')\n",
    "abline(h = max(y.raw)-2, lty = 'dashed')\n",
    "plot(x.vals, y.lambda, main = 'lambda tree (0.5)', xlab = 'lambda estimate', ylab = 'lnL', type = 'l')\n",
    "abline(h = max(y.lambda)-2, lty = 'dashed')"
   ]
  },
  {
   "cell_type": "markdown",
   "metadata": {},
   "source": [
    "We often take parameter point-estimates at face-falue, but the uncertainty around parameter estimates is every bit as important. Using the lnL level of 2 as our significance level is a quick and easy way to visualize the confidence we should have in your point estimate. Try the same exercise with trees of 20 taxa, 50 taxa, 500 taxa. How does your power to detect a lambda < 1 vary with sample size?  "
   ]
  }
 ],
 "metadata": {
  "anaconda-cloud": {},
  "kernelspec": {
   "display_name": "R",
   "language": "R",
   "name": "ir"
  },
  "language_info": {
   "codemirror_mode": "r",
   "file_extension": ".r",
   "mimetype": "text/x-r-source",
   "name": "R",
   "pygments_lexer": "r",
   "version": "4.2.3"
  }
 },
 "nbformat": 4,
 "nbformat_minor": 1
}

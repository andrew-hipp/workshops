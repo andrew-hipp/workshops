{
 "cells": [
  {
   "attachments": {},
   "cell_type": "markdown",
   "metadata": {},
   "source": [
    "# Introduction to phylogenetic comparative methods in R\n",
    "Goettingen 2023  \n",
    "Andrew Hipp, ahipp@mortonarb.org  \n",
    "Tutorial 03b: Stretching the tree and manipulating   \n",
    "Use [static view in nbviewer](https://nbviewer.org/github/andrew-hipp/workshops/blob/master/2023-goettingen/Wk3-EvolutionaryProcess/03b.treeStretching.ipynb) if you are not working directly in Jupyter notebooks.\n",
    "\n",
    "# Session 3b: Evaluating alternative evolutionary models"
   ]
  },
  {
   "attachments": {},
   "cell_type": "markdown",
   "metadata": {},
   "source": [
    "## Comparing a one-rate model with a two-rate model\n",
    "\n",
    "Let's start with the example of a very simple censored two-rate model as we discussed in lecture. First let's generate a tree and some data under a single rate:"
   ]
  },
  {
   "cell_type": "code",
   "execution_count": 7,
   "metadata": {
    "vscode": {
     "languageId": "r"
    }
   },
   "outputs": [],
   "source": [
    "library(geiger)\n",
    "tr <- sim.bdtree(n = 20)\n",
    "dat <- sim.char(tr, 1, 1)"
   ]
  },
  {
   "attachments": {},
   "cell_type": "markdown",
   "metadata": {},
   "source": [
    "then let's transform that tree and simulate a second dataset that has two rates:"
   ]
  },
  {
   "cell_type": "code",
   "execution_count": 8,
   "metadata": {
    "vscode": {
     "languageId": "r"
    }
   },
   "outputs": [],
   "source": [
    "tr2 <- ex.ratesimulator(tr, min = 5)\n",
    "dat2 <- sim.char(tr2,1,1)"
   ]
  },
  {
   "cell_type": "code",
   "execution_count": 9,
   "metadata": {
    "vscode": {
     "languageId": "r"
    }
   },
   "outputs": [
    {
     "data": {
      "image/png": "[encoded data removed]",
      "text/plain": [
       "Plot with title “”"
      ]
     },
     "metadata": {
      "image/png": {
       "height": 420,
       "width": 420
      }
     },
     "output_type": "display_data"
    }
   ],
   "source": [
    "layout(matrix(1:3, 1))\n",
    "plot(tr, main = 'original tree')\n",
    "plot(tr2, main = 'rescaled tree')\n",
    "plot(dat[,,1], dat2[,,1], xlab = 'data, raw tree', ylab = 'data, rescaled tree', main = '')"
   ]
  },
  {
   "attachments": {},
   "cell_type": "markdown",
   "metadata": {},
   "source": [
    "Okay. We can use the `geiger` package to estimate the Brownian motion model parameters on these for the single-rate model:"
   ]
  },
  {
   "cell_type": "code",
   "execution_count": 18,
   "metadata": {
    "vscode": {
     "languageId": "r"
    }
   },
   "outputs": [
    {
     "name": "stdout",
     "output_type": "stream",
     "text": [
      "       orig      origOnRescaled rescaled   rescaledOnOrig\n",
      "sigsq  0.6059365 0.4110369      0.9347183  36.67031      \n",
      "z0     1.777819  1.745502       -0.2267405 -0.3184276    \n",
      "lnL    -21.54245 -31.98374      -40.19936  -62.57193     \n",
      "method \"Brent\"   \"Brent\"        \"Brent\"    \"Brent\"       \n",
      "k      2         2              2          2             \n",
      "aic    47.08491  67.96749       84.39873   129.1439      \n",
      "aicc   47.79079  68.67337       85.10461   129.8497      \n"
     ]
    }
   ],
   "source": [
    "models <- list(\n",
    "    origOnOrig = fitContinuous(tr, dat[,,1]),\n",
    "    origOnRescaled = fitContinuous(tr2, dat[,,1]),\n",
    "    rescaledOnRescaled = fitContinuous(tr2, dat2[,,1]),\n",
    "    rescaledOnOrig = fitContinuous(tr,dat2[,,1])\n",
    ")\n",
    "models.mat <- cbind(orig = models$origOnOrig$opt,\n",
    "                    origOnRescaled = models$origOnRescaled$opt,\n",
    "                    rescaled = models$rescaledOnRescaled$opt,\n",
    "                    rescaledOnOrig = models$rescaledOnOrig$opt)\n",
    "print(models.mat)"
   ]
  },
  {
   "attachments": {},
   "cell_type": "markdown",
   "metadata": {},
   "source": [
    "Now, let's simulate data on each tree under a Brownian motion model. Ordinarily you should do 200--1000 simulations, but we'll just do a few so that this runs quickly. We'll simulate all four data-tree combinations, using the ML estimates of the root and $\\sigma^2$. The model names will be abbreviated with two numbers, where the first number indicates the dataset, the second the model (the tree):"
   ]
  },
  {
   "cell_type": "code",
   "execution_count": 19,
   "metadata": {
    "vscode": {
     "languageId": "r"
    }
   },
   "outputs": [
    {
     "data": {
      "text/html": [
       "<table class=\"dataframe\">\n",
       "<caption>A matrix: 20 × 4 of type dbl</caption>\n",
       "<thead>\n",
       "\t<tr><th scope=col>s12</th><th scope=col>s11</th><th scope=col>s22</th><th scope=col>s21</th></tr>\n",
       "</thead>\n",
       "<tbody>\n",
       "\t<tr><td>-31.98592</td><td>-23.26334</td><td>-32.52162</td><td>-63.54753</td></tr>\n",
       "\t<tr><td>-24.42027</td><td>-18.40896</td><td>-28.64504</td><td>-60.28272</td></tr>\n",
       "\t<tr><td>-33.92945</td><td>-22.60903</td><td>-40.66951</td><td>-62.16665</td></tr>\n",
       "\t<tr><td>-30.52479</td><td>-18.65091</td><td>-35.42241</td><td>-61.93158</td></tr>\n",
       "\t<tr><td>-34.85438</td><td>-24.76764</td><td>-37.33863</td><td>-62.95710</td></tr>\n",
       "\t<tr><td>-35.73557</td><td>-20.21571</td><td>-40.79143</td><td>-64.51090</td></tr>\n",
       "\t<tr><td>-29.59141</td><td>-19.90138</td><td>-37.28263</td><td>-56.19989</td></tr>\n",
       "\t<tr><td>-26.06640</td><td>-17.86840</td><td>-40.02099</td><td>-62.05684</td></tr>\n",
       "\t<tr><td>-34.43232</td><td>-23.76491</td><td>-39.52019</td><td>-67.87239</td></tr>\n",
       "\t<tr><td>-27.39197</td><td>-24.60958</td><td>-41.06547</td><td>-58.49303</td></tr>\n",
       "\t<tr><td>-32.73295</td><td>-20.18009</td><td>-40.12918</td><td>-62.72521</td></tr>\n",
       "\t<tr><td>-31.46229</td><td>-19.54157</td><td>-43.12272</td><td>-63.13316</td></tr>\n",
       "\t<tr><td>-31.03541</td><td>-24.31427</td><td>-35.36456</td><td>-60.42709</td></tr>\n",
       "\t<tr><td>-30.17488</td><td>-25.58369</td><td>-42.75749</td><td>-61.69830</td></tr>\n",
       "\t<tr><td>-29.33666</td><td>-25.47127</td><td>-35.03075</td><td>-62.06396</td></tr>\n",
       "\t<tr><td>-29.00585</td><td>-22.37697</td><td>-38.86508</td><td>-64.29404</td></tr>\n",
       "\t<tr><td>-32.05404</td><td>-21.45308</td><td>-41.87458</td><td>-64.26054</td></tr>\n",
       "\t<tr><td>-29.95480</td><td>-20.25197</td><td>-38.34883</td><td>-59.50308</td></tr>\n",
       "\t<tr><td>-31.37889</td><td>-21.36440</td><td>-36.29912</td><td>-69.15405</td></tr>\n",
       "\t<tr><td>-35.33715</td><td>-18.74050</td><td>-41.55314</td><td>-57.64694</td></tr>\n",
       "</tbody>\n",
       "</table>\n"
      ],
      "text/latex": [
       "A matrix: 20 × 4 of type dbl\n",
       "\\begin{tabular}{llll}\n",
       " s12 & s11 & s22 & s21\\\\\n",
       "\\hline\n",
       "\t -31.98592 & -23.26334 & -32.52162 & -63.54753\\\\\n",
       "\t -24.42027 & -18.40896 & -28.64504 & -60.28272\\\\\n",
       "\t -33.92945 & -22.60903 & -40.66951 & -62.16665\\\\\n",
       "\t -30.52479 & -18.65091 & -35.42241 & -61.93158\\\\\n",
       "\t -34.85438 & -24.76764 & -37.33863 & -62.95710\\\\\n",
       "\t -35.73557 & -20.21571 & -40.79143 & -64.51090\\\\\n",
       "\t -29.59141 & -19.90138 & -37.28263 & -56.19989\\\\\n",
       "\t -26.06640 & -17.86840 & -40.02099 & -62.05684\\\\\n",
       "\t -34.43232 & -23.76491 & -39.52019 & -67.87239\\\\\n",
       "\t -27.39197 & -24.60958 & -41.06547 & -58.49303\\\\\n",
       "\t -32.73295 & -20.18009 & -40.12918 & -62.72521\\\\\n",
       "\t -31.46229 & -19.54157 & -43.12272 & -63.13316\\\\\n",
       "\t -31.03541 & -24.31427 & -35.36456 & -60.42709\\\\\n",
       "\t -30.17488 & -25.58369 & -42.75749 & -61.69830\\\\\n",
       "\t -29.33666 & -25.47127 & -35.03075 & -62.06396\\\\\n",
       "\t -29.00585 & -22.37697 & -38.86508 & -64.29404\\\\\n",
       "\t -32.05404 & -21.45308 & -41.87458 & -64.26054\\\\\n",
       "\t -29.95480 & -20.25197 & -38.34883 & -59.50308\\\\\n",
       "\t -31.37889 & -21.36440 & -36.29912 & -69.15405\\\\\n",
       "\t -35.33715 & -18.74050 & -41.55314 & -57.64694\\\\\n",
       "\\end{tabular}\n"
      ],
      "text/markdown": [
       "\n",
       "A matrix: 20 × 4 of type dbl\n",
       "\n",
       "| s12 | s11 | s22 | s21 |\n",
       "|---|---|---|---|\n",
       "| -31.98592 | -23.26334 | -32.52162 | -63.54753 |\n",
       "| -24.42027 | -18.40896 | -28.64504 | -60.28272 |\n",
       "| -33.92945 | -22.60903 | -40.66951 | -62.16665 |\n",
       "| -30.52479 | -18.65091 | -35.42241 | -61.93158 |\n",
       "| -34.85438 | -24.76764 | -37.33863 | -62.95710 |\n",
       "| -35.73557 | -20.21571 | -40.79143 | -64.51090 |\n",
       "| -29.59141 | -19.90138 | -37.28263 | -56.19989 |\n",
       "| -26.06640 | -17.86840 | -40.02099 | -62.05684 |\n",
       "| -34.43232 | -23.76491 | -39.52019 | -67.87239 |\n",
       "| -27.39197 | -24.60958 | -41.06547 | -58.49303 |\n",
       "| -32.73295 | -20.18009 | -40.12918 | -62.72521 |\n",
       "| -31.46229 | -19.54157 | -43.12272 | -63.13316 |\n",
       "| -31.03541 | -24.31427 | -35.36456 | -60.42709 |\n",
       "| -30.17488 | -25.58369 | -42.75749 | -61.69830 |\n",
       "| -29.33666 | -25.47127 | -35.03075 | -62.06396 |\n",
       "| -29.00585 | -22.37697 | -38.86508 | -64.29404 |\n",
       "| -32.05404 | -21.45308 | -41.87458 | -64.26054 |\n",
       "| -29.95480 | -20.25197 | -38.34883 | -59.50308 |\n",
       "| -31.37889 | -21.36440 | -36.29912 | -69.15405 |\n",
       "| -35.33715 | -18.74050 | -41.55314 | -57.64694 |\n",
       "\n"
      ],
      "text/plain": [
       "      s12       s11       s22       s21      \n",
       " [1,] -31.98592 -23.26334 -32.52162 -63.54753\n",
       " [2,] -24.42027 -18.40896 -28.64504 -60.28272\n",
       " [3,] -33.92945 -22.60903 -40.66951 -62.16665\n",
       " [4,] -30.52479 -18.65091 -35.42241 -61.93158\n",
       " [5,] -34.85438 -24.76764 -37.33863 -62.95710\n",
       " [6,] -35.73557 -20.21571 -40.79143 -64.51090\n",
       " [7,] -29.59141 -19.90138 -37.28263 -56.19989\n",
       " [8,] -26.06640 -17.86840 -40.02099 -62.05684\n",
       " [9,] -34.43232 -23.76491 -39.52019 -67.87239\n",
       "[10,] -27.39197 -24.60958 -41.06547 -58.49303\n",
       "[11,] -32.73295 -20.18009 -40.12918 -62.72521\n",
       "[12,] -31.46229 -19.54157 -43.12272 -63.13316\n",
       "[13,] -31.03541 -24.31427 -35.36456 -60.42709\n",
       "[14,] -30.17488 -25.58369 -42.75749 -61.69830\n",
       "[15,] -29.33666 -25.47127 -35.03075 -62.06396\n",
       "[16,] -29.00585 -22.37697 -38.86508 -64.29404\n",
       "[17,] -32.05404 -21.45308 -41.87458 -64.26054\n",
       "[18,] -29.95480 -20.25197 -38.34883 -59.50308\n",
       "[19,] -31.37889 -21.36440 -36.29912 -69.15405\n",
       "[20,] -35.33715 -18.74050 -41.55314 -57.64694"
      ]
     },
     "metadata": {},
     "output_type": "display_data"
    }
   ],
   "source": [
    "sims <- list(\n",
    "    s12 = sim.char(tr2, par = as.numeric(models.mat['sigsq', 'origOnRescaled']), root = as.numeric(models.mat['z0', 'origOnRescaled']), nsim = 20),\n",
    "    s11 = sim.char(tr, par = as.numeric(models.mat['sigsq', 'orig']), root = as.numeric(models.mat['z0', 'orig']), nsim = 20),\n",
    "    s22 = sim.char(tr2, par = as.numeric(models.mat['sigsq', 'rescaled']), root = as.numeric(models.mat['z0', 'rescaled']), nsim = 20),\n",
    "    s21 = sim.char(tr, par = as.numeric(models.mat['sigsq', 'rescaledOnOrig']), root = as.numeric(models.mat['z0', 'rescaledOnOrig']), nsim = 20)\n",
    ")\n",
    "sims.out <- sapply(names(sims), function(x) {\n",
    "    if(substr(x,3,3) == 2) simTree <- tr2\n",
    "        else simTree <- tr\n",
    "    out <- apply(sims[[x]], 3, function(y) fitContinuous(simTree, y)$opt$lnL)\n",
    "    out\n",
    "        })\n",
    "sims.out"
   ]
  },
  {
   "attachments": {},
   "cell_type": "markdown",
   "metadata": {},
   "source": [
    "Now, it is to you to figure out how well your data fit. Use the likelihood ratio $-2 (lnL_{model1} - lnL_{model2})$ as your test statistic, and compare the observed to the distribution."
   ]
  },
  {
   "attachments": {},
   "cell_type": "markdown",
   "metadata": {},
   "source": [
    "# Tutorial questions, Tree stretching\n",
    "We have covered most of the basics of tree stretching in lecture. Work on the following four challenge questions. You are welcome to pilfer code from the lectures, but try (especially in questions 1 and 4) to work directly from the literature. Sometimes methods published in the literature do not have a packaged software implementation, and sometimes even when there is one it is cumbersome to use, either in its own rights or because it does not work well with your workflow. O'Meara et al. 2006 and Blomberg et al. 2003 are a good place to start learning to implmenet methods.\n",
    "\n",
    "1. Code the GLS estimators that O'Meara et al. (2006) use to estimate the rate of trait evolution. Use separate functions for each of the following:\n",
    "    * The phylogenetic mean (or ancestral state at the root)\n",
    "    * Sigma-squared (the rate)\n",
    "    * The log-likelihood\n",
    "\n",
    "2. Make a tree. Generate data using the ```sim.char``` function on the original tree and the tree rescaled to ```lambda = 0.5```. Plot the log-likelihood of your data from lambda = 0 to lambda = 0.5. Using a lnL level of 2 as your significance level, visualize the confidence you should have in your point estimate. Try the same exercise with several trees of 20 taxa and several of 50 taxa. How does your power to detect a lambda < 1 vary with sample size?  \n",
    "\n",
    "3. Code a function to perform the censored test of O'Meara et al. Your function should take a tree, some definition of how the tree should be split up into groups, and a vector of data. These are the arguments of your function. The value of your function (what it returns) should include the log-likelihood of the model, the root state, and sigma-squared for each subtree.\n",
    "\n",
    "4. Code the GLS version of Blomberg's ```K``` (hint: use the formulas in the text _and_ Appendix 2 from Blomberg et al. 2003).\n",
    "\n",
    "# Challenge questions to pursue on your own\n",
    "1. Use the ```rescale``` function from ```geiger``` to investigate the effects of Pagel's lambda, delta, and kappa on a tree. Compare the \"lambda\" model to the \"OU\" model. \n",
    "\n",
    "2. Use the ```pmc``` model to do Boettiger et al.'s (2012) bootstrapping approach. Work through the vignette:\n",
    "\n",
    "```\n",
    "library(pmc)\n",
    "vignette('pmc_tutorial')\n",
    "```\n",
    "\n",
    "3. Code O'Meara et al.'s expected disparity statistic; you can disregard the sigma-squared at the beginning for this exercise. What do the terms of ```E(disparity)``` mean? Make one tree, and scale it from no phylogenetic signal (e.g., ```rescale(tr, 'lambda', 0)```) to very high phylogenetic signal (e.g., ```rescale(tr, 'delta', 0.01)```). How do these rescalings affect ```E(disparity)``` on a given tree? "
   ]
  },
  {
   "attachments": {},
   "cell_type": "markdown",
   "metadata": {},
   "source": [
    "# Tutorial question help -- Try before you peek!\n",
    "Below are possible ways of approaching the tutorial questions. Use these hints if you get stuck, or compare your results to these to see whether your approach converges on mine."
   ]
  },
  {
   "attachments": {},
   "cell_type": "markdown",
   "metadata": {},
   "source": [
    "### Question 1: phylogenetic rate"
   ]
  },
  {
   "cell_type": "code",
   "execution_count": 3,
   "metadata": {
    "vscode": {
     "languageId": "r"
    }
   },
   "outputs": [],
   "source": [
    "library(ape)\n",
    "\n",
    "rootState <- function(tr, X) {\n",
    "  ## the maximum likelihood estimate of root state based on O'Meara, p. 925\n",
    "  vcvMat <- vcv(tr)\n",
    "  one <- matrix(1, length(X), 1) # a matrix of 1s, as tall as the length of X\n",
    "  B0 <- as.numeric(solve(t(one) %*% solve(vcvMat) %*% one) %*% (t(one) %*% solve(vcvMat) %*% X))\n",
    "  return(B0)\n",
    "  }\n",
    "\n",
    "sigmaSq <- function(tr, X) {\n",
    "  ## following O'Meara 2006, eq. 2\n",
    "  vcvMat <- vcv(tr)\n",
    "  N <- length(X)\n",
    "  E.X <- matrix(rootState(tr, X), length(X), 1) # expected value of X is just the rootstate of X\n",
    "  sigmaSq <- as.numeric((t(X - E.X) %*% solve(vcvMat) %*% (X - E.X)) / N)\n",
    "  out <- list(V = vcvMat * sigmaSq, sigmaSq = sigmaSq, X = X, E.X. = E.X, N = N)\n",
    "  class(out) <- \"phylogSigmaSq\"\n",
    "  return(out)\n",
    "  }\n",
    "\n",
    "logLik.phylogSigmaSq <- function(object, ...) {\n",
    "    # following O'Meara 2006, eq. 3\n",
    "    # takes output from sigmaSq\n",
    "numer <- exp(-0.5 * t(object$X - object$E.X) %*% solve(object$V) %*% (object$X - object$E.X))\n",
    "  denom <- sqrt((2*pi)^object$N * det(object$V))\n",
    "  out <- log(numer / denom)\n",
    "  attr(out, \"nobs\") <- object$N\n",
    "  attr(out, \"df\") <- 2\n",
    "  class(out) <- \"logLik\"\n",
    "  return(out)\n",
    "  }"
   ]
  },
  {
   "attachments": {},
   "cell_type": "markdown",
   "metadata": {},
   "source": [
    "#### Question 2 : likelihood surface"
   ]
  },
  {
   "cell_type": "code",
   "execution_count": 4,
   "metadata": {
    "vscode": {
     "languageId": "r"
    }
   },
   "outputs": [
    {
     "data": {
      "image/png": "[encoded data removed]",
      "text/plain": [
       "Plot with title “lambda tree (0.5)”"
      ]
     },
     "metadata": {
      "image/png": {
       "height": 420,
       "width": 420
      }
     },
     "output_type": "display_data"
    }
   ],
   "source": [
    "library(geiger)\n",
    "library(phytools)\n",
    "\n",
    "tr3 <- pbtree(n = 70)\n",
    "x.raw <- sim.char(tr3, 1)[,,]\n",
    "x.lambda.5 <- sim.char(rescale(tr3, 'lambda', 0.5), 1)[,,]\n",
    "par(mfrow=c(1,2))\n",
    "x.vals <- seq(from = 0, to = 1, by = 0.02)\n",
    "y.raw <- sapply(x.vals, function(w) {\n",
    "    tr.temp <- rescale(tr3, 'lambda', w)\n",
    "    logLik.phylogSigmaSq(sigmaSq(tr.temp, x.raw))\n",
    "    }\n",
    "    )\n",
    "y.lambda <- sapply(x.vals, function(w) {\n",
    "    tr.temp <- rescale(tr3, 'lambda', w)\n",
    "    logLik.phylogSigmaSq(sigmaSq(tr.temp, x.lambda.5))\n",
    "    }\n",
    "    )\n",
    "\n",
    "plot(x.vals, y.raw, main = 'original tree', xlab = 'lambda estimate', ylab = 'lnL', type = 'l')\n",
    "abline(h = max(y.raw)-2, lty = 'dashed')\n",
    "plot(x.vals, y.lambda, main = 'lambda tree (0.5)', xlab = 'lambda estimate', ylab = 'lnL', type = 'l')\n",
    "abline(h = max(y.lambda)-2, lty = 'dashed')"
   ]
  },
  {
   "attachments": {},
   "cell_type": "markdown",
   "metadata": {},
   "source": [
    "##### Question 3 : the censored test\n",
    "There are lots of ways to implement this. I've written here a sort of sampler function that shows how I would approach the problem... compare it to how you approached the problem, and take what what you like, leave what you don't."
   ]
  },
  {
   "cell_type": "code",
   "execution_count": 5,
   "metadata": {
    "vscode": {
     "languageId": "r"
    }
   },
   "outputs": [],
   "source": [
    "censor <- function(tr, taxa = 2) {\n",
    "  ## tr is a tree of class \"phylo\"\n",
    "  ## taxa is a list of taxa defining subtrees, or a single number for the number of subtrees you'd like to define somewhat interactively\n",
    "  if(class(taxa) == \"numeric\" && length(taxa) == 1) {\n",
    "    taxa <- vector(\"list\", taxa)\n",
    "    for(i in seq(length(taxa))) taxa[[i]] <- select.list(tr$tip.label, multiple = TRUE, title = \"Select taxa comprising one subtree\")\n",
    "    }\n",
    "  if(!identical(sort(unlist(taxa)), sort(tr$tip.label))) warning(\"Taxa do not represent non-overlapping sets of taxa on the tree\")\n",
    "  treeList <- vector(\"list\",length(taxa))\n",
    "  for(i in seq(length(taxa))) {\n",
    "    tipsToDrop <- tr$tip.label[-which(tr$tip.label %in% taxa[[i]])]\n",
    "    treeList[[i]] <- drop.tip(tr, tipsToDrop)\n",
    "    }\n",
    "  return(treeList)\n",
    "  }\n",
    "\n",
    "testModels <- function(tr, X, multiRateModels = 1, modelList = NULL, ...) {\n",
    "  ## tests a single-rate model against a single multiple-rate models\n",
    "    # -- should be generalized to compare the single-rate model against as many multiple-rate models as you like\n",
    "  ## currently only the censored option is implemented\n",
    "  ## Arguments:\n",
    "  ##  tr = tree of class \"phylo\"\n",
    "  ##  X = vector of trait values\n",
    "  ##  multiRateModels = number of multiple-rate models to test\n",
    "  ##  modelList = list of list of trees; if NULL, trees are created interactively using censor function\n",
    "   \n",
    "  ## 1. Check the data out a bit to catch obvious problems\n",
    "  vcvMat <- vcv(tr)\n",
    "  if(length(X) != dim(vcvMat)[1]) stop(\"This function currently only takes vectors of trait values equal in length to the number of taxa in the tree\")\n",
    "  if(identical(names(X), NULL)) {\n",
    "    warning(\"X has no labels; assumed to be ordered the same as VCV matrix\")\n",
    "    names(X) <- dimnames(vcvMat)[[1]]\n",
    "    }\n",
    "  else {\n",
    "    if(!all(names(X) %in% dimnames(vcvMat)[[1]])) warning(\"X labels not identical to tip labels; traits assumed to be ordered the same as VCV matrix\")\n",
    "    vcvMat <- vcvMat[names(X), names(X)]\n",
    "    }\n",
    "  \n",
    "  ## 2. Set up the models\n",
    "  treeSets <- vector(\"list\", 1 + multiRateModels)\n",
    "  treeSets[[1]] <- list(tr) ## necessary to make this a list of length=1 so that the nested loop below works\n",
    "  maxTrees <- 1\n",
    "  for(i in 2:(1 + multiRateModels)) {\n",
    "    if(class(modelList) == 'list') {\n",
    "      taxa <- length(modelList[[i]])\n",
    "      treeSets[[i]] <- modelList[[i]] # use trees if provided, or ...\n",
    "      } ## close if\n",
    "    else {\n",
    "      taxa <- as.numeric(select.list(c('2','3','4','5','6','7','8','9','10'), preselect = \"2\", title = \"Select the number of subtrees you would like\"))\n",
    "      treeSets[[i]] <- censor(tr, taxa) # ... do interactive tree creation if no trees are handed in via modelList\n",
    "      } ## close else\n",
    "    maxTrees <- max(taxa, maxTrees)\n",
    "    } ## close i\n",
    "  \n",
    "  ## 3. Set up matrix to capture output\n",
    "  paramsBase <- c(\"sigma.sq\", \"root\")\n",
    "  params <- paste(sort(rep(paramsBase, maxTrees)), rep(1:maxTrees,length(paramsBase)), sep = \".\")\n",
    "  results <- matrix(NA, nrow = length(treeSets), ncol = 2 + length(paramsBase)*maxTrees, dimnames = list(1:length(treeSets), c('lnL', 'df', params)))\n",
    "  for(i in 1:length(treeSets)) {\n",
    "    results[i, c('lnL', 'df')] <- c(0,0)\n",
    "    for(j in 1:length(treeSets[[i]])) {\n",
    "      tr.temp <- treeSets[[i]][[j]]\n",
    "      sigma.sq.temp <- sigmaSq(vcv(tr.temp), X[tr.temp$tip.label])\n",
    "      lnL.temp <- logLik(sigma.sq.temp)\n",
    "      results[i, c('lnL', 'df')] <- results[i, c('lnL', 'df')] + c(lnL.temp, attr(lnL.temp, 'df'))\n",
    "      results[i, paste(paramsBase, j, sep = \".\")] <- c(sigma.sq.temp$sigmaSq,                         ## sigma.sq\n",
    "                                                       rootState(vcv(tr.temp), X[tr.temp$tip.label])  ## root\n",
    "                                                       )                                              ## and close that concatenation\n",
    "    } ## close j\n",
    "  } ## close i\n",
    "  results <- list(treeSets = treeSets, modelSummary = results)\n",
    "  return(results)\n",
    "  }"
   ]
  },
  {
   "cell_type": "code",
   "execution_count": 10,
   "metadata": {
    "vscode": {
     "languageId": "r"
    }
   },
   "outputs": [
    {
     "name": "stderr",
     "output_type": "stream",
     "text": [
      "Warning message in .geigerwarn(immediate. = TRUE):\n",
      "“the called function is currently in development and is not fully vetted”\n"
     ]
    },
    {
     "name": "stdout",
     "output_type": "stream",
     "text": [
      "|                   GENERATIONS COMPLETE                   | \n",
      ". . . . . . . . . . . . . . . . . . . . . . . . . . . . . \n",
      "\n",
      "                      SAMPLING SUMMARY \n",
      "                  proposed        accepted       adoptrate\n",
      "mergesplit            9675              54          0.0056\n",
      "rootstate             1252             735          0.5871\n",
      "ratetune               962             838          0.8711\n",
      "moveshift              915             364          0.3978\n",
      "ratescale             8284            8172          0.9865\n",
      "movejump              9391             887          0.0945\n",
      "incjump               4880             507          0.1039\n",
      "decjump               4590             506          0.1102\n",
      "jumpvar               8300            7945          0.9572\n",
      "SE                    1751             965          0.5511\n",
      "\n",
      "\n"
     ]
    }
   ],
   "source": [
    "rjRun <- rjmcmc.bm(multi2di(tr), dat2[,,1], filebase = 'jumpTrial') # running with default 20,000 generations"
   ]
  },
  {
   "cell_type": "code",
   "execution_count": 11,
   "metadata": {
    "vscode": {
     "languageId": "r"
    }
   },
   "outputs": [
    {
     "data": {
      "text/html": [
       "<table class=\"dataframe\">\n",
       "<caption>A data.frame: 38 × 3</caption>\n",
       "<thead>\n",
       "\t<tr><th></th><th scope=col>branch</th><th scope=col>jump.probability</th><th scope=col>jump.counts</th></tr>\n",
       "\t<tr><th></th><th scope=col>&lt;int&gt;</th><th scope=col>&lt;dbl&gt;</th><th scope=col>&lt;dbl&gt;</th></tr>\n",
       "</thead>\n",
       "<tbody>\n",
       "\t<tr><th scope=row>edc30f64126263e13e3cf65edb0d8fd1</th><td>22</td><td>0.002666667</td><td>1</td></tr>\n",
       "\t<tr><th scope=row>1cb668b0b4e308bf912f51259cb94dc5</th><td> 1</td><td>0.010666667</td><td>1</td></tr>\n",
       "\t<tr><th scope=row>bff1537d555fb58aed2f3060f331de5a</th><td> 2</td><td>0.005333333</td><td>1</td></tr>\n",
       "\t<tr><th scope=row>c50ea83675169ae609e1d660d446b761</th><td>23</td><td>0.002666667</td><td>1</td></tr>\n",
       "\t<tr><th scope=row>f666594ca1c3c03b3fe7228327d1205d</th><td>24</td><td>0.002666667</td><td>1</td></tr>\n",
       "\t<tr><th scope=row>219b5fad16c8c20d4fe6ba3546eabb47</th><td>25</td><td>0.008000000</td><td>1</td></tr>\n",
       "\t<tr><th scope=row>423f7aacfe80269592d0ff45a45f3036</th><td> 3</td><td>0.000000000</td><td>0</td></tr>\n",
       "\t<tr><th scope=row>19ef93e00e1a208155c308b40189a69a</th><td>26</td><td>0.008000000</td><td>1</td></tr>\n",
       "\t<tr><th scope=row>876dcf227226c96acc3bcf507e8a5449</th><td> 4</td><td>0.000000000</td><td>0</td></tr>\n",
       "\t<tr><th scope=row>70d4849cc708c098779eafcccd506cb2</th><td> 5</td><td>0.002666667</td><td>1</td></tr>\n",
       "\t<tr><th scope=row>a099562e8d113e94a7a2a2d87e643024</th><td>27</td><td>0.000000000</td><td>0</td></tr>\n",
       "\t<tr><th scope=row>11c2cf99484602d49c14f083d8ca914e</th><td>28</td><td>0.008000000</td><td>1</td></tr>\n",
       "\t<tr><th scope=row>3aa85fe0fbe1a645f94764b79e5617f9</th><td>29</td><td>0.000000000</td><td>0</td></tr>\n",
       "\t<tr><th scope=row>476a6dc5a13cc2db726e578cf74d46f9</th><td> 6</td><td>0.000000000</td><td>0</td></tr>\n",
       "\t<tr><th scope=row>2dbfe3b1ff369a5bd51a872c4b78606d</th><td> 7</td><td>0.000000000</td><td>0</td></tr>\n",
       "\t<tr><th scope=row>f02f58ca56bcd50231522eeaf83d04fb</th><td>30</td><td>0.000000000</td><td>0</td></tr>\n",
       "\t<tr><th scope=row>fcbbcd0fd6cac5934ee42cd4eb340a3f</th><td> 8</td><td>0.002666667</td><td>1</td></tr>\n",
       "\t<tr><th scope=row>6de5912e12cdb6f8d1330215f798f3a2</th><td> 9</td><td>0.000000000</td><td>0</td></tr>\n",
       "\t<tr><th scope=row>8062da15235f370e560f6278bd55ab4e</th><td>31</td><td>0.000000000</td><td>0</td></tr>\n",
       "\t<tr><th scope=row>b850f634479ae2531719365fadc10059</th><td>32</td><td>0.005333333</td><td>1</td></tr>\n",
       "\t<tr><th scope=row>b08e7d7ae49cb525fbf4ba0b1c9793bb</th><td>33</td><td>0.010666667</td><td>1</td></tr>\n",
       "\t<tr><th scope=row>5bfa49847eb7f534f42ea3716b7f319f</th><td>34</td><td>0.018666667</td><td>1</td></tr>\n",
       "\t<tr><th scope=row>2a84331c882f40ba183b194e60820571</th><td>35</td><td>0.024000000</td><td>1</td></tr>\n",
       "\t<tr><th scope=row>f4d7b9e09082b03ec4c01297d75fcf0d</th><td>10</td><td>0.026666667</td><td>1</td></tr>\n",
       "\t<tr><th scope=row>3cd8be7566d4ccf0f7a46049b6f662b1</th><td>11</td><td>0.005333333</td><td>1</td></tr>\n",
       "\t<tr><th scope=row>d4a63dc27d7f4505fe44420947d97391</th><td>12</td><td>0.008000000</td><td>1</td></tr>\n",
       "\t<tr><th scope=row>7bd23095b33f6b27cc0eda4b3a797db9</th><td>13</td><td>0.005333333</td><td>1</td></tr>\n",
       "\t<tr><th scope=row>e71ac348345c38d033ab6cb143a35fd5</th><td>14</td><td>0.002666667</td><td>1</td></tr>\n",
       "\t<tr><th scope=row>e7c802edaac5b96c39c4fe9efce3bf05</th><td>15</td><td>0.005333333</td><td>1</td></tr>\n",
       "\t<tr><th scope=row>e81e571c27adfa0d77c4674435d13438</th><td>36</td><td>0.002666667</td><td>1</td></tr>\n",
       "\t<tr><th scope=row>2d08fa64c8c54cd782577d9840fb880b</th><td>16</td><td>0.018666667</td><td>1</td></tr>\n",
       "\t<tr><th scope=row>16a3a77da33cbb0bdd6d518388e14909</th><td>37</td><td>0.002666667</td><td>1</td></tr>\n",
       "\t<tr><th scope=row>146277d70296f2ac0296068bd6964e4a</th><td>17</td><td>0.000000000</td><td>0</td></tr>\n",
       "\t<tr><th scope=row>886d99a22fef602333502aa0beae171d</th><td>38</td><td>1.000000000</td><td>1</td></tr>\n",
       "\t<tr><th scope=row>c6eeb501fbc77c2dbba75847946712e0</th><td>39</td><td>0.002666667</td><td>1</td></tr>\n",
       "\t<tr><th scope=row>0b0ef76684583f00126940688f9ff8d0</th><td>18</td><td>0.005333333</td><td>1</td></tr>\n",
       "\t<tr><th scope=row>af6d367f82633312b8ba2ec200010f24</th><td>19</td><td>0.008000000</td><td>1</td></tr>\n",
       "\t<tr><th scope=row>2b0c0a3f7103df1be9aa8849e6664b22</th><td>20</td><td>0.000000000</td><td>0</td></tr>\n",
       "</tbody>\n",
       "</table>\n"
      ],
      "text/latex": [
       "A data.frame: 38 × 3\n",
       "\\begin{tabular}{r|lll}\n",
       "  & branch & jump.probability & jump.counts\\\\\n",
       "  & <int> & <dbl> & <dbl>\\\\\n",
       "\\hline\n",
       "\tedc30f64126263e13e3cf65edb0d8fd1 & 22 & 0.002666667 & 1\\\\\n",
       "\t1cb668b0b4e308bf912f51259cb94dc5 &  1 & 0.010666667 & 1\\\\\n",
       "\tbff1537d555fb58aed2f3060f331de5a &  2 & 0.005333333 & 1\\\\\n",
       "\tc50ea83675169ae609e1d660d446b761 & 23 & 0.002666667 & 1\\\\\n",
       "\tf666594ca1c3c03b3fe7228327d1205d & 24 & 0.002666667 & 1\\\\\n",
       "\t219b5fad16c8c20d4fe6ba3546eabb47 & 25 & 0.008000000 & 1\\\\\n",
       "\t423f7aacfe80269592d0ff45a45f3036 &  3 & 0.000000000 & 0\\\\\n",
       "\t19ef93e00e1a208155c308b40189a69a & 26 & 0.008000000 & 1\\\\\n",
       "\t876dcf227226c96acc3bcf507e8a5449 &  4 & 0.000000000 & 0\\\\\n",
       "\t70d4849cc708c098779eafcccd506cb2 &  5 & 0.002666667 & 1\\\\\n",
       "\ta099562e8d113e94a7a2a2d87e643024 & 27 & 0.000000000 & 0\\\\\n",
       "\t11c2cf99484602d49c14f083d8ca914e & 28 & 0.008000000 & 1\\\\\n",
       "\t3aa85fe0fbe1a645f94764b79e5617f9 & 29 & 0.000000000 & 0\\\\\n",
       "\t476a6dc5a13cc2db726e578cf74d46f9 &  6 & 0.000000000 & 0\\\\\n",
       "\t2dbfe3b1ff369a5bd51a872c4b78606d &  7 & 0.000000000 & 0\\\\\n",
       "\tf02f58ca56bcd50231522eeaf83d04fb & 30 & 0.000000000 & 0\\\\\n",
       "\tfcbbcd0fd6cac5934ee42cd4eb340a3f &  8 & 0.002666667 & 1\\\\\n",
       "\t6de5912e12cdb6f8d1330215f798f3a2 &  9 & 0.000000000 & 0\\\\\n",
       "\t8062da15235f370e560f6278bd55ab4e & 31 & 0.000000000 & 0\\\\\n",
       "\tb850f634479ae2531719365fadc10059 & 32 & 0.005333333 & 1\\\\\n",
       "\tb08e7d7ae49cb525fbf4ba0b1c9793bb & 33 & 0.010666667 & 1\\\\\n",
       "\t5bfa49847eb7f534f42ea3716b7f319f & 34 & 0.018666667 & 1\\\\\n",
       "\t2a84331c882f40ba183b194e60820571 & 35 & 0.024000000 & 1\\\\\n",
       "\tf4d7b9e09082b03ec4c01297d75fcf0d & 10 & 0.026666667 & 1\\\\\n",
       "\t3cd8be7566d4ccf0f7a46049b6f662b1 & 11 & 0.005333333 & 1\\\\\n",
       "\td4a63dc27d7f4505fe44420947d97391 & 12 & 0.008000000 & 1\\\\\n",
       "\t7bd23095b33f6b27cc0eda4b3a797db9 & 13 & 0.005333333 & 1\\\\\n",
       "\te71ac348345c38d033ab6cb143a35fd5 & 14 & 0.002666667 & 1\\\\\n",
       "\te7c802edaac5b96c39c4fe9efce3bf05 & 15 & 0.005333333 & 1\\\\\n",
       "\te81e571c27adfa0d77c4674435d13438 & 36 & 0.002666667 & 1\\\\\n",
       "\t2d08fa64c8c54cd782577d9840fb880b & 16 & 0.018666667 & 1\\\\\n",
       "\t16a3a77da33cbb0bdd6d518388e14909 & 37 & 0.002666667 & 1\\\\\n",
       "\t146277d70296f2ac0296068bd6964e4a & 17 & 0.000000000 & 0\\\\\n",
       "\t886d99a22fef602333502aa0beae171d & 38 & 1.000000000 & 1\\\\\n",
       "\tc6eeb501fbc77c2dbba75847946712e0 & 39 & 0.002666667 & 1\\\\\n",
       "\t0b0ef76684583f00126940688f9ff8d0 & 18 & 0.005333333 & 1\\\\\n",
       "\taf6d367f82633312b8ba2ec200010f24 & 19 & 0.008000000 & 1\\\\\n",
       "\t2b0c0a3f7103df1be9aa8849e6664b22 & 20 & 0.000000000 & 0\\\\\n",
       "\\end{tabular}\n"
      ],
      "text/markdown": [
       "\n",
       "A data.frame: 38 × 3\n",
       "\n",
       "| <!--/--> | branch &lt;int&gt; | jump.probability &lt;dbl&gt; | jump.counts &lt;dbl&gt; |\n",
       "|---|---|---|---|\n",
       "| edc30f64126263e13e3cf65edb0d8fd1 | 22 | 0.002666667 | 1 |\n",
       "| 1cb668b0b4e308bf912f51259cb94dc5 |  1 | 0.010666667 | 1 |\n",
       "| bff1537d555fb58aed2f3060f331de5a |  2 | 0.005333333 | 1 |\n",
       "| c50ea83675169ae609e1d660d446b761 | 23 | 0.002666667 | 1 |\n",
       "| f666594ca1c3c03b3fe7228327d1205d | 24 | 0.002666667 | 1 |\n",
       "| 219b5fad16c8c20d4fe6ba3546eabb47 | 25 | 0.008000000 | 1 |\n",
       "| 423f7aacfe80269592d0ff45a45f3036 |  3 | 0.000000000 | 0 |\n",
       "| 19ef93e00e1a208155c308b40189a69a | 26 | 0.008000000 | 1 |\n",
       "| 876dcf227226c96acc3bcf507e8a5449 |  4 | 0.000000000 | 0 |\n",
       "| 70d4849cc708c098779eafcccd506cb2 |  5 | 0.002666667 | 1 |\n",
       "| a099562e8d113e94a7a2a2d87e643024 | 27 | 0.000000000 | 0 |\n",
       "| 11c2cf99484602d49c14f083d8ca914e | 28 | 0.008000000 | 1 |\n",
       "| 3aa85fe0fbe1a645f94764b79e5617f9 | 29 | 0.000000000 | 0 |\n",
       "| 476a6dc5a13cc2db726e578cf74d46f9 |  6 | 0.000000000 | 0 |\n",
       "| 2dbfe3b1ff369a5bd51a872c4b78606d |  7 | 0.000000000 | 0 |\n",
       "| f02f58ca56bcd50231522eeaf83d04fb | 30 | 0.000000000 | 0 |\n",
       "| fcbbcd0fd6cac5934ee42cd4eb340a3f |  8 | 0.002666667 | 1 |\n",
       "| 6de5912e12cdb6f8d1330215f798f3a2 |  9 | 0.000000000 | 0 |\n",
       "| 8062da15235f370e560f6278bd55ab4e | 31 | 0.000000000 | 0 |\n",
       "| b850f634479ae2531719365fadc10059 | 32 | 0.005333333 | 1 |\n",
       "| b08e7d7ae49cb525fbf4ba0b1c9793bb | 33 | 0.010666667 | 1 |\n",
       "| 5bfa49847eb7f534f42ea3716b7f319f | 34 | 0.018666667 | 1 |\n",
       "| 2a84331c882f40ba183b194e60820571 | 35 | 0.024000000 | 1 |\n",
       "| f4d7b9e09082b03ec4c01297d75fcf0d | 10 | 0.026666667 | 1 |\n",
       "| 3cd8be7566d4ccf0f7a46049b6f662b1 | 11 | 0.005333333 | 1 |\n",
       "| d4a63dc27d7f4505fe44420947d97391 | 12 | 0.008000000 | 1 |\n",
       "| 7bd23095b33f6b27cc0eda4b3a797db9 | 13 | 0.005333333 | 1 |\n",
       "| e71ac348345c38d033ab6cb143a35fd5 | 14 | 0.002666667 | 1 |\n",
       "| e7c802edaac5b96c39c4fe9efce3bf05 | 15 | 0.005333333 | 1 |\n",
       "| e81e571c27adfa0d77c4674435d13438 | 36 | 0.002666667 | 1 |\n",
       "| 2d08fa64c8c54cd782577d9840fb880b | 16 | 0.018666667 | 1 |\n",
       "| 16a3a77da33cbb0bdd6d518388e14909 | 37 | 0.002666667 | 1 |\n",
       "| 146277d70296f2ac0296068bd6964e4a | 17 | 0.000000000 | 0 |\n",
       "| 886d99a22fef602333502aa0beae171d | 38 | 1.000000000 | 1 |\n",
       "| c6eeb501fbc77c2dbba75847946712e0 | 39 | 0.002666667 | 1 |\n",
       "| 0b0ef76684583f00126940688f9ff8d0 | 18 | 0.005333333 | 1 |\n",
       "| af6d367f82633312b8ba2ec200010f24 | 19 | 0.008000000 | 1 |\n",
       "| 2b0c0a3f7103df1be9aa8849e6664b22 | 20 | 0.000000000 | 0 |\n",
       "\n"
      ],
      "text/plain": [
       "                                 branch jump.probability jump.counts\n",
       "edc30f64126263e13e3cf65edb0d8fd1 22     0.002666667      1          \n",
       "1cb668b0b4e308bf912f51259cb94dc5  1     0.010666667      1          \n",
       "bff1537d555fb58aed2f3060f331de5a  2     0.005333333      1          \n",
       "c50ea83675169ae609e1d660d446b761 23     0.002666667      1          \n",
       "f666594ca1c3c03b3fe7228327d1205d 24     0.002666667      1          \n",
       "219b5fad16c8c20d4fe6ba3546eabb47 25     0.008000000      1          \n",
       "423f7aacfe80269592d0ff45a45f3036  3     0.000000000      0          \n",
       "19ef93e00e1a208155c308b40189a69a 26     0.008000000      1          \n",
       "876dcf227226c96acc3bcf507e8a5449  4     0.000000000      0          \n",
       "70d4849cc708c098779eafcccd506cb2  5     0.002666667      1          \n",
       "a099562e8d113e94a7a2a2d87e643024 27     0.000000000      0          \n",
       "11c2cf99484602d49c14f083d8ca914e 28     0.008000000      1          \n",
       "3aa85fe0fbe1a645f94764b79e5617f9 29     0.000000000      0          \n",
       "476a6dc5a13cc2db726e578cf74d46f9  6     0.000000000      0          \n",
       "2dbfe3b1ff369a5bd51a872c4b78606d  7     0.000000000      0          \n",
       "f02f58ca56bcd50231522eeaf83d04fb 30     0.000000000      0          \n",
       "fcbbcd0fd6cac5934ee42cd4eb340a3f  8     0.002666667      1          \n",
       "6de5912e12cdb6f8d1330215f798f3a2  9     0.000000000      0          \n",
       "8062da15235f370e560f6278bd55ab4e 31     0.000000000      0          \n",
       "b850f634479ae2531719365fadc10059 32     0.005333333      1          \n",
       "b08e7d7ae49cb525fbf4ba0b1c9793bb 33     0.010666667      1          \n",
       "5bfa49847eb7f534f42ea3716b7f319f 34     0.018666667      1          \n",
       "2a84331c882f40ba183b194e60820571 35     0.024000000      1          \n",
       "f4d7b9e09082b03ec4c01297d75fcf0d 10     0.026666667      1          \n",
       "3cd8be7566d4ccf0f7a46049b6f662b1 11     0.005333333      1          \n",
       "d4a63dc27d7f4505fe44420947d97391 12     0.008000000      1          \n",
       "7bd23095b33f6b27cc0eda4b3a797db9 13     0.005333333      1          \n",
       "e71ac348345c38d033ab6cb143a35fd5 14     0.002666667      1          \n",
       "e7c802edaac5b96c39c4fe9efce3bf05 15     0.005333333      1          \n",
       "e81e571c27adfa0d77c4674435d13438 36     0.002666667      1          \n",
       "2d08fa64c8c54cd782577d9840fb880b 16     0.018666667      1          \n",
       "16a3a77da33cbb0bdd6d518388e14909 37     0.002666667      1          \n",
       "146277d70296f2ac0296068bd6964e4a 17     0.000000000      0          \n",
       "886d99a22fef602333502aa0beae171d 38     1.000000000      1          \n",
       "c6eeb501fbc77c2dbba75847946712e0 39     0.002666667      1          \n",
       "0b0ef76684583f00126940688f9ff8d0 18     0.005333333      1          \n",
       "af6d367f82633312b8ba2ec200010f24 19     0.008000000      1          \n",
       "2b0c0a3f7103df1be9aa8849e6664b22 20     0.000000000      0          "
      ]
     },
     "metadata": {},
     "output_type": "display_data"
    },
    {
     "data": {
      "image/png": "[encoded data removed]",
      "text/plain": [
       "Plot with title “red (estimated); black (true jump size)”"
      ]
     },
     "metadata": {
      "image/png": {
       "height": 420,
       "width": 420
      }
     },
     "output_type": "display_data"
    }
   ],
   "source": [
    "library(geiger)\n",
    "dirBase = 'jump-relaxedBM.jumpTrial'\n",
    "ps = load.rjmcmc(dirBase)\n",
    "defpar <- par(no.readonly=TRUE)\n",
    "\n",
    "hist <- tr2$hist\n",
    "plot(x=ps, par=\"jumps\", burnin=0.25, legend=FALSE, show.tip=FALSE, type=\"fan\", edge.width=2)\n",
    "mm=match(tr$edge[,2],hist$descendant)\n",
    "hist=hist[mm,]\n",
    "edgelabels.auteur(text=NULL, pch=21, cex=hist$cex, bg=NA, col=ifelse(hist$cex>0, 1, NA), lty=2)\n",
    "title(\"red (estimated); black (true jump size)\", line=-5)\n",
    "par(defpar)"
   ]
  },
  {
   "cell_type": "code",
   "execution_count": null,
   "metadata": {
    "vscode": {
     "languageId": "r"
    }
   },
   "outputs": [
    {
     "data": {
      "text/html": [
       "<table class=\"dataframe\">\n",
       "<caption>A matrix: 4 × 12 of type dbl</caption>\n",
       "<thead>\n",
       "\t<tr><th></th><th scope=col>aic</th><th scope=col>aic_w</th><th scope=col>aic</th><th scope=col>aic_w</th><th scope=col>lnL</th><th scope=col>df</th><th scope=col>root.1</th><th scope=col>root.2</th><th scope=col>root.3</th><th scope=col>sigma.sq.1</th><th scope=col>sigma.sq.2</th><th scope=col>sigma.sq.3</th></tr>\n",
       "</thead>\n",
       "<tbody>\n",
       "\t<tr><th scope=row>1</th><td>-220.1352</td><td>7.392749e-01</td><td>110.06770</td><td>9.716599e-05</td><td>-53.03385</td><td>2</td><td>2.914906</td><td>      NA</td><td>      NA</td><td>17.6171957</td><td>       NA</td><td>      NA</td></tr>\n",
       "\t<tr><th scope=row>2</th><td>-181.9746</td><td>3.822383e-09</td><td> 91.86056</td><td>8.732624e-01</td><td>-41.93028</td><td>4</td><td>5.984394</td><td>1.970260</td><td>      NA</td><td>32.2184634</td><td> 1.174022</td><td>      NA</td></tr>\n",
       "\t<tr><th scope=row>3</th><td>-218.0508</td><td>2.607248e-01</td><td>109.02556</td><td>1.636107e-04</td><td>-50.51278</td><td>4</td><td>2.738618</td><td>2.923877</td><td>      NA</td><td> 0.9417767</td><td>20.562152</td><td>      NA</td></tr>\n",
       "\t<tr><th scope=row>4</th><td>-191.1969</td><td>3.845266e-07</td><td> 95.72491</td><td>1.264769e-01</td><td>-41.86245</td><td>6</td><td>2.738618</td><td>5.984394</td><td>1.663861</td><td> 0.9417767</td><td>32.218463</td><td>1.083276</td></tr>\n",
       "</tbody>\n",
       "</table>\n"
      ],
      "text/latex": [
       "A matrix: 4 × 12 of type dbl\n",
       "\\begin{tabular}{r|llllllllllll}\n",
       "  & aic & aic\\_w & aic & aic\\_w & lnL & df & root.1 & root.2 & root.3 & sigma.sq.1 & sigma.sq.2 & sigma.sq.3\\\\\n",
       "\\hline\n",
       "\t1 & -220.1352 & 7.392749e-01 & 110.06770 & 9.716599e-05 & -53.03385 & 2 & 2.914906 &       NA &       NA & 17.6171957 &        NA &       NA\\\\\n",
       "\t2 & -181.9746 & 3.822383e-09 &  91.86056 & 8.732624e-01 & -41.93028 & 4 & 5.984394 & 1.970260 &       NA & 32.2184634 &  1.174022 &       NA\\\\\n",
       "\t3 & -218.0508 & 2.607248e-01 & 109.02556 & 1.636107e-04 & -50.51278 & 4 & 2.738618 & 2.923877 &       NA &  0.9417767 & 20.562152 &       NA\\\\\n",
       "\t4 & -191.1969 & 3.845266e-07 &  95.72491 & 1.264769e-01 & -41.86245 & 6 & 2.738618 & 5.984394 & 1.663861 &  0.9417767 & 32.218463 & 1.083276\\\\\n",
       "\\end{tabular}\n"
      ],
      "text/markdown": [
       "\n",
       "A matrix: 4 × 12 of type dbl\n",
       "\n",
       "| <!--/--> | aic | aic_w | aic | aic_w | lnL | df | root.1 | root.2 | root.3 | sigma.sq.1 | sigma.sq.2 | sigma.sq.3 |\n",
       "|---|---|---|---|---|---|---|---|---|---|---|---|---|\n",
       "| 1 | -220.1352 | 7.392749e-01 | 110.06770 | 9.716599e-05 | -53.03385 | 2 | 2.914906 |       NA |       NA | 17.6171957 |        NA |       NA |\n",
       "| 2 | -181.9746 | 3.822383e-09 |  91.86056 | 8.732624e-01 | -41.93028 | 4 | 5.984394 | 1.970260 |       NA | 32.2184634 |  1.174022 |       NA |\n",
       "| 3 | -218.0508 | 2.607248e-01 | 109.02556 | 1.636107e-04 | -50.51278 | 4 | 2.738618 | 2.923877 |       NA |  0.9417767 | 20.562152 |       NA |\n",
       "| 4 | -191.1969 | 3.845266e-07 |  95.72491 | 1.264769e-01 | -41.86245 | 6 | 2.738618 | 5.984394 | 1.663861 |  0.9417767 | 32.218463 | 1.083276 |\n",
       "\n"
      ],
      "text/plain": [
       "  aic       aic_w        aic       aic_w        lnL       df root.1   root.2  \n",
       "1 -220.1352 7.392749e-01 110.06770 9.716599e-05 -53.03385 2  2.914906       NA\n",
       "2 -181.9746 3.822383e-09  91.86056 8.732624e-01 -41.93028 4  5.984394 1.970260\n",
       "3 -218.0508 2.607248e-01 109.02556 1.636107e-04 -50.51278 4  2.738618 2.923877\n",
       "4 -191.1969 3.845266e-07  95.72491 1.264769e-01 -41.86245 6  2.738618 5.984394\n",
       "  root.3   sigma.sq.1 sigma.sq.2 sigma.sq.3\n",
       "1       NA 17.6171957        NA        NA  \n",
       "2       NA 32.2184634  1.174022        NA  \n",
       "3       NA  0.9417767 20.562152        NA  \n",
       "4 1.663861  0.9417767 32.218463  1.083276  "
      ]
     },
     "metadata": {},
     "output_type": "display_data"
    }
   ],
   "source": [
    "output$modelSummary <- cbind(\n",
    "    aic = aic(output$modelSummary[, 1], output$modelSummary[, 2]),\n",
    "    aic_w = aic.w(aic(output$modelSummary[, 1], output$modelSummary[, 2])),\n",
    "    output$modelSummary\n",
    "    )\n",
    "output$modelSummary"
   ]
  },
  {
   "cell_type": "code",
   "execution_count": null,
   "metadata": {
    "vscode": {
     "languageId": "r"
    }
   },
   "outputs": [
    {
     "data": {
      "text/html": [
       "<style>\n",
       ".list-inline {list-style: none; margin:0; padding: 0}\n",
       ".list-inline>li {display: inline-block}\n",
       ".list-inline>li:not(:last-child)::after {content: \"\\00b7\"; padding: 0 .5ex}\n",
       "</style>\n",
       "<ol class=list-inline><li>'babyTree'</li><li>'censor'</li><li>'d.a'</li><li>'d.L'</li><li>'d.s'</li><li>'dat.bio'</li><li>'dat.bio.bySp'</li><li>'dat.bio.means'</li><li>'dat.bio.sem'</li><li>'dat.geog'</li><li>'dat.geog.cat'</li><li>'dat.lf'</li><li>'dat.pca'</li><li>'dat.sect.colors'</li><li>'dat.sect.colVect'</li><li>'dat.sect.desc'</li><li>'dat.sect.edges'</li><li>'dat.sect.mrca'</li><li>'dat.sect.vector'</li><li>'dat.sections'</li><li>'dat2'</li><li>'fastCladeTips'</li><li>'i'</li><li>'lL'</li><li>'lL.phylogSigmaSq'</li><li>'logLik.phylogSigmaSq'</li><li>'models'</li><li>'models.mat'</li><li>'numCols'</li><li>'p'</li><li>'p1'</li><li>'p2'</li><li>'path'</li><li>'pc.dat'</li><li>'pp'</li><li>'rootState'</li><li>'sigmaSq'</li><li>'spp.intersect'</li><li>'temp.na'</li><li>'temp.sd'</li><li>'tips'</li><li>'tr'</li><li>'tr2'</li><li>'treesOut'</li><li>'trType'</li></ol>\n"
      ],
      "text/latex": [
       "\\begin{enumerate*}\n",
       "\\item 'babyTree'\n",
       "\\item 'censor'\n",
       "\\item 'd.a'\n",
       "\\item 'd.L'\n",
       "\\item 'd.s'\n",
       "\\item 'dat.bio'\n",
       "\\item 'dat.bio.bySp'\n",
       "\\item 'dat.bio.means'\n",
       "\\item 'dat.bio.sem'\n",
       "\\item 'dat.geog'\n",
       "\\item 'dat.geog.cat'\n",
       "\\item 'dat.lf'\n",
       "\\item 'dat.pca'\n",
       "\\item 'dat.sect.colors'\n",
       "\\item 'dat.sect.colVect'\n",
       "\\item 'dat.sect.desc'\n",
       "\\item 'dat.sect.edges'\n",
       "\\item 'dat.sect.mrca'\n",
       "\\item 'dat.sect.vector'\n",
       "\\item 'dat.sections'\n",
       "\\item 'dat2'\n",
       "\\item 'fastCladeTips'\n",
       "\\item 'i'\n",
       "\\item 'lL'\n",
       "\\item 'lL.phylogSigmaSq'\n",
       "\\item 'logLik.phylogSigmaSq'\n",
       "\\item 'models'\n",
       "\\item 'models.mat'\n",
       "\\item 'numCols'\n",
       "\\item 'p'\n",
       "\\item 'p1'\n",
       "\\item 'p2'\n",
       "\\item 'path'\n",
       "\\item 'pc.dat'\n",
       "\\item 'pp'\n",
       "\\item 'rootState'\n",
       "\\item 'sigmaSq'\n",
       "\\item 'spp.intersect'\n",
       "\\item 'temp.na'\n",
       "\\item 'temp.sd'\n",
       "\\item 'tips'\n",
       "\\item 'tr'\n",
       "\\item 'tr2'\n",
       "\\item 'treesOut'\n",
       "\\item 'trType'\n",
       "\\end{enumerate*}\n"
      ],
      "text/markdown": [
       "1. 'babyTree'\n",
       "2. 'censor'\n",
       "3. 'd.a'\n",
       "4. 'd.L'\n",
       "5. 'd.s'\n",
       "6. 'dat.bio'\n",
       "7. 'dat.bio.bySp'\n",
       "8. 'dat.bio.means'\n",
       "9. 'dat.bio.sem'\n",
       "10. 'dat.geog'\n",
       "11. 'dat.geog.cat'\n",
       "12. 'dat.lf'\n",
       "13. 'dat.pca'\n",
       "14. 'dat.sect.colors'\n",
       "15. 'dat.sect.colVect'\n",
       "16. 'dat.sect.desc'\n",
       "17. 'dat.sect.edges'\n",
       "18. 'dat.sect.mrca'\n",
       "19. 'dat.sect.vector'\n",
       "20. 'dat.sections'\n",
       "21. 'dat2'\n",
       "22. 'fastCladeTips'\n",
       "23. 'i'\n",
       "24. 'lL'\n",
       "25. 'lL.phylogSigmaSq'\n",
       "26. 'logLik.phylogSigmaSq'\n",
       "27. 'models'\n",
       "28. 'models.mat'\n",
       "29. 'numCols'\n",
       "30. 'p'\n",
       "31. 'p1'\n",
       "32. 'p2'\n",
       "33. 'path'\n",
       "34. 'pc.dat'\n",
       "35. 'pp'\n",
       "36. 'rootState'\n",
       "37. 'sigmaSq'\n",
       "38. 'spp.intersect'\n",
       "39. 'temp.na'\n",
       "40. 'temp.sd'\n",
       "41. 'tips'\n",
       "42. 'tr'\n",
       "43. 'tr2'\n",
       "44. 'treesOut'\n",
       "45. 'trType'\n",
       "\n",
       "\n"
      ],
      "text/plain": [
       " [1] \"babyTree\"             \"censor\"               \"d.a\"                 \n",
       " [4] \"d.L\"                  \"d.s\"                  \"dat.bio\"             \n",
       " [7] \"dat.bio.bySp\"         \"dat.bio.means\"        \"dat.bio.sem\"         \n",
       "[10] \"dat.geog\"             \"dat.geog.cat\"         \"dat.lf\"              \n",
       "[13] \"dat.pca\"              \"dat.sect.colors\"      \"dat.sect.colVect\"    \n",
       "[16] \"dat.sect.desc\"        \"dat.sect.edges\"       \"dat.sect.mrca\"       \n",
       "[19] \"dat.sect.vector\"      \"dat.sections\"         \"dat2\"                \n",
       "[22] \"fastCladeTips\"        \"i\"                    \"lL\"                  \n",
       "[25] \"lL.phylogSigmaSq\"     \"logLik.phylogSigmaSq\" \"models\"              \n",
       "[28] \"models.mat\"           \"numCols\"              \"p\"                   \n",
       "[31] \"p1\"                   \"p2\"                   \"path\"                \n",
       "[34] \"pc.dat\"               \"pp\"                   \"rootState\"           \n",
       "[37] \"sigmaSq\"              \"spp.intersect\"        \"temp.na\"             \n",
       "[40] \"temp.sd\"              \"tips\"                 \"tr\"                  \n",
       "[43] \"tr2\"                  \"treesOut\"             \"trType\"              "
      ]
     },
     "metadata": {},
     "output_type": "display_data"
    },
    {
     "data": {
      "text/html": [
       "<style>\n",
       ".list-inline {list-style: none; margin:0; padding: 0}\n",
       ".list-inline>li {display: inline-block}\n",
       ".list-inline>li:not(:last-child)::after {content: \"\\00b7\"; padding: 0 .5ex}\n",
       "</style>\n",
       "<ol class=list-inline><li>133</li><li>21</li></ol>\n"
      ],
      "text/latex": [
       "\\begin{enumerate*}\n",
       "\\item 133\n",
       "\\item 21\n",
       "\\end{enumerate*}\n"
      ],
      "text/markdown": [
       "1. 133\n",
       "2. 21\n",
       "\n",
       "\n"
      ],
      "text/plain": [
       "[1] 133  21"
      ]
     },
     "metadata": {},
     "output_type": "display_data"
    },
    {
     "data": {
      "text/plain": [
       "\n",
       "Phylogenetic tree with 133 tips and 132 internal nodes.\n",
       "\n",
       "Tip labels:\n",
       "  Quercus_turbinella, Quercus_ajoensis, Quercus_toumeyi, Quercus_grisea, Quercus_oblongifolia, Quercus_engelmannii, ...\n",
       "\n",
       "Rooted; includes branch lengths."
      ]
     },
     "metadata": {},
     "output_type": "display_data"
    },
    {
     "name": "stdout",
     "output_type": "stream",
     "text": [
      "GEIGER-fitted comparative model of continuous data\n",
      " fitted ‘BM’ model parameters:\n",
      "\tsigsq = 170028.695215\n",
      "\tz0 = 5341.755163\n",
      "\n",
      " model summary:\n",
      "\tlog-likelihood = -1172.711316\n",
      "\tAIC = 2349.422632\n",
      "\tAICc = 2349.514939\n",
      "\tfree parameters = 2\n",
      "\n",
      "Convergence diagnostics:\n",
      "\toptimization iterations = 100\n",
      "\tfailed iterations = 0\n",
      "\tnumber of iterations with same best fit = 100\n",
      "\tfrequency of best fit = 1.000\n",
      "\n",
      " object summary:\n",
      "\t'lik' -- likelihood function\n",
      "\t'bnd' -- bounds for likelihood search\n",
      "\t'res' -- optimization iteration summary\n",
      "\t'opt' -- maximum likelihood parameter estimates\n"
     ]
    }
   ],
   "source": [
    "load('../phyloLive//tutorial.01/data/phylo.session01b.Rdata')\n",
    "ls()\n",
    "dim(dat.bio.means)\n",
    "tr\n",
    "fitContinuous(tr, dat.bio.means[, 'bio4']) |> print()"
   ]
  },
  {
   "attachments": {},
   "cell_type": "markdown",
   "metadata": {},
   "source": [
    "# 2. Using two existing tools to do the same thing\n"
   ]
  },
  {
   "cell_type": "code",
   "execution_count": null,
   "metadata": {
    "vscode": {
     "languageId": "r"
    }
   },
   "outputs": [],
   "source": [
    "rjRun <- rjmcmc.bm(multi2di(tr), dat2[,,1], filebase = 'jumpTrial') # running with default 20,000 generations"
   ]
  },
  {
   "cell_type": "code",
   "execution_count": null,
   "metadata": {
    "vscode": {
     "languageId": "r"
    }
   },
   "outputs": [],
   "source": [
    "library(geiger)\n",
    "dirBase = 'jump-relaxedBM.jumpTrial'\n",
    "ps = load.rjmcmc(dirBase)\n",
    "defpar <- par(no.readonly=TRUE)\n",
    "\n",
    "hist <- tr2$hist\n",
    "plot(x=ps, par=\"jumps\", burnin=0.25, legend=FALSE, show.tip=FALSE, type=\"fan\", edge.width=2)\n",
    "mm=match(tr$edge[,2],hist$descendant)\n",
    "hist=hist[mm,]\n",
    "edgelabels.auteur(text=NULL, pch=21, cex=hist$cex, bg=NA, col=ifelse(hist$cex>0, 1, NA), lty=2)\n",
    "title(\"red (estimated); black (true jump size)\", line=-5)\n",
    "par(defpar)"
   ]
  }
 ],
 "metadata": {
  "anaconda-cloud": {},
  "kernelspec": {
   "display_name": "R",
   "language": "R",
   "name": "ir"
  },
  "language_info": {
   "codemirror_mode": "r",
   "file_extension": ".r",
   "mimetype": "text/x-r-source",
   "name": "R",
   "pygments_lexer": "r",
   "version": "4.2.3"
  }
 },
 "nbformat": 4,
 "nbformat_minor": 1
}

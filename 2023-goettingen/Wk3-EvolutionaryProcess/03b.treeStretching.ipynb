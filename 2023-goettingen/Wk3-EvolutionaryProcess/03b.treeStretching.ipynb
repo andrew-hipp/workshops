{
 "cells": [
  {
   "cell_type": "markdown",
   "metadata": {},
   "source": [
    "# Introduction to phylogenetic comparative methods in R\n",
    "Goettingen 2023  \n",
    "Andrew Hipp, ahipp@mortonarb.org  \n",
    "Tutorial 03b: Stretching the tree and manipulating   \n",
    "Use [static view in nbviewer](https://nbviewer.org/github/andrew-hipp/workshops/blob/master/2023-goettingen/Wk3-EvolutionaryProcess/03b.treeStretching.ipynb) if you are not working directly in Jupyter notebooks.\n",
    "\n",
    "# Session 3b: Evaluating alternative continuous trait evolution models\n",
    "In this tutorial, you'll:\n",
    "1. practice testing for shifts in the rate of evolution on a tree, using an approach adapated from O'Meara's (2006) method\n",
    "1. Use Pagel's $\\lambda$ to test for phylogenetic signal, then visualize the likelihood of your model from $\\lambda$ of 0 to 1."
   ]
  },
  {
   "cell_type": "markdown",
   "metadata": {},
   "source": [
    "# 1. Comparing a one-rate model with a two-rate model\n",
    "\n",
    "Let's start with the example of a very simple censored two-rate model as we discussed in lecture. First let's generate a tree:"
   ]
  },
  {
   "cell_type": "code",
   "execution_count": 103,
   "metadata": {
    "vscode": {
     "languageId": "r"
    }
   },
   "outputs": [],
   "source": [
    "library(geiger)\n",
    "library(phytools)\n",
    "tr <- sim.bdtree(n = 20)"
   ]
  },
  {
   "cell_type": "markdown",
   "metadata": {},
   "source": [
    "Now, let's simulate a trait evolving on that tree, with a single shift in the rate of evolution. We'll do so by first transforming the tree so that one clade is stretched out; we'll then simulate data according to a Brownian motion process on that transformed tree:"
   ]
  },
  {
   "cell_type": "code",
   "execution_count": 104,
   "metadata": {
    "vscode": {
     "languageId": "r"
    }
   },
   "outputs": [],
   "source": [
    "tr2 <- ex.ratesimulator(tr, min = 5)\n",
    "dat2 <- sim.char(tr2,1,1)[,,1]"
   ]
  },
  {
   "cell_type": "code",
   "execution_count": 105,
   "metadata": {
    "vscode": {
     "languageId": "r"
    }
   },
   "outputs": [
    {
     "name": "stderr",
     "output_type": "stream",
     "text": [
      "the stretched (high-rate) clade:\n",
      "\n"
     ]
    },
    {
     "name": "stdout",
     "output_type": "stream",
     "text": [
      " [1] \"s6\"  \"s7\"  \"s8\"  \"s9\"  \"s10\" \"s11\" \"s12\" \"s13\" \"s14\" \"s15\"\n"
     ]
    },
    {
     "data": {
      "image/png": "[encoded data removed]",
      "text/plain": [
       "Plot with title “rescaled tree”"
      ]
     },
     "metadata": {
      "image/png": {
       "height": 420,
       "width": 420
      }
     },
     "output_type": "display_data"
    }
   ],
   "source": [
    "layout(matrix(1:2, 1))\n",
    "plot(tr, main = 'original tree')\n",
    "plot(tr2, main = 'rescaled tree')\n",
    "message('the stretched (high-rate) clade:')\n",
    "fastCladeTips <- \n",
    "  names(which(round(diag(vcv(tr2)), 3) == max(round(diag(vcv(tr2)), 3))))\n",
    "print(fastCladeTips)"
   ]
  },
  {
   "cell_type": "markdown",
   "metadata": {},
   "source": [
    "Consider what these trees imply. The tree on the left side is our original tree, scaled in units of time. The tree on the right side simulates the effects of a single increase in ch. We can use the `geiger` package to estimate the Brownian motion model parameters on these for the single-rate model:"
   ]
  },
  {
   "cell_type": "code",
   "execution_count": 106,
   "metadata": {
    "vscode": {
     "languageId": "r"
    }
   },
   "outputs": [
    {
     "name": "stdout",
     "output_type": "stream",
     "text": [
      "       fittedToRescaledTree fittedToOriginalTree\n",
      "sigsq  0.8875271            17.6172             \n",
      "z0     2.020325             2.914906            \n",
      "lnL    -43.38346            -53.03385           \n",
      "method \"Brent\"              \"Brent\"             \n",
      "k      2                    2                   \n",
      "aic    90.76693             110.0677            \n",
      "aicc   91.47281             110.7736            \n",
      "aic.w  0.9999356            6.439658e-05        \n"
     ]
    }
   ],
   "source": [
    "models <- list(\n",
    "    fittedToRescaledTree = fitContinuous(tr2, dat2),\n",
    "    fittedToOriginalTree = fitContinuous(tr,dat2)\n",
    ")\n",
    "models.mat <- cbind(fittedToRescaledTree = models$fittedToRescaledTree$opt,\n",
    "                    fittedToOriginalTree = models$fittedToOriginalTree$opt)\n",
    "models.mat <- rbind(models.mat, aic.w = aic.w(as.numeric(models.mat['aic',]))) # here, using phytools function\n",
    "print(models.mat)"
   ]
  },
  {
   "cell_type": "markdown",
   "metadata": {},
   "source": [
    "Not surprisingly, the rescaled tree explains the data better. It confers a higher likelihood on the trait data, because the variance structure of the data was created under the second tree.\n",
    "\n",
    "But imagine that we inferred tree 1 from our data and had some hypotheses about what changes we had found. If we want to test these following the O'Meara method, we'll first we need the pieces of the model. These are the GLS estimators that O'Meara et al. (2006) use to estimate the rate of trait evolution. We'll write a separate functions for each of the following:\n",
    "* The phylogenetic mean (or ancestral state at the root)\n",
    "* Sigma-squared (the rate)\n",
    "* The log-likelihood"
   ]
  },
  {
   "cell_type": "code",
   "execution_count": 107,
   "metadata": {
    "vscode": {
     "languageId": "r"
    }
   },
   "outputs": [],
   "source": [
    "library(ape)\n",
    "\n",
    "rootState <- function(tr, X) {\n",
    "  ## the maximum likelihood estimate of root state based on O'Meara, p. 925\n",
    "  vcvMat <- vcv(tr)\n",
    "  one <- matrix(1, length(X), 1) # a matrix of 1s, as tall as the length of X\n",
    "  B0 <- as.numeric(solve(t(one) %*% solve(vcvMat) %*% one) %*% (t(one) %*% solve(vcvMat) %*% X))\n",
    "  return(B0)\n",
    "  }\n",
    "\n",
    "sigmaSq <- function(tr, X) {\n",
    "  ## following O'Meara 2006, eq. 2\n",
    "  vcvMat <- vcv(tr)\n",
    "  N <- length(X)\n",
    "  E.X <- matrix(rootState(tr, X), length(X), 1) # expected value of X is just the rootstate of X\n",
    "  sigmaSq <- as.numeric((t(X - E.X) %*% solve(vcvMat) %*% (X - E.X)) / N)\n",
    "  out <- list(V = vcvMat * sigmaSq, sigmaSq = sigmaSq, X = X, E.X. = E.X, N = N)\n",
    "  class(out) <- \"phylogSigmaSq\"\n",
    "  return(out)\n",
    "  }\n",
    "\n",
    "logLik.phylogSigmaSq <- function(object, ...) {\n",
    "  # following O'Meara 2006, eq. 3\n",
    "  # takes output from sigmaSq\n",
    "  numer <- exp(-0.5 * t(object$X - object$E.X) %*% solve(object$V) %*% (object$X - object$E.X))\n",
    "  denom <- sqrt((2*pi)^object$N * det(object$V))\n",
    "  out <- log(numer / denom)\n",
    "  attr(out, \"nobs\") <- object$N\n",
    "  attr(out, \"df\") <- 2\n",
    "  class(out) <- \"logLik\"\n",
    "  return(out)\n",
    "  }"
   ]
  },
  {
   "cell_type": "markdown",
   "metadata": {},
   "source": [
    "This is a little clunky, but it should do. Let's try it out with our data and make sure everything works:"
   ]
  },
  {
   "cell_type": "code",
   "execution_count": 108,
   "metadata": {},
   "outputs": [
    {
     "name": "stderr",
     "output_type": "stream",
     "text": [
      "our function results:\n",
      "\n"
     ]
    },
    {
     "name": "stdout",
     "output_type": "stream",
     "text": [
      "[1] 2.914906\n",
      "'log Lik.' -53.03385 (df=2)\n",
      "[1] 17.6172\n"
     ]
    },
    {
     "name": "stderr",
     "output_type": "stream",
     "text": [
      "for comparison, results from geiger, fitContinuous:\n",
      "\n"
     ]
    },
    {
     "name": "stdout",
     "output_type": "stream",
     "text": [
      "GEIGER-fitted comparative model of continuous data\n",
      " fitted ‘BM’ model parameters:\n",
      "\tsigsq = 17.617196\n",
      "\tz0 = 2.914906\n",
      "\n",
      " model summary:\n",
      "\tlog-likelihood = -53.033849\n",
      "\tAIC = 110.067697\n",
      "\tAICc = 110.773579\n",
      "\tfree parameters = 2\n",
      "\n",
      "Convergence diagnostics:\n",
      "\toptimization iterations = 100\n",
      "\tfailed iterations = 0\n",
      "\tnumber of iterations with same best fit = 100\n",
      "\tfrequency of best fit = 1.000\n",
      "\n",
      " object summary:\n",
      "\t'lik' -- likelihood function\n",
      "\t'bnd' -- bounds for likelihood search\n",
      "\t'res' -- optimization iteration summary\n",
      "\t'opt' -- maximum likelihood parameter estimates\n"
     ]
    }
   ],
   "source": [
    "d.a <- rootState(tr, dat2)\n",
    "d.s <- sigmaSq(tr, dat2)\n",
    "d.L <- logLik(d.s)\n",
    "message('our function results:')\n",
    "print(d.a)\n",
    "print(d.L)\n",
    "print(d.s$sigmaSq)\n",
    "\n",
    "message('for comparison, results from geiger, fitContinuous:')\n",
    "fitContinuous(tr, dat2) |> print()\n"
   ]
  },
  {
   "cell_type": "markdown",
   "metadata": {},
   "source": [
    "Then, we'll code a function to perform the censored test of O'Meara et al. Our function will take a tree, some definition of how the tree should be split up into groups, and a vector of data. These are the arguments of your function. The value of oour function (what it returns) should include the log-likelihood of the model, the root state, and sigma-squared for each subtree.\n",
    "\n",
    "There are a lot of ways to approach this problem, but I'll walk you through how I might do it. First, we need a function to split a tree into subtrees. Let's call this function `censor`."
   ]
  },
  {
   "cell_type": "code",
   "execution_count": 109,
   "metadata": {
    "vscode": {
     "languageId": "r"
    }
   },
   "outputs": [],
   "source": [
    "censor <- function(tr, taxa = 2) {\n",
    "  ## tr is a tree of class \"phylo\"\n",
    "  ## taxa is a list of taxa defining subtrees, or a single number for the number of subtrees you'd like to define somewhat interactively\n",
    "  if(class(taxa) == \"numeric\" && length(taxa) == 1) {\n",
    "    taxa <- vector(\"list\", taxa)\n",
    "    for(i in seq(length(taxa))) taxa[[i]] <- select.list(tr$tip.label, multiple = TRUE, title = \"Select taxa comprising one subtree\")\n",
    "    }\n",
    "  if(!identical(sort(unlist(taxa)), sort(tr$tip.label))) warning(\"Taxa do not represent non-overlapping sets of taxa on the tree\")\n",
    "  treeList <- vector(\"list\",length(taxa))\n",
    "  for(i in seq(length(taxa))) {\n",
    "    tipsToDrop <- tr$tip.label[-which(tr$tip.label %in% taxa[[i]])]\n",
    "    treeList[[i]] <- drop.tip(tr, tipsToDrop)\n",
    "    }\n",
    "  return(treeList)\n",
    "  }"
   ]
  },
  {
   "cell_type": "markdown",
   "metadata": {},
   "source": [
    "Let's try it out to see how it works on our rescaled tree:"
   ]
  },
  {
   "cell_type": "code",
   "execution_count": 110,
   "metadata": {},
   "outputs": [
    {
     "data": {
      "text/plain": [
       "[[1]]\n",
       "\n",
       "Phylogenetic tree with 10 tips and 9 internal nodes.\n",
       "\n",
       "Tip labels:\n",
       "  s6, s7, s8, s9, s10, s11, ...\n",
       "\n",
       "Rooted; includes branch lengths.\n",
       "\n",
       "[[2]]\n",
       "\n",
       "Phylogenetic tree with 10 tips and 9 internal nodes.\n",
       "\n",
       "Tip labels:\n",
       "  s1, s2, s3, s4, s5, s16, ...\n",
       "\n",
       "Rooted; includes branch lengths.\n"
      ]
     },
     "metadata": {},
     "output_type": "display_data"
    },
    {
     "data": {
      "image/png": "[encoded data removed]",
      "text/plain": [
       "plot without title"
      ]
     },
     "metadata": {
      "image/png": {
       "height": 420,
       "width": 420
      }
     },
     "output_type": "display_data"
    }
   ],
   "source": [
    "# then, split that one out:\n",
    "treesOut <- censor(tr, taxa = list(fastCladeTips, setdiff(tr$tip.label, fastCladeTips)))\n",
    "treesOut\n",
    "layout(matrix(1:2, 1))\n",
    "plot(treesOut[[1]])\n",
    "plot(treesOut[[2]])"
   ]
  },
  {
   "cell_type": "markdown",
   "metadata": {},
   "source": [
    "What we've done is to cleave out the fast-evolving clade as a separate subtree."
   ]
  },
  {
   "cell_type": "markdown",
   "metadata": {},
   "source": [
    "Now, we need a function to actually test the models."
   ]
  },
  {
   "cell_type": "code",
   "execution_count": 141,
   "metadata": {
    "vscode": {
     "languageId": "r"
    }
   },
   "outputs": [],
   "source": [
    "testModels <- function(tr, X, multiRateModels = 1, modelList = NULL, ...) {\n",
    "  ## tests a single-rate model against a single multiple-rate models\n",
    "    # -- should be generalized to compare the single-rate model against as many multiple-rate models as you like\n",
    "  ## currently only the censored option is implemented\n",
    "  ## Arguments:\n",
    "  ##  tr = tree of class \"phylo\"\n",
    "  ##  X = vector of trait values\n",
    "  ##  multiRateModels = number of multiple-rate models to test\n",
    "  ##  modelList = list of list of trees; if NULL, trees are created interactively using censor function\n",
    "   \n",
    "  ## 1. Check the data out a bit to catch obvious problems\n",
    "  vcvMat <- vcv(tr)\n",
    "  if(length(X) != dim(vcvMat)[1]) stop(\"This function currently only takes vectors of trait values equal in length to the number of taxa in the tree\")\n",
    "  if(identical(names(X), NULL)) {\n",
    "    warning(\"X has no labels; assumed to be ordered the same as VCV matrix\")\n",
    "    names(X) <- dimnames(vcvMat)[[1]]\n",
    "    }\n",
    "  else {\n",
    "    if(!all(names(X) %in% dimnames(vcvMat)[[1]])) warning(\"X labels not identical to tip labels; traits assumed to be ordered the same as VCV matrix\")\n",
    "    vcvMat <- vcvMat[names(X), names(X)]\n",
    "    }\n",
    "  \n",
    "  ## 2. Set up the models\n",
    "  treeSets <- vector(\"list\", 1 + multiRateModels)\n",
    "  treeSets[[1]] <- list(tr) ## necessary to make this a list of length=1 so that the nested loop below works\n",
    "  maxTrees <- 1\n",
    "  for(i in 2:(1 + multiRateModels)) {\n",
    "    if(class(modelList) == 'list') {\n",
    "      taxa <- length(modelList[[i-1]])\n",
    "      treeSets[[i]] <- modelList[[i-1]] # use trees if provided, or ...\n",
    "      } ## close if\n",
    "    else {\n",
    "      taxa <- as.numeric(select.list(c('2','3','4','5','6','7','8','9','10'), preselect = \"2\", title = \"Select the number of subtrees you would like\"))\n",
    "      treeSets[[i]] <- censor(tr, taxa) # ... do interactive tree creation if no trees are handed in via modelList\n",
    "      } ## close else\n",
    "    maxTrees <- max(taxa, maxTrees)\n",
    "    } ## close i\n",
    "  \n",
    "  ## 3. Set up matrix to capture output\n",
    "  paramsBase <- c(\"sigma.sq\", \"root\")\n",
    "  params <- paste(sort(rep(paramsBase, maxTrees)), rep(1:maxTrees,length(paramsBase)), sep = \".\")\n",
    "  results <- matrix(NA, nrow = length(treeSets), ncol = 2 + length(paramsBase)*maxTrees, dimnames = list(1:length(treeSets), c('lnL', 'df', params)))\n",
    "  for(i in 1:length(treeSets)) {\n",
    "    message(paste('running treeSet', i))\n",
    "    results[i, c('lnL', 'df')] <- c(0,0)\n",
    "    for(j in 1:length(treeSets[[i]])) {\n",
    "      if(class(treeSets[[i]]) != 'phylo') tr.temp <- treeSets[[i]][[j]]\n",
    "      sigma.sq.temp <- sigmaSq(tr.temp, X[tr.temp$tip.label])\n",
    "      lnL.temp <- logLik(sigma.sq.temp)\n",
    "      results[i, c('lnL', 'df')] <- results[i, c('lnL', 'df')] + c(lnL.temp, attr(lnL.temp, 'df'))\n",
    "      results[i, paste(paramsBase, j, sep = \".\")] <- c(sigma.sq.temp$sigmaSq,                         ## sigma.sq\n",
    "                                                       rootState(tr.temp, X[tr.temp$tip.label])  ## root\n",
    "                                                       )                                              ## and close that concatenation\n",
    "    } ## close j\n",
    "  } ## close i\n",
    "  results <- list(treeSets = treeSets, modelSummary = results)\n",
    "  return(results)\n",
    "  }"
   ]
  },
  {
   "cell_type": "markdown",
   "metadata": {},
   "source": [
    "Let's try it out on our dataset from above. Let's imagine that we hypothesize three rate-shift scenarios: a shift at clade (s1, s2, s3); a shift at the simultated rate-shift clade; and a shift at both. We'll compare all of these against the single-rate tree. First, let's set up our models:"
   ]
  },
  {
   "cell_type": "code",
   "execution_count": 123,
   "metadata": {},
   "outputs": [],
   "source": [
    "modelset = list(\n",
    "  c1 = censor(tr, taxa = list(\n",
    "      fastCladeTips, \n",
    "      setdiff(tr$tip.label, fastCladeTips))),\n",
    "  c2 = censor(tr, taxa = list(\n",
    "      c('s1', 's2', 's3'), \n",
    "      setdiff(tr$tip.label, c('s1', 's2', 's3')))),\n",
    "  c3 = censor(tr, taxa = list(\n",
    "      c('s1', 's2', 's3'),\n",
    "      fastCladeTips, \n",
    "      setdiff(tr$tip.label, c(fastCladeTips, 's1', 's2', 's3'))))\n",
    ")"
   ]
  },
  {
   "cell_type": "code",
   "execution_count": 162,
   "metadata": {},
   "outputs": [
    {
     "name": "stderr",
     "output_type": "stream",
     "text": [
      "running treeSet 1\n",
      "\n",
      "running treeSet 2\n",
      "\n",
      "running treeSet 3\n",
      "\n",
      "running treeSet 4\n",
      "\n"
     ]
    },
    {
     "name": "stdout",
     "output_type": "stream",
     "text": [
      "        lnL df   root.1   root.2   root.3 sigma.sq.1 sigma.sq.2 sigma.sq.3\n",
      "1 -53.03385  2 2.914906       NA       NA 17.6171957         NA         NA\n",
      "2 -41.93028  4 5.984394 1.970260       NA 32.2184634   1.174022         NA\n",
      "3 -50.51278  4 2.738618 2.923877       NA  0.9417767  20.562152         NA\n",
      "4 -41.86245  6 2.738618 5.984394 1.663861  0.9417767  32.218463   1.083276\n"
     ]
    }
   ],
   "source": [
    "output <- testModels(tr, dat2, multiRateModels = 3, modelList =modelset)\n",
    "print(output$modelSummary)"
   ]
  },
  {
   "cell_type": "markdown",
   "metadata": {},
   "source": [
    "From this, what would you say is the best-fit model? Take into account both the likelihood and the model complexity. And we'd better add aic in there! Let's make a little aic function:"
   ]
  },
  {
   "cell_type": "code",
   "execution_count": 163,
   "metadata": {},
   "outputs": [
    {
     "name": "stdout",
     "output_type": "stream",
     "text": [
      "        aic        aic_w       lnL df   root.1   root.2   root.3 sigma.sq.1\n",
      "1 110.06770 9.716599e-05 -53.03385  2 2.914906       NA       NA 17.6171957\n",
      "2  91.86056 8.732624e-01 -41.93028  4 5.984394 1.970260       NA 32.2184634\n",
      "3 109.02556 1.636107e-04 -50.51278  4 2.738618 2.923877       NA  0.9417767\n",
      "4  95.72491 1.264769e-01 -41.86245  6 2.738618 5.984394 1.663861  0.9417767\n",
      "  sigma.sq.2 sigma.sq.3\n",
      "1         NA         NA\n",
      "2   1.174022         NA\n",
      "3  20.562152         NA\n",
      "4  32.218463   1.083276\n"
     ]
    }
   ],
   "source": [
    "aic = function(L, df) {\n",
    "  out <- -2 * L + 2 * df\n",
    "  return(out)\n",
    "    }"
   ]
  },
  {
   "cell_type": "markdown",
   "metadata": {},
   "source": [
    "... and add AIC and AIC weights to this table:"
   ]
  },
  {
   "cell_type": "code",
   "execution_count": 164,
   "metadata": {},
   "outputs": [
    {
     "data": {
      "text/html": [
       "<table class=\"dataframe\">\n",
       "<caption>A matrix: 4 × 12 of type dbl</caption>\n",
       "<thead>\n",
       "\t<tr><th></th><th scope=col>aic</th><th scope=col>aic_w</th><th scope=col>aic</th><th scope=col>aic_w</th><th scope=col>lnL</th><th scope=col>df</th><th scope=col>root.1</th><th scope=col>root.2</th><th scope=col>root.3</th><th scope=col>sigma.sq.1</th><th scope=col>sigma.sq.2</th><th scope=col>sigma.sq.3</th></tr>\n",
       "</thead>\n",
       "<tbody>\n",
       "\t<tr><th scope=row>1</th><td>-220.1352</td><td>7.392749e-01</td><td>110.06770</td><td>9.716599e-05</td><td>-53.03385</td><td>2</td><td>2.914906</td><td>      NA</td><td>      NA</td><td>17.6171957</td><td>       NA</td><td>      NA</td></tr>\n",
       "\t<tr><th scope=row>2</th><td>-181.9746</td><td>3.822383e-09</td><td> 91.86056</td><td>8.732624e-01</td><td>-41.93028</td><td>4</td><td>5.984394</td><td>1.970260</td><td>      NA</td><td>32.2184634</td><td> 1.174022</td><td>      NA</td></tr>\n",
       "\t<tr><th scope=row>3</th><td>-218.0508</td><td>2.607248e-01</td><td>109.02556</td><td>1.636107e-04</td><td>-50.51278</td><td>4</td><td>2.738618</td><td>2.923877</td><td>      NA</td><td> 0.9417767</td><td>20.562152</td><td>      NA</td></tr>\n",
       "\t<tr><th scope=row>4</th><td>-191.1969</td><td>3.845266e-07</td><td> 95.72491</td><td>1.264769e-01</td><td>-41.86245</td><td>6</td><td>2.738618</td><td>5.984394</td><td>1.663861</td><td> 0.9417767</td><td>32.218463</td><td>1.083276</td></tr>\n",
       "</tbody>\n",
       "</table>\n"
      ],
      "text/latex": [
       "A matrix: 4 × 12 of type dbl\n",
       "\\begin{tabular}{r|llllllllllll}\n",
       "  & aic & aic\\_w & aic & aic\\_w & lnL & df & root.1 & root.2 & root.3 & sigma.sq.1 & sigma.sq.2 & sigma.sq.3\\\\\n",
       "\\hline\n",
       "\t1 & -220.1352 & 7.392749e-01 & 110.06770 & 9.716599e-05 & -53.03385 & 2 & 2.914906 &       NA &       NA & 17.6171957 &        NA &       NA\\\\\n",
       "\t2 & -181.9746 & 3.822383e-09 &  91.86056 & 8.732624e-01 & -41.93028 & 4 & 5.984394 & 1.970260 &       NA & 32.2184634 &  1.174022 &       NA\\\\\n",
       "\t3 & -218.0508 & 2.607248e-01 & 109.02556 & 1.636107e-04 & -50.51278 & 4 & 2.738618 & 2.923877 &       NA &  0.9417767 & 20.562152 &       NA\\\\\n",
       "\t4 & -191.1969 & 3.845266e-07 &  95.72491 & 1.264769e-01 & -41.86245 & 6 & 2.738618 & 5.984394 & 1.663861 &  0.9417767 & 32.218463 & 1.083276\\\\\n",
       "\\end{tabular}\n"
      ],
      "text/markdown": [
       "\n",
       "A matrix: 4 × 12 of type dbl\n",
       "\n",
       "| <!--/--> | aic | aic_w | aic | aic_w | lnL | df | root.1 | root.2 | root.3 | sigma.sq.1 | sigma.sq.2 | sigma.sq.3 |\n",
       "|---|---|---|---|---|---|---|---|---|---|---|---|---|\n",
       "| 1 | -220.1352 | 7.392749e-01 | 110.06770 | 9.716599e-05 | -53.03385 | 2 | 2.914906 |       NA |       NA | 17.6171957 |        NA |       NA |\n",
       "| 2 | -181.9746 | 3.822383e-09 |  91.86056 | 8.732624e-01 | -41.93028 | 4 | 5.984394 | 1.970260 |       NA | 32.2184634 |  1.174022 |       NA |\n",
       "| 3 | -218.0508 | 2.607248e-01 | 109.02556 | 1.636107e-04 | -50.51278 | 4 | 2.738618 | 2.923877 |       NA |  0.9417767 | 20.562152 |       NA |\n",
       "| 4 | -191.1969 | 3.845266e-07 |  95.72491 | 1.264769e-01 | -41.86245 | 6 | 2.738618 | 5.984394 | 1.663861 |  0.9417767 | 32.218463 | 1.083276 |\n",
       "\n"
      ],
      "text/plain": [
       "  aic       aic_w        aic       aic_w        lnL       df root.1   root.2  \n",
       "1 -220.1352 7.392749e-01 110.06770 9.716599e-05 -53.03385 2  2.914906       NA\n",
       "2 -181.9746 3.822383e-09  91.86056 8.732624e-01 -41.93028 4  5.984394 1.970260\n",
       "3 -218.0508 2.607248e-01 109.02556 1.636107e-04 -50.51278 4  2.738618 2.923877\n",
       "4 -191.1969 3.845266e-07  95.72491 1.264769e-01 -41.86245 6  2.738618 5.984394\n",
       "  root.3   sigma.sq.1 sigma.sq.2 sigma.sq.3\n",
       "1       NA 17.6171957        NA        NA  \n",
       "2       NA 32.2184634  1.174022        NA  \n",
       "3       NA  0.9417767 20.562152        NA  \n",
       "4 1.663861  0.9417767 32.218463  1.083276  "
      ]
     },
     "metadata": {},
     "output_type": "display_data"
    }
   ],
   "source": [
    "output$modelSummary <- cbind(\n",
    "    aic = aic(output$modelSummary[, 1], output$modelSummary[, 2]),\n",
    "    aic_w = aic.w(aic(output$modelSummary[, 1], output$modelSummary[, 2])),\n",
    "    output$modelSummary\n",
    "    )\n",
    "output$modelSummary"
   ]
  },
  {
   "cell_type": "code",
   "execution_count": 100,
   "metadata": {},
   "outputs": [
    {
     "data": {
      "text/html": [
       "<style>\n",
       ".list-inline {list-style: none; margin:0; padding: 0}\n",
       ".list-inline>li {display: inline-block}\n",
       ".list-inline>li:not(:last-child)::after {content: \"\\00b7\"; padding: 0 .5ex}\n",
       "</style>\n",
       "<ol class=list-inline><li>'babyTree'</li><li>'censor'</li><li>'d.a'</li><li>'d.L'</li><li>'d.s'</li><li>'dat.bio'</li><li>'dat.bio.bySp'</li><li>'dat.bio.means'</li><li>'dat.bio.sem'</li><li>'dat.geog'</li><li>'dat.geog.cat'</li><li>'dat.lf'</li><li>'dat.pca'</li><li>'dat.sect.colors'</li><li>'dat.sect.colVect'</li><li>'dat.sect.desc'</li><li>'dat.sect.edges'</li><li>'dat.sect.mrca'</li><li>'dat.sect.vector'</li><li>'dat.sections'</li><li>'dat2'</li><li>'fastCladeTips'</li><li>'i'</li><li>'lL'</li><li>'lL.phylogSigmaSq'</li><li>'logLik.phylogSigmaSq'</li><li>'models'</li><li>'models.mat'</li><li>'numCols'</li><li>'p'</li><li>'p1'</li><li>'p2'</li><li>'path'</li><li>'pc.dat'</li><li>'pp'</li><li>'rootState'</li><li>'sigmaSq'</li><li>'spp.intersect'</li><li>'temp.na'</li><li>'temp.sd'</li><li>'tips'</li><li>'tr'</li><li>'tr2'</li><li>'treesOut'</li><li>'trType'</li></ol>\n"
      ],
      "text/latex": [
       "\\begin{enumerate*}\n",
       "\\item 'babyTree'\n",
       "\\item 'censor'\n",
       "\\item 'd.a'\n",
       "\\item 'd.L'\n",
       "\\item 'd.s'\n",
       "\\item 'dat.bio'\n",
       "\\item 'dat.bio.bySp'\n",
       "\\item 'dat.bio.means'\n",
       "\\item 'dat.bio.sem'\n",
       "\\item 'dat.geog'\n",
       "\\item 'dat.geog.cat'\n",
       "\\item 'dat.lf'\n",
       "\\item 'dat.pca'\n",
       "\\item 'dat.sect.colors'\n",
       "\\item 'dat.sect.colVect'\n",
       "\\item 'dat.sect.desc'\n",
       "\\item 'dat.sect.edges'\n",
       "\\item 'dat.sect.mrca'\n",
       "\\item 'dat.sect.vector'\n",
       "\\item 'dat.sections'\n",
       "\\item 'dat2'\n",
       "\\item 'fastCladeTips'\n",
       "\\item 'i'\n",
       "\\item 'lL'\n",
       "\\item 'lL.phylogSigmaSq'\n",
       "\\item 'logLik.phylogSigmaSq'\n",
       "\\item 'models'\n",
       "\\item 'models.mat'\n",
       "\\item 'numCols'\n",
       "\\item 'p'\n",
       "\\item 'p1'\n",
       "\\item 'p2'\n",
       "\\item 'path'\n",
       "\\item 'pc.dat'\n",
       "\\item 'pp'\n",
       "\\item 'rootState'\n",
       "\\item 'sigmaSq'\n",
       "\\item 'spp.intersect'\n",
       "\\item 'temp.na'\n",
       "\\item 'temp.sd'\n",
       "\\item 'tips'\n",
       "\\item 'tr'\n",
       "\\item 'tr2'\n",
       "\\item 'treesOut'\n",
       "\\item 'trType'\n",
       "\\end{enumerate*}\n"
      ],
      "text/markdown": [
       "1. 'babyTree'\n",
       "2. 'censor'\n",
       "3. 'd.a'\n",
       "4. 'd.L'\n",
       "5. 'd.s'\n",
       "6. 'dat.bio'\n",
       "7. 'dat.bio.bySp'\n",
       "8. 'dat.bio.means'\n",
       "9. 'dat.bio.sem'\n",
       "10. 'dat.geog'\n",
       "11. 'dat.geog.cat'\n",
       "12. 'dat.lf'\n",
       "13. 'dat.pca'\n",
       "14. 'dat.sect.colors'\n",
       "15. 'dat.sect.colVect'\n",
       "16. 'dat.sect.desc'\n",
       "17. 'dat.sect.edges'\n",
       "18. 'dat.sect.mrca'\n",
       "19. 'dat.sect.vector'\n",
       "20. 'dat.sections'\n",
       "21. 'dat2'\n",
       "22. 'fastCladeTips'\n",
       "23. 'i'\n",
       "24. 'lL'\n",
       "25. 'lL.phylogSigmaSq'\n",
       "26. 'logLik.phylogSigmaSq'\n",
       "27. 'models'\n",
       "28. 'models.mat'\n",
       "29. 'numCols'\n",
       "30. 'p'\n",
       "31. 'p1'\n",
       "32. 'p2'\n",
       "33. 'path'\n",
       "34. 'pc.dat'\n",
       "35. 'pp'\n",
       "36. 'rootState'\n",
       "37. 'sigmaSq'\n",
       "38. 'spp.intersect'\n",
       "39. 'temp.na'\n",
       "40. 'temp.sd'\n",
       "41. 'tips'\n",
       "42. 'tr'\n",
       "43. 'tr2'\n",
       "44. 'treesOut'\n",
       "45. 'trType'\n",
       "\n",
       "\n"
      ],
      "text/plain": [
       " [1] \"babyTree\"             \"censor\"               \"d.a\"                 \n",
       " [4] \"d.L\"                  \"d.s\"                  \"dat.bio\"             \n",
       " [7] \"dat.bio.bySp\"         \"dat.bio.means\"        \"dat.bio.sem\"         \n",
       "[10] \"dat.geog\"             \"dat.geog.cat\"         \"dat.lf\"              \n",
       "[13] \"dat.pca\"              \"dat.sect.colors\"      \"dat.sect.colVect\"    \n",
       "[16] \"dat.sect.desc\"        \"dat.sect.edges\"       \"dat.sect.mrca\"       \n",
       "[19] \"dat.sect.vector\"      \"dat.sections\"         \"dat2\"                \n",
       "[22] \"fastCladeTips\"        \"i\"                    \"lL\"                  \n",
       "[25] \"lL.phylogSigmaSq\"     \"logLik.phylogSigmaSq\" \"models\"              \n",
       "[28] \"models.mat\"           \"numCols\"              \"p\"                   \n",
       "[31] \"p1\"                   \"p2\"                   \"path\"                \n",
       "[34] \"pc.dat\"               \"pp\"                   \"rootState\"           \n",
       "[37] \"sigmaSq\"              \"spp.intersect\"        \"temp.na\"             \n",
       "[40] \"temp.sd\"              \"tips\"                 \"tr\"                  \n",
       "[43] \"tr2\"                  \"treesOut\"             \"trType\"              "
      ]
     },
     "metadata": {},
     "output_type": "display_data"
    },
    {
     "data": {
      "text/html": [
       "<style>\n",
       ".list-inline {list-style: none; margin:0; padding: 0}\n",
       ".list-inline>li {display: inline-block}\n",
       ".list-inline>li:not(:last-child)::after {content: \"\\00b7\"; padding: 0 .5ex}\n",
       "</style>\n",
       "<ol class=list-inline><li>133</li><li>21</li></ol>\n"
      ],
      "text/latex": [
       "\\begin{enumerate*}\n",
       "\\item 133\n",
       "\\item 21\n",
       "\\end{enumerate*}\n"
      ],
      "text/markdown": [
       "1. 133\n",
       "2. 21\n",
       "\n",
       "\n"
      ],
      "text/plain": [
       "[1] 133  21"
      ]
     },
     "metadata": {},
     "output_type": "display_data"
    },
    {
     "data": {
      "text/plain": [
       "\n",
       "Phylogenetic tree with 133 tips and 132 internal nodes.\n",
       "\n",
       "Tip labels:\n",
       "  Quercus_turbinella, Quercus_ajoensis, Quercus_toumeyi, Quercus_grisea, Quercus_oblongifolia, Quercus_engelmannii, ...\n",
       "\n",
       "Rooted; includes branch lengths."
      ]
     },
     "metadata": {},
     "output_type": "display_data"
    },
    {
     "name": "stdout",
     "output_type": "stream",
     "text": [
      "GEIGER-fitted comparative model of continuous data\n",
      " fitted ‘BM’ model parameters:\n",
      "\tsigsq = 170028.695215\n",
      "\tz0 = 5341.755163\n",
      "\n",
      " model summary:\n",
      "\tlog-likelihood = -1172.711316\n",
      "\tAIC = 2349.422632\n",
      "\tAICc = 2349.514939\n",
      "\tfree parameters = 2\n",
      "\n",
      "Convergence diagnostics:\n",
      "\toptimization iterations = 100\n",
      "\tfailed iterations = 0\n",
      "\tnumber of iterations with same best fit = 100\n",
      "\tfrequency of best fit = 1.000\n",
      "\n",
      " object summary:\n",
      "\t'lik' -- likelihood function\n",
      "\t'bnd' -- bounds for likelihood search\n",
      "\t'res' -- optimization iteration summary\n",
      "\t'opt' -- maximum likelihood parameter estimates\n"
     ]
    }
   ],
   "source": [
    "load('../phyloLive//tutorial.01/data/phylo.session01b.Rdata')\n",
    "ls()\n",
    "dim(dat.bio.means)\n",
    "tr\n",
    "fitContinuous(tr, dat.bio.means[, 'bio4']) |> print()"
   ]
  },
  {
   "cell_type": "markdown",
   "metadata": {},
   "source": [
    "# 2. Using two existing tools to do the same thing\n"
   ]
  },
  {
   "cell_type": "code",
   "execution_count": null,
   "metadata": {},
   "outputs": [],
   "source": [
    "rjRun <- rjmcmc.bm(multi2di(tr), dat2[,,1], filebase = 'jumpTrial') # running with default 20,000 generations"
   ]
  },
  {
   "cell_type": "code",
   "execution_count": null,
   "metadata": {},
   "outputs": [],
   "source": [
    "library(geiger)\n",
    "dirBase = 'jump-relaxedBM.jumpTrial'\n",
    "ps = load.rjmcmc(dirBase)\n",
    "defpar <- par(no.readonly=TRUE)\n",
    "\n",
    "hist <- tr2$hist\n",
    "plot(x=ps, par=\"jumps\", burnin=0.25, legend=FALSE, show.tip=FALSE, type=\"fan\", edge.width=2)\n",
    "mm=match(tr$edge[,2],hist$descendant)\n",
    "hist=hist[mm,]\n",
    "edgelabels.auteur(text=NULL, pch=21, cex=hist$cex, bg=NA, col=ifelse(hist$cex>0, 1, NA), lty=2)\n",
    "title(\"red (estimated); black (true jump size)\", line=-5)\n",
    "par(defpar)"
   ]
  },
  {
   "cell_type": "markdown",
   "metadata": {},
   "source": [
    "# 3. Phylogenetic signal\n",
    "2. Make a tree. Generate data using the ```sim.char``` function on the original tree and the tree rescaled to ```lambda = 0.5```. Plot the log-likelihood of your data from lambda = 0 to lambda = 0.5. Using a lnL level of 2 as your significance level, visualize the confidence you should have in your point estimate. Try the same exercise with several trees of 20 taxa and several of 50 taxa. How does your power to detect a lambda < 1 vary with sample size?  "
   ]
  },
  {
   "cell_type": "code",
   "execution_count": 167,
   "metadata": {
    "vscode": {
     "languageId": "r"
    }
   },
   "outputs": [
    {
     "data": {
      "image/png": "[encoded data removed]",
      "text/plain": [
       "Plot with title “lambda tree (0.5)”"
      ]
     },
     "metadata": {
      "image/png": {
       "height": 420,
       "width": 420
      }
     },
     "output_type": "display_data"
    }
   ],
   "source": [
    "library(geiger)\n",
    "library(phytools)\n",
    "\n",
    "tr3 <- pbtree(n = 70)\n",
    "x.raw <- sim.char(tr3, 1)[,,]\n",
    "x.lambda.5 <- sim.char(rescale(tr3, 'lambda', 0.5), 1)[,,]\n",
    "par(mfrow=c(1,2))\n",
    "x.vals <- seq(from = 0, to = 1, by = 0.02)\n",
    "y.raw <- sapply(x.vals, function(w) {\n",
    "    tr.temp <- rescale(tr3, 'lambda', w)\n",
    "    logLik.phylogSigmaSq(sigmaSq(tr.temp, x.raw))\n",
    "    }\n",
    "    )\n",
    "y.lambda <- sapply(x.vals, function(w) {\n",
    "    tr.temp <- rescale(tr3, 'lambda', w)\n",
    "    logLik.phylogSigmaSq(sigmaSq(tr.temp, x.lambda.5))\n",
    "    }\n",
    "    )\n",
    "\n",
    "plot(x.vals, y.raw, main = 'original tree', xlab = 'lambda estimate', ylab = 'lnL', type = 'l')\n",
    "abline(h = max(y.raw)-2, lty = 'dashed')\n",
    "plot(x.vals, y.lambda, main = 'lambda tree (0.5)', xlab = 'lambda estimate', ylab = 'lnL', type = 'l')\n",
    "abline(h = max(y.lambda)-2, lty = 'dashed')"
   ]
  }
 ],
 "metadata": {
  "anaconda-cloud": {},
  "kernelspec": {
   "display_name": "R",
   "language": "R",
   "name": "ir"
  },
  "language_info": {
   "codemirror_mode": "r",
   "file_extension": ".r",
   "mimetype": "text/x-r-source",
   "name": "R",
   "pygments_lexer": "r",
   "version": "4.2.3"
  }
 },
 "nbformat": 4,
 "nbformat_minor": 1
}

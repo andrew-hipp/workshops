{
 "cells": [
  {
   "attachments": {},
   "cell_type": "markdown",
   "metadata": {},
   "source": [
    "# Introduction to phylogenetic comparative methods in R\n",
    "Goettingen 2023  \n",
    "Andrew Hipp, ahipp@mortonarb.org  \n",
    "Tutorial 01a: Organizing data and scripts  \n",
    "Use [static view in nbviewer](https://nbviewer.org/github/andrew-hipp/workshops/blob/master/2023-goettingen/Wk1-PhyData/2023-01a_organizingProjects.ipynb) if you are not working directly in Jupyter notebooks.\n",
    "\n",
    "## Session 1a: Starting a phylogenetic comparative project in R"
   ]
  },
  {
   "attachments": {},
   "cell_type": "markdown",
   "metadata": {},
   "source": [
    "In this tutorial, I'll walk you around the file structure and files from a past study of diversification of the American oak clade, help you import and format the data, and be set to do analyses on those data. The steps we'll follow are:\n",
    "\n",
    "* Getting the right software\n",
    "* Setting up the file structure\n",
    "* Identifying tasks in your analysis workflow and breaking them into scripts\n",
    "* Importing data\n",
    "* Manipulating data so it is ready for analysis\n",
    "* Preliminary visualizations... checking that data is ready for analysis and makes sense\n",
    "\n",
    "The goal in this is to set you up so that when you are analyzing data, you can iteratively perfect your analyses, and rerun them over and over easily as you edit data, refine your hypotheses, improve your analysis approaches or in any other way begin to think more clearly about what you are doing. Moreover, and as importantly, you can pass the whole thing off to a colleague or to the public or even to your future self (who will not remember everything your current self was thinking and doing at the time you analyzed your data) to analyze your data independently. This contributes to the repeatability of your research. If you want more information on the analyses conducted, see:\n",
    "\n",
    "Hipp AL et al. 2018. New Phytologist 217: 439–452. https://doi.org/10.1111/nph.14773.\n",
    "\n",
    "Data and scripts presented in this tutorial are adapted from the code reposity for this paper:\n",
    "\n",
    "https://github.com/andrew-hipp/oak-convergence-2017\n"
   ]
  },
  {
   "attachments": {},
   "cell_type": "markdown",
   "metadata": {},
   "source": [
    "### 1. Getting the right software\n",
    "\n",
    "I won't spend a lot of time on this point, because I expect that most of you have some <code>R</code> experience, but you will need at the minimum:\n",
    "\n",
    "* A current version of <code>R</code>\n",
    "* A good text editor for writing code. I favor [<code>Visual Studio Code</code>](https://code.visualstudio.com/), because it does a nice job of organizing files and is easy to use. You can run code directly within VS Code, debug, work on a remote server using ssh... the options are almost endless. Many people choose to use RStudio as an integrated development environment (IDE). I typically don't, because I like the control of working in a text editor that I like and tacking back and forth between my data files, scripts, and workspace. I've also just never learned RStudio. I consequently won't be covering it in this workshop, but you are welcome to use RStudio if you feel more comfortable in it or just want to explore it.\n",
    "* A place to save your files. Don't laugh! You should think about this carefully... are you using Dropbox? GitHub? Your local drive? Depending on whether you are working on your own or collaboratively, this stuff matters. For my work, it generally makes the most sense to start with Dropbox while I am working on ideas, before I know whether a set of analyses is really going anywhere. I try to move to GitHub fairly quickly, though, as I find my work stays better organized this way.\n",
    "* A few basic packages for phylogenetics. Again, I won't dwell on this, because every analysis leans on different techniques. I find that I use a few packages most heavily:<br>\n",
    "<br>__ape__ for importing trees, looking at them, doing some basic visualizations of traits on trees;\n",
    "<br>__phytools__ for more sophisticated visualizations of trait evolution;\n",
    "<br>__geiger__ for trait simulation and fitting models of continuous trait evolution;\n",
    "<br>__vegan__ for ordination, which I use a lot; and\n",
    "<br>__ggplot2__ and __ggtree__ for visualization, because the approach to graphics implemented in these packages makes it easier to make some kinds of sophisticated data visualizations\n",
    "<br>__maps__ to plot specimen data\n",
    "\n",
    "All of these are available on <code>CRAN</code>, along with <code>R</code> itself, except for <code>ggtree</code>, which is on Bioconductor. Other packages we will discuss and use in this workshop are available from the authors directly or from Bioconductor."
   ]
  },
  {
   "cell_type": "code",
   "execution_count": 1,
   "metadata": {
    "vscode": {
     "languageId": "r"
    }
   },
   "outputs": [
    {
     "data": {
      "text/html": [
       "<style>\n",
       ".list-inline {list-style: none; margin:0; padding: 0}\n",
       ".list-inline>li {display: inline-block}\n",
       ".list-inline>li:not(:last-child)::after {content: \"\\00b7\"; padding: 0 .5ex}\n",
       "</style>\n",
       "<ol class=list-inline><li>'phyloLive'</li><li>'Wk1-PhyData'</li></ol>\n"
      ],
      "text/latex": [
       "\\begin{enumerate*}\n",
       "\\item 'phyloLive'\n",
       "\\item 'Wk1-PhyData'\n",
       "\\end{enumerate*}\n"
      ],
      "text/markdown": [
       "1. 'phyloLive'\n",
       "2. 'Wk1-PhyData'\n",
       "\n",
       "\n"
      ],
      "text/plain": [
       "[1] \"phyloLive\"   \"Wk1-PhyData\""
      ]
     },
     "metadata": {},
     "output_type": "display_data"
    },
    {
     "data": {
      "text/html": [
       "<style>\n",
       ".list-inline {list-style: none; margin:0; padding: 0}\n",
       ".list-inline>li {display: inline-block}\n",
       ".list-inline>li:not(:last-child)::after {content: \"\\00b7\"; padding: 0 .5ex}\n",
       "</style>\n",
       "<ol class=list-inline><li>'phyloLive'</li><li>'Wk1-PhyData'</li></ol>\n"
      ],
      "text/latex": [
       "\\begin{enumerate*}\n",
       "\\item 'phyloLive'\n",
       "\\item 'Wk1-PhyData'\n",
       "\\end{enumerate*}\n"
      ],
      "text/markdown": [
       "1. 'phyloLive'\n",
       "2. 'Wk1-PhyData'\n",
       "\n",
       "\n"
      ],
      "text/plain": [
       "[1] \"phyloLive\"   \"Wk1-PhyData\""
      ]
     },
     "metadata": {},
     "output_type": "display_data"
    }
   ],
   "source": [
    "dir('../')\n",
    "# if you haven't already installed the needed packages, take a moment to do so. \n",
    "\n",
    "# If you are working within mac or windows, use:\n",
    "# install.packages('ape', repos='http://cran.us.r-project.org')\n",
    "# source(\"https://bioconductor.org/biocLite.R\")\n",
    "# biocLite(\"ggtree\")\n",
    "\n",
    "# if you are in linux and have installed R using anaconda, I strongly recommend using anaconda for packages:\n",
    "# conda install -c conda-forge r-ape\n",
    "# conda install -c bioconda bioconductor-ggtree\n",
    "# ... or mamba if you have mamba installed"
   ]
  },
  {
   "attachments": {},
   "cell_type": "markdown",
   "metadata": {},
   "source": [
    "### 2. Setting up your files\n",
    "\n",
    "You can start R right from your desktop and use the default directory for your workspace (see tutorial 1 if the concept of a workspace is not familiar to you), and this is often convenient for quick analyses, tests, ephemeral investigations that you have little need of referring back to. But any time you are embarking on a new project, I recommend creating a separate analysis directory just for that project that has at least three folders in it, one each for __data__, __scripts__, and __workspace__. I recommend keeping this directory parallel to your manuscript directory for the project, so that you can copy the whole thing as you create new versions, and archive the old versions by compressing them and giving them a date. \n",
    "\n",
    "For this tutorial, create a new folder for just this workshop called \"phyloTutorials\", and create a subfolder in there called \"tutorial.01\". In that subfolder, create the subfolders 'data', 'scripts', and 'workspace'. Then, launch R, and set 'workspace' as your working directory in R, using <code>setwd</code>."
   ]
  },
  {
   "cell_type": "code",
   "execution_count": 2,
   "metadata": {
    "vscode": {
     "languageId": "r"
    }
   },
   "outputs": [
    {
     "name": "stderr",
     "output_type": "stream",
     "text": [
      "directory exists... not overwriting it\n",
      "\n",
      "we are now working here\n",
      "\n"
     ]
    },
    {
     "data": {
      "text/html": [
       "'/home/andrew/Documents/github/workshops/2023-goettingen/phyloLive/tutorial.01/workspace'"
      ],
      "text/latex": [
       "'/home/andrew/Documents/github/workshops/2023-goettingen/phyloLive/tutorial.01/workspace'"
      ],
      "text/markdown": [
       "'/home/andrew/Documents/github/workshops/2023-goettingen/phyloLive/tutorial.01/workspace'"
      ],
      "text/plain": [
       "[1] \"/home/andrew/Documents/github/workshops/2023-goettingen/phyloLive/tutorial.01/workspace\""
      ]
     },
     "metadata": {},
     "output_type": "display_data"
    }
   ],
   "source": [
    "## Take a moment and do this now. I use these commands, but this may differ for you:\n",
    "\n",
    "if(length(grep('phyloLive', dir('../'))) == 0) {\n",
    "    dir.create('../phyloLive') # you should set this directory where it makes the most sense for you\n",
    "    setwd('../phyloLive')\n",
    "    dir.create('tutorial.01')\n",
    "    setwd('tutorial.01')\n",
    "    dir.create('scripts')\n",
    "    dir.create('data')\n",
    "    dir.create('workspace')\n",
    "    dir.create('out')\n",
    "    } else {\n",
    "    message('directory exists... not overwriting it')\n",
    "    setwd('../phyloLive/tutorial.01')\n",
    "}\n",
    "  \n",
    "setwd('workspace')\n",
    "\n",
    "message('we are now working here')\n",
    "getwd()"
   ]
  },
  {
   "attachments": {},
   "cell_type": "markdown",
   "metadata": {},
   "source": [
    "### 3. Breaking a project down into tasks and organizing them into scripts\n",
    "\n",
    "When you start a project, there are many ways to organize your work. I will be the first to confess that what I presenting here is imperfect, but I can at least walk you through the _logic_ behind this. First, let's talk about the tasks one usually needs to accomplish in a project that involves data and quantitative analysis (as most projects do):\n",
    "\n",
    "* __1. Define variables and set up the workspace.__ In the course of analysis, you'll often find that the same packages are used over and over in different scripts, and the same variables are important to use in different analyses. I generally create scripts that are run early in the workflow to do this.\n",
    "* __2. Import and format data.__ I generally set up scripts to import data and format it for the analyses I am performing early in the workflow. I try to consolidate all or most of the data import and formatting to these files, because it becomes difficult for me to follow my workflow if I start iteratively making copies of tables formatted for different analyses along the way... but honestly, I am not always consistent about this. As I revise the code, it generally gets better and cleaner. If you depend on software outside of R for analysis, you will sometimes have to add in multiple rounds of data import and formatting, because analyses later in the workflow often depend on analyses prepped in the earlier stages of the workflow. One alternative to this is to code your analyses to call the external programs directly, but I've only limited experience with this.\n",
    "* __3. Analyze data.__ That's a big topic to bite off. This is what we'll discuss in the remaining sessions of this course.\n",
    "* __4. Create figures and tables, and generate statistics that show up in the text of the paper.__ Your workflow should include the tables and figures that are going into your paper as well as the statistics that don't fit into the tables and figures. Ideally, I aim to have my analysis pipeline built such that I can walk through a series of ordered scripts (if nothing needs to be tweaked on the way through I prefer to create a master script that runs them all in order) and out pops all the analyses, pretty much as they show up in the paper. Then, when I am asking myself, \"how did I get _that_ result?\" I can just go back to the scripts and find it.  \n",
    "\n",
    "In addition, depending on the complexity of the study, I often have another set of tasks sprinkled throughout:\n",
    "\n",
    "* __Export data to other programs.__ In some scripts, I am scrubbing and reformatting data for other software... then, I typically have to read the data back in in the next script. These are the messiest parts of the workflow in my mind. I don't love them, but they are part of many pipelines.\n",
    "\n",
    "At the beginning of your own project, try to break your analysis pipeline down into parts and start to write separate scripts for each of them. You will make your life easier in the long run."
   ]
  },
  {
   "cell_type": "code",
   "execution_count": 28,
   "metadata": {
    "vscode": {
     "languageId": "r"
    }
   },
   "outputs": [
    {
     "data": {
      "text/html": [
       "<style>\n",
       ".list-inline {list-style: none; margin:0; padding: 0}\n",
       ".list-inline>li {display: inline-block}\n",
       ".list-inline>li:not(:last-child)::after {content: \"\\00b7\"; padding: 0 .5ex}\n",
       "</style>\n",
       "<ol class=list-inline><li>'01.readData.R'</li><li>'02.plotData.R'</li></ol>\n"
      ],
      "text/latex": [
       "\\begin{enumerate*}\n",
       "\\item '01.readData.R'\n",
       "\\item '02.plotData.R'\n",
       "\\end{enumerate*}\n"
      ],
      "text/markdown": [
       "1. '01.readData.R'\n",
       "2. '02.plotData.R'\n",
       "\n",
       "\n"
      ],
      "text/plain": [
       "[1] \"01.readData.R\" \"02.plotData.R\""
      ]
     },
     "metadata": {},
     "output_type": "display_data"
    }
   ],
   "source": [
    "## take a moment and create dummy files for this worksession. You'll fill them in as we go along.\n",
    "if(!'01.readData.R' %in% dir('../scripts')) writeLines('', '../scripts/01.readData.R')\n",
    "if(!'02.plotData.R' %in% dir('../scripts')) writeLines('', '../scripts/02.plotData.R')\n",
    "dir('../scripts/')"
   ]
  },
  {
   "attachments": {},
   "cell_type": "markdown",
   "metadata": {},
   "source": [
    "### CODING NOTE ###\n",
    "Look for the `## SCRIPT 01 ##` or `## SCRIPT 02 ##` at the top of code blocks. These are code scraps you can start plugging into your script file as you go. Some portions of the code are optional, mainly because they display objects as we are going along. You can paste those into your script or not, as you prefer."
   ]
  },
  {
   "attachments": {},
   "cell_type": "markdown",
   "metadata": {},
   "source": [
    "### 4. Importing data\n",
    "\n",
    "The most common data formats we generally have to read in are tables, unformatted text files, DNA data and phylogenetic trees. In addition, I used RAD-seq data in this paper, so I utilize the <code>RADami</code> package to read in the .loci file from PyRAD to generate some statistics and export data files. A list of the commonly used functions is here, and we'll go over examples of data import below, pulling in the data we want to be able to work on in this project.\n",
    "\n",
    "If you would like to work on different data in this workshop, that's fine! In fact, that's what I hope for. The examples below are really only meant as examples of how data can be organized and imported. We will take time for your to import your own data if you brought data, and we'll work through any difficulties.\n",
    "\n",
    "#### Tabular data -- all functions are in the <code>base</code> package\n",
    "* read.delim\n",
    "* read.csv\n",
    "* read.table\n",
    "\n",
    "#### Text data, one element per line -- <code>base</code> package\n",
    "* readLines\n",
    "\n",
    "#### DNA data -- I am using the <code>ape</code> function here, but there are also functions in <code>seqinr</code>, <code>ShortRead</code>, <code>adephylo</code>, and other packages\n",
    "* read.dna\n",
    "\n",
    "#### Newick trees -- The first two functions are from <code>ape</code>, the last is from <code>phyloch</code>, which as I recall is only available from the author's website\n",
    "* read.tree \n",
    "* read.nexus\n",
    "* phyloch:::read.beast (http://www.christophheibl.de/Rpackages.html)\n",
    "\n",
    "#### Locus file ouput from pyRAD -- from the <code>RADami</code> package\n",
    "* read.pyRAD\n",
    "\n",
    "#### Tabular data\n",
    "Most tabular data will be exported from Excel or another spreadsheet software, or exported from a specialized piece of software. For the examples in this tutorial (and for the remainder of the class), we'll import the following data, all associated with a tree: \n",
    "\n",
    "* bioclimatic data\n",
    "* biogeographic regions for each species\n",
    "* leaf traits\n",
    "* the phylogeny\n",
    "\n",
    "Let's import them all, then in the next section we'll clean up the data so it's ready for analysis. We'll start with the bioclim data."
   ]
  },
  {
   "cell_type": "code",
   "execution_count": 4,
   "metadata": {
    "vscode": {
     "languageId": "r"
    }
   },
   "outputs": [],
   "source": [
    "## SCRIPT 01 ##\n",
    "\n",
    "path <- 'https://raw.githubusercontent.com/andrew-hipp/workshops/master/data/oaks2018/'\n",
    "dat.bio <- read.csv(paste(path, 'oak.dat.eco.trimmed.csv', sep = ''), as.is = T)"
   ]
  },
  {
   "attachments": {},
   "cell_type": "markdown",
   "metadata": {},
   "source": [
    "If you look at the dimensions of the bioclim data, you find that there are more rows than we have "
   ]
  },
  {
   "cell_type": "code",
   "execution_count": 5,
   "metadata": {
    "vscode": {
     "languageId": "r"
    }
   },
   "outputs": [
    {
     "data": {
      "text/html": [
       "<style>\n",
       ".list-inline {list-style: none; margin:0; padding: 0}\n",
       ".list-inline>li {display: inline-block}\n",
       ".list-inline>li:not(:last-child)::after {content: \"\\00b7\"; padding: 0 .5ex}\n",
       "</style>\n",
       "<ol class=list-inline><li>5972</li><li>24</li></ol>\n"
      ],
      "text/latex": [
       "\\begin{enumerate*}\n",
       "\\item 5972\n",
       "\\item 24\n",
       "\\end{enumerate*}\n"
      ],
      "text/markdown": [
       "1. 5972\n",
       "2. 24\n",
       "\n",
       "\n"
      ],
      "text/plain": [
       "[1] 5972   24"
      ]
     },
     "metadata": {},
     "output_type": "display_data"
    }
   ],
   "source": [
    "dim(dat.bio)"
   ]
  },
  {
   "attachments": {},
   "cell_type": "markdown",
   "metadata": {},
   "source": [
    "You probably know why: these rows hold specimens, not species, and we pulled our specimen data from GBIF and a variety of other sources. We'll have to summarize these data to analyze them. The example data here subsamples the data I used for the original paper, leaving a maximum of 50 individuals per species so that we can look at how you summarize data for these kinds of analyses. First, let's take a look at the data:"
   ]
  },
  {
   "cell_type": "code",
   "execution_count": 6,
   "metadata": {
    "vscode": {
     "languageId": "r"
    }
   },
   "outputs": [
    {
     "data": {
      "text/html": [
       "<table class=\"dataframe\">\n",
       "<caption>A data.frame: 6 × 24</caption>\n",
       "<thead>\n",
       "\t<tr><th></th><th scope=col>X</th><th scope=col>FID_</th><th scope=col>latitude</th><th scope=col>longitude</th><th scope=col>species</th><th scope=col>bio1</th><th scope=col>bio2</th><th scope=col>bio3</th><th scope=col>bio4</th><th scope=col>bio5</th><th scope=col>⋯</th><th scope=col>bio10</th><th scope=col>bio11</th><th scope=col>bio12</th><th scope=col>bio13</th><th scope=col>bio14</th><th scope=col>bio15</th><th scope=col>bio16</th><th scope=col>bio17</th><th scope=col>bio18</th><th scope=col>bio19</th></tr>\n",
       "\t<tr><th></th><th scope=col>&lt;int&gt;</th><th scope=col>&lt;int&gt;</th><th scope=col>&lt;dbl&gt;</th><th scope=col>&lt;dbl&gt;</th><th scope=col>&lt;chr&gt;</th><th scope=col>&lt;int&gt;</th><th scope=col>&lt;int&gt;</th><th scope=col>&lt;int&gt;</th><th scope=col>&lt;int&gt;</th><th scope=col>&lt;int&gt;</th><th scope=col>⋯</th><th scope=col>&lt;int&gt;</th><th scope=col>&lt;int&gt;</th><th scope=col>&lt;int&gt;</th><th scope=col>&lt;int&gt;</th><th scope=col>&lt;int&gt;</th><th scope=col>&lt;int&gt;</th><th scope=col>&lt;int&gt;</th><th scope=col>&lt;int&gt;</th><th scope=col>&lt;int&gt;</th><th scope=col>&lt;int&gt;</th></tr>\n",
       "</thead>\n",
       "<tbody>\n",
       "\t<tr><th scope=row>1</th><td> 2</td><td>3550</td><td>35.07590</td><td> -94.39333</td><td>acerifolia</td><td>155</td><td>135</td><td>37</td><td>8070</td><td>335</td><td>⋯</td><td>256</td><td>48</td><td>1026</td><td>138</td><td>47</td><td>25</td><td>323</td><td>173</td><td>264</td><td>173</td></tr>\n",
       "\t<tr><th scope=row>2</th><td> 3</td><td>3850</td><td>35.00000</td><td> -93.00000</td><td>acerifolia</td><td>155</td><td>133</td><td>36</td><td>8068</td><td>334</td><td>⋯</td><td>255</td><td>46</td><td>1296</td><td>145</td><td>73</td><td>19</td><td>401</td><td>277</td><td>278</td><td>284</td></tr>\n",
       "\t<tr><th scope=row>3</th><td> 4</td><td>3886</td><td>35.21855</td><td> -93.72057</td><td>acerifolia</td><td>155</td><td>134</td><td>36</td><td>8179</td><td>337</td><td>⋯</td><td>257</td><td>47</td><td>1145</td><td>138</td><td>62</td><td>19</td><td>350</td><td>231</td><td>269</td><td>231</td></tr>\n",
       "\t<tr><th scope=row>4</th><td> 5</td><td>3887</td><td>35.16722</td><td> -93.64472</td><td>acerifolia</td><td>134</td><td>114</td><td>34</td><td>7733</td><td>301</td><td>⋯</td><td>231</td><td>32</td><td>1339</td><td>156</td><td>70</td><td>19</td><td>416</td><td>264</td><td>308</td><td>264</td></tr>\n",
       "\t<tr><th scope=row>5</th><td> 7</td><td>3912</td><td>34.56090</td><td>-118.19170</td><td>acutidens </td><td>138</td><td>137</td><td>42</td><td>6554</td><td>318</td><td>⋯</td><td>227</td><td>62</td><td> 343</td><td> 64</td><td> 1</td><td>83</td><td>183</td><td>  9</td><td> 17</td><td>173</td></tr>\n",
       "\t<tr><th scope=row>6</th><td>14</td><td>4402</td><td>33.63000</td><td>-117.37000</td><td>acutidens </td><td>147</td><td>143</td><td>50</td><td>5117</td><td>309</td><td>⋯</td><td>219</td><td>90</td><td> 640</td><td>123</td><td> 3</td><td>86</td><td>348</td><td> 12</td><td> 24</td><td>332</td></tr>\n",
       "</tbody>\n",
       "</table>\n"
      ],
      "text/latex": [
       "A data.frame: 6 × 24\n",
       "\\begin{tabular}{r|lllllllllllllllllllll}\n",
       "  & X & FID\\_ & latitude & longitude & species & bio1 & bio2 & bio3 & bio4 & bio5 & ⋯ & bio10 & bio11 & bio12 & bio13 & bio14 & bio15 & bio16 & bio17 & bio18 & bio19\\\\\n",
       "  & <int> & <int> & <dbl> & <dbl> & <chr> & <int> & <int> & <int> & <int> & <int> & ⋯ & <int> & <int> & <int> & <int> & <int> & <int> & <int> & <int> & <int> & <int>\\\\\n",
       "\\hline\n",
       "\t1 &  2 & 3550 & 35.07590 &  -94.39333 & acerifolia & 155 & 135 & 37 & 8070 & 335 & ⋯ & 256 & 48 & 1026 & 138 & 47 & 25 & 323 & 173 & 264 & 173\\\\\n",
       "\t2 &  3 & 3850 & 35.00000 &  -93.00000 & acerifolia & 155 & 133 & 36 & 8068 & 334 & ⋯ & 255 & 46 & 1296 & 145 & 73 & 19 & 401 & 277 & 278 & 284\\\\\n",
       "\t3 &  4 & 3886 & 35.21855 &  -93.72057 & acerifolia & 155 & 134 & 36 & 8179 & 337 & ⋯ & 257 & 47 & 1145 & 138 & 62 & 19 & 350 & 231 & 269 & 231\\\\\n",
       "\t4 &  5 & 3887 & 35.16722 &  -93.64472 & acerifolia & 134 & 114 & 34 & 7733 & 301 & ⋯ & 231 & 32 & 1339 & 156 & 70 & 19 & 416 & 264 & 308 & 264\\\\\n",
       "\t5 &  7 & 3912 & 34.56090 & -118.19170 & acutidens  & 138 & 137 & 42 & 6554 & 318 & ⋯ & 227 & 62 &  343 &  64 &  1 & 83 & 183 &   9 &  17 & 173\\\\\n",
       "\t6 & 14 & 4402 & 33.63000 & -117.37000 & acutidens  & 147 & 143 & 50 & 5117 & 309 & ⋯ & 219 & 90 &  640 & 123 &  3 & 86 & 348 &  12 &  24 & 332\\\\\n",
       "\\end{tabular}\n"
      ],
      "text/markdown": [
       "\n",
       "A data.frame: 6 × 24\n",
       "\n",
       "| <!--/--> | X &lt;int&gt; | FID_ &lt;int&gt; | latitude &lt;dbl&gt; | longitude &lt;dbl&gt; | species &lt;chr&gt; | bio1 &lt;int&gt; | bio2 &lt;int&gt; | bio3 &lt;int&gt; | bio4 &lt;int&gt; | bio5 &lt;int&gt; | ⋯ ⋯ | bio10 &lt;int&gt; | bio11 &lt;int&gt; | bio12 &lt;int&gt; | bio13 &lt;int&gt; | bio14 &lt;int&gt; | bio15 &lt;int&gt; | bio16 &lt;int&gt; | bio17 &lt;int&gt; | bio18 &lt;int&gt; | bio19 &lt;int&gt; |\n",
       "|---|---|---|---|---|---|---|---|---|---|---|---|---|---|---|---|---|---|---|---|---|---|\n",
       "| 1 |  2 | 3550 | 35.07590 |  -94.39333 | acerifolia | 155 | 135 | 37 | 8070 | 335 | ⋯ | 256 | 48 | 1026 | 138 | 47 | 25 | 323 | 173 | 264 | 173 |\n",
       "| 2 |  3 | 3850 | 35.00000 |  -93.00000 | acerifolia | 155 | 133 | 36 | 8068 | 334 | ⋯ | 255 | 46 | 1296 | 145 | 73 | 19 | 401 | 277 | 278 | 284 |\n",
       "| 3 |  4 | 3886 | 35.21855 |  -93.72057 | acerifolia | 155 | 134 | 36 | 8179 | 337 | ⋯ | 257 | 47 | 1145 | 138 | 62 | 19 | 350 | 231 | 269 | 231 |\n",
       "| 4 |  5 | 3887 | 35.16722 |  -93.64472 | acerifolia | 134 | 114 | 34 | 7733 | 301 | ⋯ | 231 | 32 | 1339 | 156 | 70 | 19 | 416 | 264 | 308 | 264 |\n",
       "| 5 |  7 | 3912 | 34.56090 | -118.19170 | acutidens  | 138 | 137 | 42 | 6554 | 318 | ⋯ | 227 | 62 |  343 |  64 |  1 | 83 | 183 |   9 |  17 | 173 |\n",
       "| 6 | 14 | 4402 | 33.63000 | -117.37000 | acutidens  | 147 | 143 | 50 | 5117 | 309 | ⋯ | 219 | 90 |  640 | 123 |  3 | 86 | 348 |  12 |  24 | 332 |\n",
       "\n"
      ],
      "text/plain": [
       "  X  FID_ latitude longitude  species    bio1 bio2 bio3 bio4 bio5 ⋯ bio10 bio11\n",
       "1  2 3550 35.07590  -94.39333 acerifolia 155  135  37   8070 335  ⋯ 256   48   \n",
       "2  3 3850 35.00000  -93.00000 acerifolia 155  133  36   8068 334  ⋯ 255   46   \n",
       "3  4 3886 35.21855  -93.72057 acerifolia 155  134  36   8179 337  ⋯ 257   47   \n",
       "4  5 3887 35.16722  -93.64472 acerifolia 134  114  34   7733 301  ⋯ 231   32   \n",
       "5  7 3912 34.56090 -118.19170 acutidens  138  137  42   6554 318  ⋯ 227   62   \n",
       "6 14 4402 33.63000 -117.37000 acutidens  147  143  50   5117 309  ⋯ 219   90   \n",
       "  bio12 bio13 bio14 bio15 bio16 bio17 bio18 bio19\n",
       "1 1026  138   47    25    323   173   264   173  \n",
       "2 1296  145   73    19    401   277   278   284  \n",
       "3 1145  138   62    19    350   231   269   231  \n",
       "4 1339  156   70    19    416   264   308   264  \n",
       "5  343   64    1    83    183     9    17   173  \n",
       "6  640  123    3    86    348    12    24   332  "
      ]
     },
     "metadata": {},
     "output_type": "display_data"
    }
   ],
   "source": [
    "head(dat.bio)"
   ]
  },
  {
   "attachments": {},
   "cell_type": "markdown",
   "metadata": {},
   "source": [
    "These coordinate data come from GBIF and other herbarium databases and represent individual samples. I then used the `dismo` and `raster` packages to extract [bioclim]('http://www.worldclim.org/bioclim') data for each specimen. I haven't scheduled time in the class to go over this, but let me know if you need some guidance on doing this for your data. I have already cleaned the data to remove duplicates and outliers, but you will want to do the same. A first step is mapping, so let's look at how you subset and map the data by species. First, we'll split the data by species:"
   ]
  },
  {
   "cell_type": "code",
   "execution_count": 7,
   "metadata": {
    "vscode": {
     "languageId": "r"
    }
   },
   "outputs": [],
   "source": [
    "## SCRIPT 01 ##\n",
    "dat.bio.bySp <- split(dat.bio, dat.bio$species) # produces a list, one data frame each"
   ]
  },
  {
   "attachments": {},
   "cell_type": "markdown",
   "metadata": {},
   "source": [
    "Then we can map these, pushing each out as a pdf. First, let's create a directory so we don't clutter things up:"
   ]
  },
  {
   "cell_type": "code",
   "execution_count": 29,
   "metadata": {
    "vscode": {
     "languageId": "r"
    }
   },
   "outputs": [],
   "source": [
    "## SCRIPT 01 ##\n",
    "if(!'maps' %in% dir('../out')) dir.create('../out/maps')"
   ]
  },
  {
   "attachments": {},
   "cell_type": "markdown",
   "metadata": {},
   "source": [
    "Then for each file we'll make a simple map, limiting ourselves to the portion of the world where the specimens we've collected come from:"
   ]
  },
  {
   "cell_type": "code",
   "execution_count": 9,
   "metadata": {
    "vscode": {
     "languageId": "r"
    }
   },
   "outputs": [
    {
     "name": "stderr",
     "output_type": "stream",
     "text": [
      "doing map acerifolia\n",
      "\n",
      "doing map acutidens\n",
      "\n",
      "doing map acutifolia\n",
      "\n",
      "doing map affinis\n",
      "\n",
      "doing map agrifolia\n",
      "\n",
      "doing map ajoensis\n",
      "\n",
      "doing map alba\n",
      "\n",
      "doing map arizonica\n",
      "\n",
      "doing map arkansana\n",
      "\n",
      "doing map austrina\n",
      "\n"
     ]
    }
   ],
   "source": [
    "## SCRIPT 01 ##\n",
    "library(maps) # I generally put all the libraries I need at the top of the script\n",
    "\n",
    "for(i in names(dat.bio.bySp)[1:10]) { # this creates an index, i, of the unique species names; \n",
    "                                      # we'll just do the first 10\n",
    "    message(paste('doing map', i)) # gives us a status message so we know something is going on...\n",
    "    jpeg(paste('../out/maps/', i, '.jpg', sep = ''), 800, 600) # opens a jpg file named by species, 800 x 600 pt\n",
    "    map() # plots the base map; you can limit the range by lat and long using ylim and xlim\n",
    "    title(i) # adds a title at the top of our map\n",
    "    points(dat.bio.bySp[[i]]$longitude, \n",
    "           dat.bio.bySp[[i]]$latitude,\n",
    "           pch = 21, col = 'black', bg = 'red', \n",
    "           cex = 2) # plot points, red with black outline, 2x normal size\n",
    "    dev.off() # close pdf file\n",
    "    } # close for loop"
   ]
  },
  {
   "attachments": {},
   "cell_type": "markdown",
   "metadata": {},
   "source": [
    "You might also choose to do this in a window, so you can see what's going on. As an example, here are the first three:"
   ]
  },
  {
   "cell_type": "code",
   "execution_count": 10,
   "metadata": {
    "vscode": {
     "languageId": "r"
    }
   },
   "outputs": [
    {
     "data": {
      "image/png": "[encoded data removed]",
      "text/plain": [
       "Plot with title “boyntonii”"
      ]
     },
     "metadata": {
      "image/png": {
       "height": 420,
       "width": 420
      }
     },
     "output_type": "display_data"
    }
   ],
   "source": [
    "## SCRIPT 01 -- optional ##\n",
    "layout(matrix(1:4, 2, 2)) # sets up a plotting layout, for multiple plots on a single panel \n",
    "for(i in names(dat.bio.bySp)[11:14]) {\n",
    "    map(\n",
    "        xlim = extendrange(r = range(dat.bio$longitude), f = 0.2),\n",
    "        ylim = extendrange(r = range(dat.bio$latitude), f = 0.2)\n",
    "        )\n",
    "    title(i)\n",
    "    points(dat.bio.bySp[[i]]$longitude, \n",
    "           dat.bio.bySp[[i]]$latitude,\n",
    "           pch = 21, col = 'black', bg = 'red', \n",
    "           cex = 2) # plot points, red with black outline, 2x normal size\n",
    "} # close for loop"
   ]
  },
  {
   "attachments": {},
   "cell_type": "markdown",
   "metadata": {},
   "source": [
    "The point here is that if you are using specimen data to infer any aspect of the environment that you will subsequently use in comparative analysis, you need to inspect the data first to make sure it is cleaned up. Remove outliers, duplicates, and data you just don't trust for any reason.\n",
    "\n",
    "Once you've done this, you'll want an estimate of the mean and measurement error for each species. We'll again use our split data for this:"
   ]
  },
  {
   "cell_type": "code",
   "execution_count": 11,
   "metadata": {
    "vscode": {
     "languageId": "r"
    }
   },
   "outputs": [
    {
     "data": {
      "text/html": [
       "<table class=\"dataframe\">\n",
       "<caption>A matrix: 6 × 21 of type dbl</caption>\n",
       "<thead>\n",
       "\t<tr><th></th><th scope=col>latitude</th><th scope=col>longitude</th><th scope=col>bio1</th><th scope=col>bio2</th><th scope=col>bio3</th><th scope=col>bio4</th><th scope=col>bio5</th><th scope=col>bio6</th><th scope=col>bio7</th><th scope=col>bio8</th><th scope=col>⋯</th><th scope=col>bio10</th><th scope=col>bio11</th><th scope=col>bio12</th><th scope=col>bio13</th><th scope=col>bio14</th><th scope=col>bio15</th><th scope=col>bio16</th><th scope=col>bio17</th><th scope=col>bio18</th><th scope=col>bio19</th></tr>\n",
       "</thead>\n",
       "<tbody>\n",
       "\t<tr><th scope=row>acerifolia</th><td>35.11542</td><td> -93.68965</td><td>149.7500</td><td>129.0000</td><td>35.75000</td><td>8012.500</td><td>326.7500</td><td>-30.75000</td><td>357.5000</td><td>159.00</td><td>⋯</td><td>249.7500</td><td> 43.2500</td><td>1201.50</td><td>144.25000</td><td>63.000000</td><td>20.50000</td><td>372.5000</td><td>236.25000</td><td>279.7500</td><td>238.0000</td></tr>\n",
       "\t<tr><th scope=row>acutidens</th><td>33.11787</td><td>-116.93307</td><td>152.9400</td><td>142.2000</td><td>50.88000</td><td>4883.760</td><td>307.2600</td><td> 29.44000</td><td>277.8200</td><td>101.54</td><td>⋯</td><td>220.6000</td><td> 96.9600</td><td> 447.74</td><td> 83.46000</td><td> 2.360000</td><td>80.52000</td><td>237.3200</td><td> 16.66000</td><td> 27.3800</td><td>220.2600</td></tr>\n",
       "\t<tr><th scope=row>acutifolia</th><td>17.60283</td><td> -97.63987</td><td>211.3000</td><td>135.1400</td><td>68.32000</td><td>1507.820</td><td>308.2800</td><td>112.14000</td><td>196.1400</td><td>218.34</td><td>⋯</td><td>229.1600</td><td>190.6600</td><td>1224.24</td><td>256.14000</td><td> 8.700000</td><td>96.02000</td><td>709.3800</td><td> 32.84000</td><td>320.4600</td><td> 58.8200</td></tr>\n",
       "\t<tr><th scope=row>affinis</th><td>21.61818</td><td> -98.79716</td><td>158.9800</td><td>136.0800</td><td>63.02000</td><td>2416.820</td><td>264.2800</td><td> 49.48000</td><td>214.8000</td><td>175.36</td><td>⋯</td><td>186.0600</td><td>125.1600</td><td>1126.52</td><td>228.56000</td><td>22.160000</td><td>73.98000</td><td>555.1600</td><td> 79.34000</td><td>319.9200</td><td>107.2600</td></tr>\n",
       "\t<tr><th scope=row>agrifolia</th><td>36.04875</td><td>-120.45043</td><td>147.7200</td><td>127.4200</td><td>52.84000</td><td>4028.120</td><td>279.7200</td><td> 38.48000</td><td>241.2400</td><td>101.74</td><td>⋯</td><td>200.6600</td><td> 98.9600</td><td> 603.40</td><td>125.74000</td><td> 1.140000</td><td>88.44000</td><td>331.2200</td><td>  8.64000</td><td> 17.0600</td><td>324.7600</td></tr>\n",
       "\t<tr><th scope=row>ajoensis</th><td>31.80864</td><td>-112.47244</td><td>194.9048</td><td>152.6905</td><td>45.88095</td><td>6690.786</td><td>367.8571</td><td> 37.30952</td><td>330.5476</td><td>279.50</td><td>⋯</td><td>281.8571</td><td>113.2857</td><td> 301.00</td><td> 58.90476</td><td> 3.714286</td><td>63.02381</td><td>134.2381</td><td> 16.07143</td><td>109.4286</td><td> 83.2619</td></tr>\n",
       "</tbody>\n",
       "</table>\n"
      ],
      "text/latex": [
       "A matrix: 6 × 21 of type dbl\n",
       "\\begin{tabular}{r|lllllllllllllllllllll}\n",
       "  & latitude & longitude & bio1 & bio2 & bio3 & bio4 & bio5 & bio6 & bio7 & bio8 & ⋯ & bio10 & bio11 & bio12 & bio13 & bio14 & bio15 & bio16 & bio17 & bio18 & bio19\\\\\n",
       "\\hline\n",
       "\tacerifolia & 35.11542 &  -93.68965 & 149.7500 & 129.0000 & 35.75000 & 8012.500 & 326.7500 & -30.75000 & 357.5000 & 159.00 & ⋯ & 249.7500 &  43.2500 & 1201.50 & 144.25000 & 63.000000 & 20.50000 & 372.5000 & 236.25000 & 279.7500 & 238.0000\\\\\n",
       "\tacutidens & 33.11787 & -116.93307 & 152.9400 & 142.2000 & 50.88000 & 4883.760 & 307.2600 &  29.44000 & 277.8200 & 101.54 & ⋯ & 220.6000 &  96.9600 &  447.74 &  83.46000 &  2.360000 & 80.52000 & 237.3200 &  16.66000 &  27.3800 & 220.2600\\\\\n",
       "\tacutifolia & 17.60283 &  -97.63987 & 211.3000 & 135.1400 & 68.32000 & 1507.820 & 308.2800 & 112.14000 & 196.1400 & 218.34 & ⋯ & 229.1600 & 190.6600 & 1224.24 & 256.14000 &  8.700000 & 96.02000 & 709.3800 &  32.84000 & 320.4600 &  58.8200\\\\\n",
       "\taffinis & 21.61818 &  -98.79716 & 158.9800 & 136.0800 & 63.02000 & 2416.820 & 264.2800 &  49.48000 & 214.8000 & 175.36 & ⋯ & 186.0600 & 125.1600 & 1126.52 & 228.56000 & 22.160000 & 73.98000 & 555.1600 &  79.34000 & 319.9200 & 107.2600\\\\\n",
       "\tagrifolia & 36.04875 & -120.45043 & 147.7200 & 127.4200 & 52.84000 & 4028.120 & 279.7200 &  38.48000 & 241.2400 & 101.74 & ⋯ & 200.6600 &  98.9600 &  603.40 & 125.74000 &  1.140000 & 88.44000 & 331.2200 &   8.64000 &  17.0600 & 324.7600\\\\\n",
       "\tajoensis & 31.80864 & -112.47244 & 194.9048 & 152.6905 & 45.88095 & 6690.786 & 367.8571 &  37.30952 & 330.5476 & 279.50 & ⋯ & 281.8571 & 113.2857 &  301.00 &  58.90476 &  3.714286 & 63.02381 & 134.2381 &  16.07143 & 109.4286 &  83.2619\\\\\n",
       "\\end{tabular}\n"
      ],
      "text/markdown": [
       "\n",
       "A matrix: 6 × 21 of type dbl\n",
       "\n",
       "| <!--/--> | latitude | longitude | bio1 | bio2 | bio3 | bio4 | bio5 | bio6 | bio7 | bio8 | ⋯ | bio10 | bio11 | bio12 | bio13 | bio14 | bio15 | bio16 | bio17 | bio18 | bio19 |\n",
       "|---|---|---|---|---|---|---|---|---|---|---|---|---|---|---|---|---|---|---|---|---|---|\n",
       "| acerifolia | 35.11542 |  -93.68965 | 149.7500 | 129.0000 | 35.75000 | 8012.500 | 326.7500 | -30.75000 | 357.5000 | 159.00 | ⋯ | 249.7500 |  43.2500 | 1201.50 | 144.25000 | 63.000000 | 20.50000 | 372.5000 | 236.25000 | 279.7500 | 238.0000 |\n",
       "| acutidens | 33.11787 | -116.93307 | 152.9400 | 142.2000 | 50.88000 | 4883.760 | 307.2600 |  29.44000 | 277.8200 | 101.54 | ⋯ | 220.6000 |  96.9600 |  447.74 |  83.46000 |  2.360000 | 80.52000 | 237.3200 |  16.66000 |  27.3800 | 220.2600 |\n",
       "| acutifolia | 17.60283 |  -97.63987 | 211.3000 | 135.1400 | 68.32000 | 1507.820 | 308.2800 | 112.14000 | 196.1400 | 218.34 | ⋯ | 229.1600 | 190.6600 | 1224.24 | 256.14000 |  8.700000 | 96.02000 | 709.3800 |  32.84000 | 320.4600 |  58.8200 |\n",
       "| affinis | 21.61818 |  -98.79716 | 158.9800 | 136.0800 | 63.02000 | 2416.820 | 264.2800 |  49.48000 | 214.8000 | 175.36 | ⋯ | 186.0600 | 125.1600 | 1126.52 | 228.56000 | 22.160000 | 73.98000 | 555.1600 |  79.34000 | 319.9200 | 107.2600 |\n",
       "| agrifolia | 36.04875 | -120.45043 | 147.7200 | 127.4200 | 52.84000 | 4028.120 | 279.7200 |  38.48000 | 241.2400 | 101.74 | ⋯ | 200.6600 |  98.9600 |  603.40 | 125.74000 |  1.140000 | 88.44000 | 331.2200 |   8.64000 |  17.0600 | 324.7600 |\n",
       "| ajoensis | 31.80864 | -112.47244 | 194.9048 | 152.6905 | 45.88095 | 6690.786 | 367.8571 |  37.30952 | 330.5476 | 279.50 | ⋯ | 281.8571 | 113.2857 |  301.00 |  58.90476 |  3.714286 | 63.02381 | 134.2381 |  16.07143 | 109.4286 |  83.2619 |\n",
       "\n"
      ],
      "text/plain": [
       "           latitude longitude  bio1     bio2     bio3     bio4     bio5    \n",
       "acerifolia 35.11542  -93.68965 149.7500 129.0000 35.75000 8012.500 326.7500\n",
       "acutidens  33.11787 -116.93307 152.9400 142.2000 50.88000 4883.760 307.2600\n",
       "acutifolia 17.60283  -97.63987 211.3000 135.1400 68.32000 1507.820 308.2800\n",
       "affinis    21.61818  -98.79716 158.9800 136.0800 63.02000 2416.820 264.2800\n",
       "agrifolia  36.04875 -120.45043 147.7200 127.4200 52.84000 4028.120 279.7200\n",
       "ajoensis   31.80864 -112.47244 194.9048 152.6905 45.88095 6690.786 367.8571\n",
       "           bio6      bio7     bio8   ⋯ bio10    bio11    bio12   bio13    \n",
       "acerifolia -30.75000 357.5000 159.00 ⋯ 249.7500  43.2500 1201.50 144.25000\n",
       "acutidens   29.44000 277.8200 101.54 ⋯ 220.6000  96.9600  447.74  83.46000\n",
       "acutifolia 112.14000 196.1400 218.34 ⋯ 229.1600 190.6600 1224.24 256.14000\n",
       "affinis     49.48000 214.8000 175.36 ⋯ 186.0600 125.1600 1126.52 228.56000\n",
       "agrifolia   38.48000 241.2400 101.74 ⋯ 200.6600  98.9600  603.40 125.74000\n",
       "ajoensis    37.30952 330.5476 279.50 ⋯ 281.8571 113.2857  301.00  58.90476\n",
       "           bio14     bio15    bio16    bio17     bio18    bio19   \n",
       "acerifolia 63.000000 20.50000 372.5000 236.25000 279.7500 238.0000\n",
       "acutidens   2.360000 80.52000 237.3200  16.66000  27.3800 220.2600\n",
       "acutifolia  8.700000 96.02000 709.3800  32.84000 320.4600  58.8200\n",
       "affinis    22.160000 73.98000 555.1600  79.34000 319.9200 107.2600\n",
       "agrifolia   1.140000 88.44000 331.2200   8.64000  17.0600 324.7600\n",
       "ajoensis    3.714286 63.02381 134.2381  16.07143 109.4286  83.2619"
      ]
     },
     "metadata": {},
     "output_type": "display_data"
    }
   ],
   "source": [
    "## SCRIPT 01 ##\n",
    "numCols <- grep('lat|long|bio', names(dat.bio), value = T)\n",
    "dat.bio.means <- t(sapply(dat.bio.bySp, function(x) apply(x[, numCols], 2, mean, na.rm = T)))\n",
    "\n",
    "## SCRIPT 01 -- optional ##\n",
    "head(dat.bio.means)"
   ]
  },
  {
   "attachments": {},
   "cell_type": "markdown",
   "metadata": {
    "collapsed": true
   },
   "source": [
    "We've introduced a few super-useful functions in the three lines above, functions you can use in all sorts of situations. In order:\n",
    "\n",
    "__`grep`__ searches for a pattern in a vector, and returns either the index (numbers) of the elements that contain the pattern or the values of those elements (if value = T). In our case above, we used a regular expression to match any of the names of dat.bio that contained \"lat\", \"long\", or \"bio\".\n",
    "\n",
    "__`sapply`__ takes a list or single-dimensioned vectory (not a matrix!) and applies a function to each element of that; then, it tries to simplify the result to something other than a list. It is analogous to `lapply`, which does the same thing but without simplifying it. In our case, we get a matrix back.\n",
    "\n",
    "__`apply`__ takes a matrix and applies a function to either the rows (if the second argument is 1, for the first dimension) or columns (if the second argument is 2), or to every cell individually (if the second argument is 1:2). \n",
    "\n",
    "__`t`__ transposes a matrix\n",
    "\n",
    "__`head`__ shows the first 6 rows of a matrix or elements of a vector.\n",
    "\n",
    "With these elements, you can do a whole lot! Let's use them again now to get a matrix holding the standard error of the mean for each value, instead of the mean. "
   ]
  },
  {
   "cell_type": "code",
   "execution_count": 12,
   "metadata": {
    "vscode": {
     "languageId": "r"
    }
   },
   "outputs": [
    {
     "data": {
      "text/html": [
       "<table class=\"dataframe\">\n",
       "<caption>A matrix: 6 × 21 of type dbl</caption>\n",
       "<thead>\n",
       "\t<tr><th></th><th scope=col>latitude</th><th scope=col>longitude</th><th scope=col>bio1</th><th scope=col>bio2</th><th scope=col>bio3</th><th scope=col>bio4</th><th scope=col>bio5</th><th scope=col>bio6</th><th scope=col>bio7</th><th scope=col>bio8</th><th scope=col>⋯</th><th scope=col>bio10</th><th scope=col>bio11</th><th scope=col>bio12</th><th scope=col>bio13</th><th scope=col>bio14</th><th scope=col>bio15</th><th scope=col>bio16</th><th scope=col>bio17</th><th scope=col>bio18</th><th scope=col>bio19</th></tr>\n",
       "</thead>\n",
       "<tbody>\n",
       "\t<tr><th scope=row>acerifolia</th><td>0.04847851</td><td>0.28486254</td><td>5.250000</td><td>5.016639</td><td>0.6291529</td><td> 96.70789</td><td>8.605957</td><td>0.8539126</td><td>7.858117</td><td>14.577380</td><td>⋯</td><td>6.263319</td><td>3.772157</td><td>71.78034</td><td> 4.250000</td><td>5.81664279</td><td>1.5000000</td><td>21.719807</td><td>23.1997665</td><td> 9.852030</td><td>24.265888</td></tr>\n",
       "\t<tr><th scope=row>acutidens</th><td>0.05109032</td><td>0.05390315</td><td>2.374595</td><td>2.365224</td><td>0.3754073</td><td>125.60133</td><td>2.969891</td><td>3.4520813</td><td>5.312726</td><td> 3.375205</td><td>⋯</td><td>1.575838</td><td>3.481843</td><td>16.99534</td><td> 2.995535</td><td>0.09797959</td><td>0.7081104</td><td> 8.658814</td><td> 1.3369505</td><td> 2.062867</td><td> 8.009984</td></tr>\n",
       "\t<tr><th scope=row>acutifolia</th><td>0.16925370</td><td>0.45379633</td><td>4.336203</td><td>2.454984</td><td>0.5982560</td><td> 46.93299</td><td>4.263949</td><td>4.9438488</td><td>3.329523</td><td> 4.382396</td><td>⋯</td><td>4.287653</td><td>4.508913</td><td>48.45582</td><td> 9.268204</td><td>1.37328743</td><td>1.7772921</td><td>28.258051</td><td> 4.3609922</td><td>14.244231</td><td> 8.670931</td></tr>\n",
       "\t<tr><th scope=row>affinis</th><td>0.33307246</td><td>0.19563960</td><td>5.807278</td><td>2.251864</td><td>0.6709664</td><td>114.58724</td><td>6.468198</td><td>4.8835618</td><td>3.886660</td><td> 6.664237</td><td>⋯</td><td>6.674680</td><td>4.782311</td><td>72.38574</td><td>13.070458</td><td>1.71484753</td><td>1.4204024</td><td>35.061641</td><td> 5.6055810</td><td>13.504038</td><td>12.033552</td></tr>\n",
       "\t<tr><th scope=row>agrifolia</th><td>0.28757159</td><td>0.31758639</td><td>2.053775</td><td>3.798076</td><td>0.5695397</td><td>180.81114</td><td>6.383911</td><td>2.7741136</td><td>8.502800</td><td> 2.251858</td><td>⋯</td><td>3.972519</td><td>2.196279</td><td>31.00820</td><td> 7.030186</td><td>0.09901556</td><td>1.1274533</td><td>17.135243</td><td> 0.8019161</td><td> 1.659705</td><td>17.558870</td></tr>\n",
       "\t<tr><th scope=row>ajoensis</th><td>0.23810800</td><td>0.09287141</td><td>4.348069</td><td>2.160378</td><td>0.5992663</td><td>129.84861</td><td>5.560936</td><td>3.7932160</td><td>4.669221</td><td> 5.163781</td><td>⋯</td><td>5.109779</td><td>3.962115</td><td>20.01768</td><td> 2.965698</td><td>0.54770741</td><td>1.6725175</td><td> 7.620180</td><td> 2.0108281</td><td> 6.499544</td><td> 5.930791</td></tr>\n",
       "</tbody>\n",
       "</table>\n"
      ],
      "text/latex": [
       "A matrix: 6 × 21 of type dbl\n",
       "\\begin{tabular}{r|lllllllllllllllllllll}\n",
       "  & latitude & longitude & bio1 & bio2 & bio3 & bio4 & bio5 & bio6 & bio7 & bio8 & ⋯ & bio10 & bio11 & bio12 & bio13 & bio14 & bio15 & bio16 & bio17 & bio18 & bio19\\\\\n",
       "\\hline\n",
       "\tacerifolia & 0.04847851 & 0.28486254 & 5.250000 & 5.016639 & 0.6291529 &  96.70789 & 8.605957 & 0.8539126 & 7.858117 & 14.577380 & ⋯ & 6.263319 & 3.772157 & 71.78034 &  4.250000 & 5.81664279 & 1.5000000 & 21.719807 & 23.1997665 &  9.852030 & 24.265888\\\\\n",
       "\tacutidens & 0.05109032 & 0.05390315 & 2.374595 & 2.365224 & 0.3754073 & 125.60133 & 2.969891 & 3.4520813 & 5.312726 &  3.375205 & ⋯ & 1.575838 & 3.481843 & 16.99534 &  2.995535 & 0.09797959 & 0.7081104 &  8.658814 &  1.3369505 &  2.062867 &  8.009984\\\\\n",
       "\tacutifolia & 0.16925370 & 0.45379633 & 4.336203 & 2.454984 & 0.5982560 &  46.93299 & 4.263949 & 4.9438488 & 3.329523 &  4.382396 & ⋯ & 4.287653 & 4.508913 & 48.45582 &  9.268204 & 1.37328743 & 1.7772921 & 28.258051 &  4.3609922 & 14.244231 &  8.670931\\\\\n",
       "\taffinis & 0.33307246 & 0.19563960 & 5.807278 & 2.251864 & 0.6709664 & 114.58724 & 6.468198 & 4.8835618 & 3.886660 &  6.664237 & ⋯ & 6.674680 & 4.782311 & 72.38574 & 13.070458 & 1.71484753 & 1.4204024 & 35.061641 &  5.6055810 & 13.504038 & 12.033552\\\\\n",
       "\tagrifolia & 0.28757159 & 0.31758639 & 2.053775 & 3.798076 & 0.5695397 & 180.81114 & 6.383911 & 2.7741136 & 8.502800 &  2.251858 & ⋯ & 3.972519 & 2.196279 & 31.00820 &  7.030186 & 0.09901556 & 1.1274533 & 17.135243 &  0.8019161 &  1.659705 & 17.558870\\\\\n",
       "\tajoensis & 0.23810800 & 0.09287141 & 4.348069 & 2.160378 & 0.5992663 & 129.84861 & 5.560936 & 3.7932160 & 4.669221 &  5.163781 & ⋯ & 5.109779 & 3.962115 & 20.01768 &  2.965698 & 0.54770741 & 1.6725175 &  7.620180 &  2.0108281 &  6.499544 &  5.930791\\\\\n",
       "\\end{tabular}\n"
      ],
      "text/markdown": [
       "\n",
       "A matrix: 6 × 21 of type dbl\n",
       "\n",
       "| <!--/--> | latitude | longitude | bio1 | bio2 | bio3 | bio4 | bio5 | bio6 | bio7 | bio8 | ⋯ | bio10 | bio11 | bio12 | bio13 | bio14 | bio15 | bio16 | bio17 | bio18 | bio19 |\n",
       "|---|---|---|---|---|---|---|---|---|---|---|---|---|---|---|---|---|---|---|---|---|---|\n",
       "| acerifolia | 0.04847851 | 0.28486254 | 5.250000 | 5.016639 | 0.6291529 |  96.70789 | 8.605957 | 0.8539126 | 7.858117 | 14.577380 | ⋯ | 6.263319 | 3.772157 | 71.78034 |  4.250000 | 5.81664279 | 1.5000000 | 21.719807 | 23.1997665 |  9.852030 | 24.265888 |\n",
       "| acutidens | 0.05109032 | 0.05390315 | 2.374595 | 2.365224 | 0.3754073 | 125.60133 | 2.969891 | 3.4520813 | 5.312726 |  3.375205 | ⋯ | 1.575838 | 3.481843 | 16.99534 |  2.995535 | 0.09797959 | 0.7081104 |  8.658814 |  1.3369505 |  2.062867 |  8.009984 |\n",
       "| acutifolia | 0.16925370 | 0.45379633 | 4.336203 | 2.454984 | 0.5982560 |  46.93299 | 4.263949 | 4.9438488 | 3.329523 |  4.382396 | ⋯ | 4.287653 | 4.508913 | 48.45582 |  9.268204 | 1.37328743 | 1.7772921 | 28.258051 |  4.3609922 | 14.244231 |  8.670931 |\n",
       "| affinis | 0.33307246 | 0.19563960 | 5.807278 | 2.251864 | 0.6709664 | 114.58724 | 6.468198 | 4.8835618 | 3.886660 |  6.664237 | ⋯ | 6.674680 | 4.782311 | 72.38574 | 13.070458 | 1.71484753 | 1.4204024 | 35.061641 |  5.6055810 | 13.504038 | 12.033552 |\n",
       "| agrifolia | 0.28757159 | 0.31758639 | 2.053775 | 3.798076 | 0.5695397 | 180.81114 | 6.383911 | 2.7741136 | 8.502800 |  2.251858 | ⋯ | 3.972519 | 2.196279 | 31.00820 |  7.030186 | 0.09901556 | 1.1274533 | 17.135243 |  0.8019161 |  1.659705 | 17.558870 |\n",
       "| ajoensis | 0.23810800 | 0.09287141 | 4.348069 | 2.160378 | 0.5992663 | 129.84861 | 5.560936 | 3.7932160 | 4.669221 |  5.163781 | ⋯ | 5.109779 | 3.962115 | 20.01768 |  2.965698 | 0.54770741 | 1.6725175 |  7.620180 |  2.0108281 |  6.499544 |  5.930791 |\n",
       "\n"
      ],
      "text/plain": [
       "           latitude   longitude  bio1     bio2     bio3      bio4      bio5    \n",
       "acerifolia 0.04847851 0.28486254 5.250000 5.016639 0.6291529  96.70789 8.605957\n",
       "acutidens  0.05109032 0.05390315 2.374595 2.365224 0.3754073 125.60133 2.969891\n",
       "acutifolia 0.16925370 0.45379633 4.336203 2.454984 0.5982560  46.93299 4.263949\n",
       "affinis    0.33307246 0.19563960 5.807278 2.251864 0.6709664 114.58724 6.468198\n",
       "agrifolia  0.28757159 0.31758639 2.053775 3.798076 0.5695397 180.81114 6.383911\n",
       "ajoensis   0.23810800 0.09287141 4.348069 2.160378 0.5992663 129.84861 5.560936\n",
       "           bio6      bio7     bio8      ⋯ bio10    bio11    bio12    bio13    \n",
       "acerifolia 0.8539126 7.858117 14.577380 ⋯ 6.263319 3.772157 71.78034  4.250000\n",
       "acutidens  3.4520813 5.312726  3.375205 ⋯ 1.575838 3.481843 16.99534  2.995535\n",
       "acutifolia 4.9438488 3.329523  4.382396 ⋯ 4.287653 4.508913 48.45582  9.268204\n",
       "affinis    4.8835618 3.886660  6.664237 ⋯ 6.674680 4.782311 72.38574 13.070458\n",
       "agrifolia  2.7741136 8.502800  2.251858 ⋯ 3.972519 2.196279 31.00820  7.030186\n",
       "ajoensis   3.7932160 4.669221  5.163781 ⋯ 5.109779 3.962115 20.01768  2.965698\n",
       "           bio14      bio15     bio16     bio17      bio18     bio19    \n",
       "acerifolia 5.81664279 1.5000000 21.719807 23.1997665  9.852030 24.265888\n",
       "acutidens  0.09797959 0.7081104  8.658814  1.3369505  2.062867  8.009984\n",
       "acutifolia 1.37328743 1.7772921 28.258051  4.3609922 14.244231  8.670931\n",
       "affinis    1.71484753 1.4204024 35.061641  5.6055810 13.504038 12.033552\n",
       "agrifolia  0.09901556 1.1274533 17.135243  0.8019161  1.659705 17.558870\n",
       "ajoensis   0.54770741 1.6725175  7.620180  2.0108281  6.499544  5.930791"
      ]
     },
     "metadata": {},
     "output_type": "display_data"
    }
   ],
   "source": [
    "## SCRIPT 01 ##\n",
    "dat.bio.sem <- t(sapply(dat.bio.bySp, function(x) {\n",
    "    apply(x[, numCols], 2, sd, na.rm = T) / sqrt(dim(x)[1])\n",
    "    } # close function\n",
    "                        ) # close sapply\n",
    "                 ) # close t\n",
    "\n",
    "## SCRIPT 01 -- optional ##\n",
    "head(dat.bio.sem)"
   ]
  },
  {
   "attachments": {},
   "cell_type": "markdown",
   "metadata": {},
   "source": [
    "This all looks well and good unless you look too closely... because some of our species are represented by only one specimen, they can't have a standard deviation. Take a look:"
   ]
  },
  {
   "cell_type": "code",
   "execution_count": 13,
   "metadata": {
    "vscode": {
     "languageId": "r"
    }
   },
   "outputs": [
    {
     "name": "stdout",
     "output_type": "stream",
     "text": [
      "[1] \"corrugata\"   \"delgadoana\"  \"macranthera\" \"petraea\"     \"sp1\"        \n"
     ]
    },
    {
     "data": {
      "text/html": [
       "<table class=\"dataframe\">\n",
       "<caption>A matrix: 5 × 21 of type dbl</caption>\n",
       "<thead>\n",
       "\t<tr><th></th><th scope=col>latitude</th><th scope=col>longitude</th><th scope=col>bio1</th><th scope=col>bio2</th><th scope=col>bio3</th><th scope=col>bio4</th><th scope=col>bio5</th><th scope=col>bio6</th><th scope=col>bio7</th><th scope=col>bio8</th><th scope=col>⋯</th><th scope=col>bio10</th><th scope=col>bio11</th><th scope=col>bio12</th><th scope=col>bio13</th><th scope=col>bio14</th><th scope=col>bio15</th><th scope=col>bio16</th><th scope=col>bio17</th><th scope=col>bio18</th><th scope=col>bio19</th></tr>\n",
       "</thead>\n",
       "<tbody>\n",
       "\t<tr><th scope=row>corrugata</th><td>NA</td><td>NA</td><td>NA</td><td>NA</td><td>NA</td><td>NA</td><td>NA</td><td>NA</td><td>NA</td><td>NA</td><td>⋯</td><td>NA</td><td>NA</td><td>NA</td><td>NA</td><td>NA</td><td>NA</td><td>NA</td><td>NA</td><td>NA</td><td>NA</td></tr>\n",
       "\t<tr><th scope=row>delgadoana</th><td>NA</td><td>NA</td><td>NA</td><td>NA</td><td>NA</td><td>NA</td><td>NA</td><td>NA</td><td>NA</td><td>NA</td><td>⋯</td><td>NA</td><td>NA</td><td>NA</td><td>NA</td><td>NA</td><td>NA</td><td>NA</td><td>NA</td><td>NA</td><td>NA</td></tr>\n",
       "\t<tr><th scope=row>macranthera</th><td>NA</td><td>NA</td><td>NA</td><td>NA</td><td>NA</td><td>NA</td><td>NA</td><td>NA</td><td>NA</td><td>NA</td><td>⋯</td><td>NA</td><td>NA</td><td>NA</td><td>NA</td><td>NA</td><td>NA</td><td>NA</td><td>NA</td><td>NA</td><td>NA</td></tr>\n",
       "\t<tr><th scope=row>petraea</th><td>NA</td><td>NA</td><td>NA</td><td>NA</td><td>NA</td><td>NA</td><td>NA</td><td>NA</td><td>NA</td><td>NA</td><td>⋯</td><td>NA</td><td>NA</td><td>NA</td><td>NA</td><td>NA</td><td>NA</td><td>NA</td><td>NA</td><td>NA</td><td>NA</td></tr>\n",
       "\t<tr><th scope=row>sp1</th><td>NA</td><td>NA</td><td>NA</td><td>NA</td><td>NA</td><td>NA</td><td>NA</td><td>NA</td><td>NA</td><td>NA</td><td>⋯</td><td>NA</td><td>NA</td><td>NA</td><td>NA</td><td>NA</td><td>NA</td><td>NA</td><td>NA</td><td>NA</td><td>NA</td></tr>\n",
       "</tbody>\n",
       "</table>\n"
      ],
      "text/latex": [
       "A matrix: 5 × 21 of type dbl\n",
       "\\begin{tabular}{r|lllllllllllllllllllll}\n",
       "  & latitude & longitude & bio1 & bio2 & bio3 & bio4 & bio5 & bio6 & bio7 & bio8 & ⋯ & bio10 & bio11 & bio12 & bio13 & bio14 & bio15 & bio16 & bio17 & bio18 & bio19\\\\\n",
       "\\hline\n",
       "\tcorrugata & NA & NA & NA & NA & NA & NA & NA & NA & NA & NA & ⋯ & NA & NA & NA & NA & NA & NA & NA & NA & NA & NA\\\\\n",
       "\tdelgadoana & NA & NA & NA & NA & NA & NA & NA & NA & NA & NA & ⋯ & NA & NA & NA & NA & NA & NA & NA & NA & NA & NA\\\\\n",
       "\tmacranthera & NA & NA & NA & NA & NA & NA & NA & NA & NA & NA & ⋯ & NA & NA & NA & NA & NA & NA & NA & NA & NA & NA\\\\\n",
       "\tpetraea & NA & NA & NA & NA & NA & NA & NA & NA & NA & NA & ⋯ & NA & NA & NA & NA & NA & NA & NA & NA & NA & NA\\\\\n",
       "\tsp1 & NA & NA & NA & NA & NA & NA & NA & NA & NA & NA & ⋯ & NA & NA & NA & NA & NA & NA & NA & NA & NA & NA\\\\\n",
       "\\end{tabular}\n"
      ],
      "text/markdown": [
       "\n",
       "A matrix: 5 × 21 of type dbl\n",
       "\n",
       "| <!--/--> | latitude | longitude | bio1 | bio2 | bio3 | bio4 | bio5 | bio6 | bio7 | bio8 | ⋯ | bio10 | bio11 | bio12 | bio13 | bio14 | bio15 | bio16 | bio17 | bio18 | bio19 |\n",
       "|---|---|---|---|---|---|---|---|---|---|---|---|---|---|---|---|---|---|---|---|---|---|\n",
       "| corrugata | NA | NA | NA | NA | NA | NA | NA | NA | NA | NA | ⋯ | NA | NA | NA | NA | NA | NA | NA | NA | NA | NA |\n",
       "| delgadoana | NA | NA | NA | NA | NA | NA | NA | NA | NA | NA | ⋯ | NA | NA | NA | NA | NA | NA | NA | NA | NA | NA |\n",
       "| macranthera | NA | NA | NA | NA | NA | NA | NA | NA | NA | NA | ⋯ | NA | NA | NA | NA | NA | NA | NA | NA | NA | NA |\n",
       "| petraea | NA | NA | NA | NA | NA | NA | NA | NA | NA | NA | ⋯ | NA | NA | NA | NA | NA | NA | NA | NA | NA | NA |\n",
       "| sp1 | NA | NA | NA | NA | NA | NA | NA | NA | NA | NA | ⋯ | NA | NA | NA | NA | NA | NA | NA | NA | NA | NA |\n",
       "\n"
      ],
      "text/plain": [
       "            latitude longitude bio1 bio2 bio3 bio4 bio5 bio6 bio7 bio8 ⋯ bio10\n",
       "corrugata   NA       NA        NA   NA   NA   NA   NA   NA   NA   NA   ⋯ NA   \n",
       "delgadoana  NA       NA        NA   NA   NA   NA   NA   NA   NA   NA   ⋯ NA   \n",
       "macranthera NA       NA        NA   NA   NA   NA   NA   NA   NA   NA   ⋯ NA   \n",
       "petraea     NA       NA        NA   NA   NA   NA   NA   NA   NA   NA   ⋯ NA   \n",
       "sp1         NA       NA        NA   NA   NA   NA   NA   NA   NA   NA   ⋯ NA   \n",
       "            bio11 bio12 bio13 bio14 bio15 bio16 bio17 bio18 bio19\n",
       "corrugata   NA    NA    NA    NA    NA    NA    NA    NA    NA   \n",
       "delgadoana  NA    NA    NA    NA    NA    NA    NA    NA    NA   \n",
       "macranthera NA    NA    NA    NA    NA    NA    NA    NA    NA   \n",
       "petraea     NA    NA    NA    NA    NA    NA    NA    NA    NA   \n",
       "sp1         NA    NA    NA    NA    NA    NA    NA    NA    NA   "
      ]
     },
     "metadata": {},
     "output_type": "display_data"
    }
   ],
   "source": [
    "## SCRIPT 01 ##\n",
    "\n",
    "temp.na = names(which(table(dat.bio$species) == 1))\n",
    "\n",
    "## SCRIPT 01 -- optional ##\n",
    "print(temp.na)\n",
    "dat.bio.sem[temp.na, ]"
   ]
  },
  {
   "attachments": {},
   "cell_type": "markdown",
   "metadata": {},
   "source": [
    "So what can we do here? For those samples, we estimate the standard error by taking the _average_ standard deviation for all other species for each variable, and divide by the square root of the sample size (which is 1 for each of these taxa):"
   ]
  },
  {
   "cell_type": "code",
   "execution_count": 14,
   "metadata": {
    "vscode": {
     "languageId": "r"
    }
   },
   "outputs": [
    {
     "data": {
      "text/html": [
       "<table class=\"dataframe\">\n",
       "<caption>A matrix: 5 × 21 of type dbl</caption>\n",
       "<thead>\n",
       "\t<tr><th></th><th scope=col>latitude</th><th scope=col>longitude</th><th scope=col>bio1</th><th scope=col>bio2</th><th scope=col>bio3</th><th scope=col>bio4</th><th scope=col>bio5</th><th scope=col>bio6</th><th scope=col>bio7</th><th scope=col>bio8</th><th scope=col>⋯</th><th scope=col>bio10</th><th scope=col>bio11</th><th scope=col>bio12</th><th scope=col>bio13</th><th scope=col>bio14</th><th scope=col>bio15</th><th scope=col>bio16</th><th scope=col>bio17</th><th scope=col>bio18</th><th scope=col>bio19</th></tr>\n",
       "</thead>\n",
       "<tbody>\n",
       "\t<tr><th scope=row>corrugata</th><td>1.944825</td><td>2.952805</td><td>23.27152</td><td>14.14365</td><td>5.066697</td><td>783.7035</td><td>25.8859</td><td>28.42491</td><td>29.76154</td><td>37.80072</td><td>⋯</td><td>24.71178</td><td>29.40398</td><td>247.2692</td><td>45.28163</td><td>103.7876</td><td>13.27135</td><td>121.2037</td><td>30.97414</td><td>80.181</td><td>68.32916</td></tr>\n",
       "\t<tr><th scope=row>delgadoana</th><td>1.944825</td><td>2.952805</td><td>23.27152</td><td>14.14365</td><td>5.066697</td><td>783.7035</td><td>25.8859</td><td>28.42491</td><td>29.76154</td><td>37.80072</td><td>⋯</td><td>24.71178</td><td>29.40398</td><td>247.2692</td><td>45.28163</td><td>103.7876</td><td>13.27135</td><td>121.2037</td><td>30.97414</td><td>80.181</td><td>68.32916</td></tr>\n",
       "\t<tr><th scope=row>macranthera</th><td>1.944825</td><td>2.952805</td><td>23.27152</td><td>14.14365</td><td>5.066697</td><td>783.7035</td><td>25.8859</td><td>28.42491</td><td>29.76154</td><td>37.80072</td><td>⋯</td><td>24.71178</td><td>29.40398</td><td>247.2692</td><td>45.28163</td><td>103.7876</td><td>13.27135</td><td>121.2037</td><td>30.97414</td><td>80.181</td><td>68.32916</td></tr>\n",
       "\t<tr><th scope=row>petraea</th><td>1.944825</td><td>2.952805</td><td>23.27152</td><td>14.14365</td><td>5.066697</td><td>783.7035</td><td>25.8859</td><td>28.42491</td><td>29.76154</td><td>37.80072</td><td>⋯</td><td>24.71178</td><td>29.40398</td><td>247.2692</td><td>45.28163</td><td>103.7876</td><td>13.27135</td><td>121.2037</td><td>30.97414</td><td>80.181</td><td>68.32916</td></tr>\n",
       "\t<tr><th scope=row>sp1</th><td>1.944825</td><td>2.952805</td><td>23.27152</td><td>14.14365</td><td>5.066697</td><td>783.7035</td><td>25.8859</td><td>28.42491</td><td>29.76154</td><td>37.80072</td><td>⋯</td><td>24.71178</td><td>29.40398</td><td>247.2692</td><td>45.28163</td><td>103.7876</td><td>13.27135</td><td>121.2037</td><td>30.97414</td><td>80.181</td><td>68.32916</td></tr>\n",
       "</tbody>\n",
       "</table>\n"
      ],
      "text/latex": [
       "A matrix: 5 × 21 of type dbl\n",
       "\\begin{tabular}{r|lllllllllllllllllllll}\n",
       "  & latitude & longitude & bio1 & bio2 & bio3 & bio4 & bio5 & bio6 & bio7 & bio8 & ⋯ & bio10 & bio11 & bio12 & bio13 & bio14 & bio15 & bio16 & bio17 & bio18 & bio19\\\\\n",
       "\\hline\n",
       "\tcorrugata & 1.944825 & 2.952805 & 23.27152 & 14.14365 & 5.066697 & 783.7035 & 25.8859 & 28.42491 & 29.76154 & 37.80072 & ⋯ & 24.71178 & 29.40398 & 247.2692 & 45.28163 & 103.7876 & 13.27135 & 121.2037 & 30.97414 & 80.181 & 68.32916\\\\\n",
       "\tdelgadoana & 1.944825 & 2.952805 & 23.27152 & 14.14365 & 5.066697 & 783.7035 & 25.8859 & 28.42491 & 29.76154 & 37.80072 & ⋯ & 24.71178 & 29.40398 & 247.2692 & 45.28163 & 103.7876 & 13.27135 & 121.2037 & 30.97414 & 80.181 & 68.32916\\\\\n",
       "\tmacranthera & 1.944825 & 2.952805 & 23.27152 & 14.14365 & 5.066697 & 783.7035 & 25.8859 & 28.42491 & 29.76154 & 37.80072 & ⋯ & 24.71178 & 29.40398 & 247.2692 & 45.28163 & 103.7876 & 13.27135 & 121.2037 & 30.97414 & 80.181 & 68.32916\\\\\n",
       "\tpetraea & 1.944825 & 2.952805 & 23.27152 & 14.14365 & 5.066697 & 783.7035 & 25.8859 & 28.42491 & 29.76154 & 37.80072 & ⋯ & 24.71178 & 29.40398 & 247.2692 & 45.28163 & 103.7876 & 13.27135 & 121.2037 & 30.97414 & 80.181 & 68.32916\\\\\n",
       "\tsp1 & 1.944825 & 2.952805 & 23.27152 & 14.14365 & 5.066697 & 783.7035 & 25.8859 & 28.42491 & 29.76154 & 37.80072 & ⋯ & 24.71178 & 29.40398 & 247.2692 & 45.28163 & 103.7876 & 13.27135 & 121.2037 & 30.97414 & 80.181 & 68.32916\\\\\n",
       "\\end{tabular}\n"
      ],
      "text/markdown": [
       "\n",
       "A matrix: 5 × 21 of type dbl\n",
       "\n",
       "| <!--/--> | latitude | longitude | bio1 | bio2 | bio3 | bio4 | bio5 | bio6 | bio7 | bio8 | ⋯ | bio10 | bio11 | bio12 | bio13 | bio14 | bio15 | bio16 | bio17 | bio18 | bio19 |\n",
       "|---|---|---|---|---|---|---|---|---|---|---|---|---|---|---|---|---|---|---|---|---|---|\n",
       "| corrugata | 1.944825 | 2.952805 | 23.27152 | 14.14365 | 5.066697 | 783.7035 | 25.8859 | 28.42491 | 29.76154 | 37.80072 | ⋯ | 24.71178 | 29.40398 | 247.2692 | 45.28163 | 103.7876 | 13.27135 | 121.2037 | 30.97414 | 80.181 | 68.32916 |\n",
       "| delgadoana | 1.944825 | 2.952805 | 23.27152 | 14.14365 | 5.066697 | 783.7035 | 25.8859 | 28.42491 | 29.76154 | 37.80072 | ⋯ | 24.71178 | 29.40398 | 247.2692 | 45.28163 | 103.7876 | 13.27135 | 121.2037 | 30.97414 | 80.181 | 68.32916 |\n",
       "| macranthera | 1.944825 | 2.952805 | 23.27152 | 14.14365 | 5.066697 | 783.7035 | 25.8859 | 28.42491 | 29.76154 | 37.80072 | ⋯ | 24.71178 | 29.40398 | 247.2692 | 45.28163 | 103.7876 | 13.27135 | 121.2037 | 30.97414 | 80.181 | 68.32916 |\n",
       "| petraea | 1.944825 | 2.952805 | 23.27152 | 14.14365 | 5.066697 | 783.7035 | 25.8859 | 28.42491 | 29.76154 | 37.80072 | ⋯ | 24.71178 | 29.40398 | 247.2692 | 45.28163 | 103.7876 | 13.27135 | 121.2037 | 30.97414 | 80.181 | 68.32916 |\n",
       "| sp1 | 1.944825 | 2.952805 | 23.27152 | 14.14365 | 5.066697 | 783.7035 | 25.8859 | 28.42491 | 29.76154 | 37.80072 | ⋯ | 24.71178 | 29.40398 | 247.2692 | 45.28163 | 103.7876 | 13.27135 | 121.2037 | 30.97414 | 80.181 | 68.32916 |\n",
       "\n"
      ],
      "text/plain": [
       "            latitude longitude bio1     bio2     bio3     bio4     bio5   \n",
       "corrugata   1.944825 2.952805  23.27152 14.14365 5.066697 783.7035 25.8859\n",
       "delgadoana  1.944825 2.952805  23.27152 14.14365 5.066697 783.7035 25.8859\n",
       "macranthera 1.944825 2.952805  23.27152 14.14365 5.066697 783.7035 25.8859\n",
       "petraea     1.944825 2.952805  23.27152 14.14365 5.066697 783.7035 25.8859\n",
       "sp1         1.944825 2.952805  23.27152 14.14365 5.066697 783.7035 25.8859\n",
       "            bio6     bio7     bio8     ⋯ bio10    bio11    bio12    bio13   \n",
       "corrugata   28.42491 29.76154 37.80072 ⋯ 24.71178 29.40398 247.2692 45.28163\n",
       "delgadoana  28.42491 29.76154 37.80072 ⋯ 24.71178 29.40398 247.2692 45.28163\n",
       "macranthera 28.42491 29.76154 37.80072 ⋯ 24.71178 29.40398 247.2692 45.28163\n",
       "petraea     28.42491 29.76154 37.80072 ⋯ 24.71178 29.40398 247.2692 45.28163\n",
       "sp1         28.42491 29.76154 37.80072 ⋯ 24.71178 29.40398 247.2692 45.28163\n",
       "            bio14    bio15    bio16    bio17    bio18  bio19   \n",
       "corrugata   103.7876 13.27135 121.2037 30.97414 80.181 68.32916\n",
       "delgadoana  103.7876 13.27135 121.2037 30.97414 80.181 68.32916\n",
       "macranthera 103.7876 13.27135 121.2037 30.97414 80.181 68.32916\n",
       "petraea     103.7876 13.27135 121.2037 30.97414 80.181 68.32916\n",
       "sp1         103.7876 13.27135 121.2037 30.97414 80.181 68.32916"
      ]
     },
     "metadata": {},
     "output_type": "display_data"
    }
   ],
   "source": [
    "## SCRIPT 01 ##\n",
    "temp.sd <- apply(t(sapply(dat.bio.bySp, function(x) apply(x[, numCols], 2, sd, na.rm = T))),\n",
    "    2,\n",
    "    mean, \n",
    "    na.rm = T) # the mean of the standard deviation for all these variables\n",
    "dat.bio.sem[temp.na, ] <- matrix(temp.sd, length(temp.na), length(temp.sd), byrow = T)\n",
    "                   \n",
    "## SCRIPT 01 -- optional ##\n",
    "dat.bio.sem[temp.na, ]"
   ]
  },
  {
   "attachments": {},
   "cell_type": "markdown",
   "metadata": {},
   "source": [
    "Okay! We've done the hard work... now let's import the easy data."
   ]
  },
  {
   "cell_type": "code",
   "execution_count": 15,
   "metadata": {
    "vscode": {
     "languageId": "r"
    }
   },
   "outputs": [],
   "source": [
    "## SCRIPT 01 ##\n",
    "\n",
    "# Because this is reading in data, I'll put it up at the top of the script with other data-reading\n",
    "# sections for each species:\n",
    "dat.sections <- read.csv(paste(path, 'sect.species.translate.csv', sep = ''), as.is = T, row.names = 1)\n",
    "\n",
    "# geography for each species:\n",
    "dat.geog <- read.csv(paste(path, 'spp.geog.csv', sep = ''), as.is = T, row.names = 1)\n",
    "\n",
    "# and leaf traits:\n",
    "dat.lf <- read.delim(paste(path, 'lfPhenology.2016-03-09.jcb.tsv', sep = ''), row.names = 1, as.is = T)"
   ]
  },
  {
   "attachments": {},
   "cell_type": "markdown",
   "metadata": {},
   "source": [
    "These tables provide sectional names for each species, and make it easy to generate lists of taxa for subsequent analyses..."
   ]
  },
  {
   "cell_type": "code",
   "execution_count": 16,
   "metadata": {
    "vscode": {
     "languageId": "r"
    }
   },
   "outputs": [
    {
     "data": {
      "text/html": [
       "<table class=\"dataframe\">\n",
       "<caption>A data.frame: 6 × 4</caption>\n",
       "<thead>\n",
       "\t<tr><th></th><th scope=col>Species</th><th scope=col>Section</th><th scope=col>subclade</th><th scope=col>compound.section</th></tr>\n",
       "\t<tr><th></th><th scope=col>&lt;chr&gt;</th><th scope=col>&lt;chr&gt;</th><th scope=col>&lt;chr&gt;</th><th scope=col>&lt;chr&gt;</th></tr>\n",
       "</thead>\n",
       "<tbody>\n",
       "\t<tr><th scope=row>Castanea_dentata</th><td>          </td><td>outgroup          </td><td>     </td><td>                          </td></tr>\n",
       "\t<tr><th scope=row>Castanopsis_fissa</th><td>          </td><td>outgroup          </td><td>     </td><td>                          </td></tr>\n",
       "\t<tr><th scope=row>Lithocarpus_hancei</th><td>          </td><td>outgroup          </td><td>     </td><td>                          </td></tr>\n",
       "\t<tr><th scope=row>Quercus_acerifolia</th><td>acerifolia</td><td>Lobatae           </td><td>ENA  </td><td>Lobatae - ENA             </td></tr>\n",
       "\t<tr><th scope=row>Quercus_acutidens</th><td>acutidens </td><td>Quercus - American</td><td>MX.SW</td><td>Quercus - American - MX.SW</td></tr>\n",
       "\t<tr><th scope=row>Quercus_acutifolia</th><td>acutifolia</td><td>Lobatae           </td><td>MX.SW</td><td>Lobatae - MX.SW           </td></tr>\n",
       "</tbody>\n",
       "</table>\n"
      ],
      "text/latex": [
       "A data.frame: 6 × 4\n",
       "\\begin{tabular}{r|llll}\n",
       "  & Species & Section & subclade & compound.section\\\\\n",
       "  & <chr> & <chr> & <chr> & <chr>\\\\\n",
       "\\hline\n",
       "\tCastanea\\_dentata &            & outgroup           &       &                           \\\\\n",
       "\tCastanopsis\\_fissa &            & outgroup           &       &                           \\\\\n",
       "\tLithocarpus\\_hancei &            & outgroup           &       &                           \\\\\n",
       "\tQuercus\\_acerifolia & acerifolia & Lobatae            & ENA   & Lobatae - ENA             \\\\\n",
       "\tQuercus\\_acutidens & acutidens  & Quercus - American & MX.SW & Quercus - American - MX.SW\\\\\n",
       "\tQuercus\\_acutifolia & acutifolia & Lobatae            & MX.SW & Lobatae - MX.SW           \\\\\n",
       "\\end{tabular}\n"
      ],
      "text/markdown": [
       "\n",
       "A data.frame: 6 × 4\n",
       "\n",
       "| <!--/--> | Species &lt;chr&gt; | Section &lt;chr&gt; | subclade &lt;chr&gt; | compound.section &lt;chr&gt; |\n",
       "|---|---|---|---|---|\n",
       "| Castanea_dentata | <!----> | outgroup           | <!----> | <!----> |\n",
       "| Castanopsis_fissa | <!----> | outgroup           | <!----> | <!----> |\n",
       "| Lithocarpus_hancei | <!----> | outgroup           | <!----> | <!----> |\n",
       "| Quercus_acerifolia | acerifolia | Lobatae            | ENA   | Lobatae - ENA              |\n",
       "| Quercus_acutidens | acutidens  | Quercus - American | MX.SW | Quercus - American - MX.SW |\n",
       "| Quercus_acutifolia | acutifolia | Lobatae            | MX.SW | Lobatae - MX.SW            |\n",
       "\n"
      ],
      "text/plain": [
       "                   Species    Section            subclade\n",
       "Castanea_dentata              outgroup                   \n",
       "Castanopsis_fissa             outgroup                   \n",
       "Lithocarpus_hancei            outgroup                   \n",
       "Quercus_acerifolia acerifolia Lobatae            ENA     \n",
       "Quercus_acutidens  acutidens  Quercus - American MX.SW   \n",
       "Quercus_acutifolia acutifolia Lobatae            MX.SW   \n",
       "                   compound.section          \n",
       "Castanea_dentata                             \n",
       "Castanopsis_fissa                            \n",
       "Lithocarpus_hancei                           \n",
       "Quercus_acerifolia Lobatae - ENA             \n",
       "Quercus_acutidens  Quercus - American - MX.SW\n",
       "Quercus_acutifolia Lobatae - MX.SW           "
      ]
     },
     "metadata": {},
     "output_type": "display_data"
    }
   ],
   "source": [
    "## SCRIPT 01 -- optional ##\n",
    "head(dat.sections)"
   ]
  },
  {
   "attachments": {},
   "cell_type": "markdown",
   "metadata": {},
   "source": [
    "... biogeographic coding ..."
   ]
  },
  {
   "cell_type": "code",
   "execution_count": 17,
   "metadata": {
    "vscode": {
     "languageId": "r"
    }
   },
   "outputs": [
    {
     "data": {
      "text/html": [
       "<table class=\"dataframe\">\n",
       "<caption>A data.frame: 6 × 4</caption>\n",
       "<thead>\n",
       "\t<tr><th></th><th scope=col>C</th><th scope=col>E</th><th scope=col>M</th><th scope=col>U</th></tr>\n",
       "\t<tr><th></th><th scope=col>&lt;int&gt;</th><th scope=col>&lt;int&gt;</th><th scope=col>&lt;int&gt;</th><th scope=col>&lt;int&gt;</th></tr>\n",
       "</thead>\n",
       "<tbody>\n",
       "\t<tr><th scope=row>Castanea_dentata</th><td>0</td><td>0</td><td>0</td><td>1</td></tr>\n",
       "\t<tr><th scope=row>Castanopsis_fissa</th><td>0</td><td>0</td><td>0</td><td>1</td></tr>\n",
       "\t<tr><th scope=row>Lithocarpus_hancei</th><td>0</td><td>0</td><td>0</td><td>1</td></tr>\n",
       "\t<tr><th scope=row>Quercus_acerifolia</th><td>0</td><td>1</td><td>0</td><td>0</td></tr>\n",
       "\t<tr><th scope=row>Quercus_acutidens</th><td>1</td><td>0</td><td>0</td><td>0</td></tr>\n",
       "\t<tr><th scope=row>Quercus_acutifolia</th><td>0</td><td>0</td><td>1</td><td>0</td></tr>\n",
       "</tbody>\n",
       "</table>\n"
      ],
      "text/latex": [
       "A data.frame: 6 × 4\n",
       "\\begin{tabular}{r|llll}\n",
       "  & C & E & M & U\\\\\n",
       "  & <int> & <int> & <int> & <int>\\\\\n",
       "\\hline\n",
       "\tCastanea\\_dentata & 0 & 0 & 0 & 1\\\\\n",
       "\tCastanopsis\\_fissa & 0 & 0 & 0 & 1\\\\\n",
       "\tLithocarpus\\_hancei & 0 & 0 & 0 & 1\\\\\n",
       "\tQuercus\\_acerifolia & 0 & 1 & 0 & 0\\\\\n",
       "\tQuercus\\_acutidens & 1 & 0 & 0 & 0\\\\\n",
       "\tQuercus\\_acutifolia & 0 & 0 & 1 & 0\\\\\n",
       "\\end{tabular}\n"
      ],
      "text/markdown": [
       "\n",
       "A data.frame: 6 × 4\n",
       "\n",
       "| <!--/--> | C &lt;int&gt; | E &lt;int&gt; | M &lt;int&gt; | U &lt;int&gt; |\n",
       "|---|---|---|---|---|\n",
       "| Castanea_dentata | 0 | 0 | 0 | 1 |\n",
       "| Castanopsis_fissa | 0 | 0 | 0 | 1 |\n",
       "| Lithocarpus_hancei | 0 | 0 | 0 | 1 |\n",
       "| Quercus_acerifolia | 0 | 1 | 0 | 0 |\n",
       "| Quercus_acutidens | 1 | 0 | 0 | 0 |\n",
       "| Quercus_acutifolia | 0 | 0 | 1 | 0 |\n",
       "\n"
      ],
      "text/plain": [
       "                   C E M U\n",
       "Castanea_dentata   0 0 0 1\n",
       "Castanopsis_fissa  0 0 0 1\n",
       "Lithocarpus_hancei 0 0 0 1\n",
       "Quercus_acerifolia 0 1 0 0\n",
       "Quercus_acutidens  1 0 0 0\n",
       "Quercus_acutifolia 0 0 1 0"
      ]
     },
     "metadata": {},
     "output_type": "display_data"
    }
   ],
   "source": [
    "## SCRIPT 01 -- optional ##\n",
    "head(dat.geog)"
   ]
  },
  {
   "attachments": {},
   "cell_type": "markdown",
   "metadata": {},
   "source": [
    "... and leaf trait coding:"
   ]
  },
  {
   "cell_type": "code",
   "execution_count": 18,
   "metadata": {
    "vscode": {
     "languageId": "r"
    }
   },
   "outputs": [
    {
     "data": {
      "text/html": [
       "<table class=\"dataframe\">\n",
       "<caption>A data.frame: 6 × 2</caption>\n",
       "<thead>\n",
       "\t<tr><th></th><th scope=col>lfPhenology</th><th scope=col>References.used</th></tr>\n",
       "\t<tr><th></th><th scope=col>&lt;chr&gt;</th><th scope=col>&lt;chr&gt;</th></tr>\n",
       "</thead>\n",
       "<tbody>\n",
       "\t<tr><th scope=row>Castanea_dentata</th><td>Deciduous</td><td>Observation (MOR)           </td></tr>\n",
       "\t<tr><th scope=row>Castanopsis_fissa</th><td>Evergreen</td><td>genus trait (Flora of China)</td></tr>\n",
       "\t<tr><th scope=row>Lithocarpus_hancei</th><td>Evergreen</td><td>genus trait (Flora of China)</td></tr>\n",
       "\t<tr><th scope=row>Quercus_acerifolia</th><td>Deciduous</td><td>FNA                         </td></tr>\n",
       "\t<tr><th scope=row>Quercus_acutidens</th><td>         </td><td>                            </td></tr>\n",
       "\t<tr><th scope=row>Quercus_acutifolia</th><td>Deciduous</td><td>common garden in Mexico     </td></tr>\n",
       "</tbody>\n",
       "</table>\n"
      ],
      "text/latex": [
       "A data.frame: 6 × 2\n",
       "\\begin{tabular}{r|ll}\n",
       "  & lfPhenology & References.used\\\\\n",
       "  & <chr> & <chr>\\\\\n",
       "\\hline\n",
       "\tCastanea\\_dentata & Deciduous & Observation (MOR)           \\\\\n",
       "\tCastanopsis\\_fissa & Evergreen & genus trait (Flora of China)\\\\\n",
       "\tLithocarpus\\_hancei & Evergreen & genus trait (Flora of China)\\\\\n",
       "\tQuercus\\_acerifolia & Deciduous & FNA                         \\\\\n",
       "\tQuercus\\_acutidens &           &                             \\\\\n",
       "\tQuercus\\_acutifolia & Deciduous & common garden in Mexico     \\\\\n",
       "\\end{tabular}\n"
      ],
      "text/markdown": [
       "\n",
       "A data.frame: 6 × 2\n",
       "\n",
       "| <!--/--> | lfPhenology &lt;chr&gt; | References.used &lt;chr&gt; |\n",
       "|---|---|---|\n",
       "| Castanea_dentata | Deciduous | Observation (MOR)            |\n",
       "| Castanopsis_fissa | Evergreen | genus trait (Flora of China) |\n",
       "| Lithocarpus_hancei | Evergreen | genus trait (Flora of China) |\n",
       "| Quercus_acerifolia | Deciduous | FNA                          |\n",
       "| Quercus_acutidens | <!----> | <!----> |\n",
       "| Quercus_acutifolia | Deciduous | common garden in Mexico      |\n",
       "\n"
      ],
      "text/plain": [
       "                   lfPhenology References.used             \n",
       "Castanea_dentata   Deciduous   Observation (MOR)           \n",
       "Castanopsis_fissa  Evergreen   genus trait (Flora of China)\n",
       "Lithocarpus_hancei Evergreen   genus trait (Flora of China)\n",
       "Quercus_acerifolia Deciduous   FNA                         \n",
       "Quercus_acutidens                                          \n",
       "Quercus_acutifolia Deciduous   common garden in Mexico     "
      ]
     },
     "metadata": {},
     "output_type": "display_data"
    }
   ],
   "source": [
    "## SCRIPT 01 -- optional ##\n",
    "head(dat.lf[, c('lfPhenology', 'References.used'), drop = FALSE])"
   ]
  },
  {
   "attachments": {},
   "cell_type": "markdown",
   "metadata": {},
   "source": [
    "OKAY!!! We're almost done getting our data in! Let's get a phylogeny."
   ]
  },
  {
   "cell_type": "code",
   "execution_count": 19,
   "metadata": {
    "vscode": {
     "languageId": "r"
    }
   },
   "outputs": [
    {
     "name": "stdout",
     "output_type": "stream",
     "text": [
      "\n",
      "Phylogenetic tree with 153 tips and 152 internal nodes.\n",
      "\n",
      "Tip labels:\n",
      "  Quercus_turbinella, Quercus_ajoensis, Quercus_toumeyi, Quercus_grisea, Quercus_oblongifolia, Quercus_engelmannii, ...\n",
      "\n",
      "Rooted; includes branch lengths.\n"
     ]
    },
    {
     "data": {
      "image/png": "[encoded data removed]",
      "text/plain": [
       "plot without title"
      ]
     },
     "metadata": {
      "image/png": {
       "height": 420,
       "width": 420
      }
     },
     "output_type": "display_data"
    }
   ],
   "source": [
    "## SCRIPT 01 ##\n",
    "library(ape) # put this at the very top of the script, just so your libraries are in one place\n",
    "\n",
    "# Because this is reading in data, I'll put it up at the top of the script with other data reading\n",
    "tr <- read.nexus(paste(path, 'trs.calib.jackknife.4.annotated.tre', sep = '')) \n",
    "\n",
    "## SCRIPT 01 -- optional ##\n",
    "print(tr)\n",
    "plot(tr, cex = 0.4)"
   ]
  },
  {
   "attachments": {},
   "cell_type": "markdown",
   "metadata": {},
   "source": [
    "#### 5. Getting our trees and data for ready analysis\n",
    "The very last thing we will do in this tutorial before saving files and moving onto data visualization is to make sure our data all match up. I typically keep my datasets all separate and prune them at the time of analysis, so that for example an analysis of leaf traits takes advantage of my full leaf trait dataset, while an analysis of climatic niche alone takes advantage of the full bioclim dataset. This makes things messy though, so for ease of downstream analyses, we'll make all of our datasets match up in this step. The steps here are, briefly:\n",
    "\n",
    "* Identifying common taxa between datasets\n",
    "* Renaming tips and matrix rows to match up\n",
    "* Pruning trees and matrices to match up"
   ]
  },
  {
   "attachments": {},
   "cell_type": "markdown",
   "metadata": {},
   "source": [
    "##### Identifying taxa in common\n",
    "You may have noticed in the tables above that every table we have imported has row names of form `Genus_species`, except for the bioclim data. Ideally, you have names like this fixed up b/f you begin to import data, but it's often the case that you don't. So let's fix that up before we go on using paste:"
   ]
  },
  {
   "cell_type": "code",
   "execution_count": 20,
   "metadata": {
    "vscode": {
     "languageId": "r"
    }
   },
   "outputs": [
    {
     "name": "stdout",
     "output_type": "stream",
     "text": [
      "[1] \"Quercus_acerifolia\" \"Quercus_acutidens\"  \"Quercus_acutifolia\"\n",
      "[4] \"Quercus_affinis\"    \"Quercus_agrifolia\"  \"Quercus_ajoensis\"  \n"
     ]
    }
   ],
   "source": [
    "## SCRIPT 01 ##\n",
    "if(identical(row.names(dat.bio.means), row.names(dat.bio.sem)))\n",
    "    row.names(dat.bio.means) <- row.names(dat.bio.sem) <- paste('Quercus', row.names(dat.bio.means), sep = '_')\n",
    "\n",
    "## SCRIPT 01 -- optional ##\n",
    "print(head(row.names(dat.bio.means)))\n"
   ]
  },
  {
   "attachments": {},
   "cell_type": "markdown",
   "metadata": {},
   "source": [
    "Okay. That looks better. Now just to know what things look like, let's compare all the datasets to an intersected set of names. You can either create an intersection set of just two vectors at a time using `intersect`, like this:"
   ]
  },
  {
   "cell_type": "code",
   "execution_count": 21,
   "metadata": {
    "vscode": {
     "languageId": "r"
    }
   },
   "outputs": [
    {
     "data": {
      "text/html": [
       "133"
      ],
      "text/latex": [
       "133"
      ],
      "text/markdown": [
       "133"
      ],
      "text/plain": [
       "[1] 133"
      ]
     },
     "metadata": {},
     "output_type": "display_data"
    }
   ],
   "source": [
    "## SCRIPT 01 -- optional##\n",
    "\n",
    "spp.intersect <- intersect(tr$tip.label, row.names(dat.bio.means))\n",
    "spp.intersect <- intersect(spp.intersect, row.names(dat.geog))\n",
    "spp.intersect <- intersect(spp.intersect, row.names(dat.lf))\n",
    "spp.intersect <- intersect(spp.intersect, row.names(dat.sections))\n",
    "\n",
    "## SCRIPT 01 -- optional ##\n",
    "length(spp.intersect)"
   ]
  },
  {
   "attachments": {},
   "cell_type": "markdown",
   "metadata": {},
   "source": [
    "or you can do it more compactly, by using the `Reduce` function to call `intersect` -- the former simply reduces a list to a set of binary actions:"
   ]
  },
  {
   "cell_type": "code",
   "execution_count": 22,
   "metadata": {
    "vscode": {
     "languageId": "r"
    }
   },
   "outputs": [
    {
     "data": {
      "text/html": [
       "133"
      ],
      "text/latex": [
       "133"
      ],
      "text/markdown": [
       "133"
      ],
      "text/plain": [
       "[1] 133"
      ]
     },
     "metadata": {},
     "output_type": "display_data"
    }
   ],
   "source": [
    "## SCRIPT 01 ##\n",
    "\n",
    "spp.intersect <- Reduce(intersect, list(tr$tip.label,\n",
    "                                      row.names(dat.bio.means),\n",
    "                                      row.names(dat.geog),\n",
    "                                      row.names(dat.lf),\n",
    "                                      row.names(dat.sections)))\n",
    "\n",
    "## SCRIPT 01 -- optional ##\n",
    "length(spp.intersect)"
   ]
  },
  {
   "attachments": {},
   "cell_type": "markdown",
   "metadata": {},
   "source": [
    "The difference here is really only one of stayle and readability. I favor the second because I am not calling the function over and over... I suspect there is no savings in computation time, but the computation time here is trivial. Use what is more sensible to you.\n",
    "\n",
    "Now, before I go chopping off branches and data, I like to see what I am losing. You can do this using the `setdiff` function:"
   ]
  },
  {
   "cell_type": "code",
   "execution_count": 23,
   "metadata": {
    "vscode": {
     "languageId": "r"
    }
   },
   "outputs": [
    {
     "name": "stderr",
     "output_type": "stream",
     "text": [
      "Extra tips : Tree\n",
      "\n"
     ]
    },
    {
     "name": "stdout",
     "output_type": "stream",
     "text": [
      " [1] \"Quercus_copeyensis\"   \"Quercus_hinckleyi\"    \"Quercus_dalechampii\" \n",
      " [4] \"Quercus_pubescens\"    \"Quercus_pyrenaica\"    \"Quercus_griffithii\"  \n",
      " [7] \"Quercus_fabri\"        \"Quercus_dentata\"      \"Quercus_aliena\"      \n",
      "[10] \"Quercus_serrata\"      \"Quercus_mongolica\"    \"Quercus_pontica\"     \n",
      "[13] \"Quercus_lowilliamsii\" \"Quercus_trojana\"      \"Quercus_libani\"      \n",
      "[16] \"Quercus_acutissima\"   \"Quercus_baronii\"      \"Castanea_dentata\"    \n",
      "[19] \"Castanopsis_fissa\"    \"Lithocarpus_hancei\"  \n"
     ]
    },
    {
     "name": "stderr",
     "output_type": "stream",
     "text": [
      "Extra tips : bioclim\n",
      "\n"
     ]
    },
    {
     "name": "stdout",
     "output_type": "stream",
     "text": [
      "[1] \"Quercus_acutidens\"     \"Quercus_benthamii\"     \"Quercus_gambelii\"     \n",
      "[4] \"Quercus_graciliformis\" \"Quercus_gravesii\"      \"Quercus_ocoteifolia\"  \n",
      "[7] \"Quercus_sartorii\"     \n"
     ]
    },
    {
     "name": "stderr",
     "output_type": "stream",
     "text": [
      "Extra tips : geog\n",
      "\n"
     ]
    },
    {
     "name": "stdout",
     "output_type": "stream",
     "text": [
      " [1] \"Castanea_dentata\"      \"Castanopsis_fissa\"     \"Lithocarpus_hancei\"   \n",
      " [4] \"Quercus_acutidens\"     \"Quercus_acutissima\"    \"Quercus_aliena\"       \n",
      " [7] \"Quercus_baronii\"       \"Quercus_benthamii\"     \"Quercus_boissieri\"    \n",
      "[10] \"Quercus_copeyensis\"    \"Quercus_dalechampii\"   \"Quercus_dentata\"      \n",
      "[13] \"Quercus_fabri\"         \"Quercus_faginea\"       \"Quercus_graciliformis\"\n",
      "[16] \"Quercus_gravesii\"      \"Quercus_griffithii\"    \"Quercus_hinckleyi\"    \n",
      "[19] \"Quercus_libani\"        \"Quercus_lowilliamsii\"  \"Quercus_mongolica\"    \n",
      "[22] \"Quercus_ocoteifolia\"   \"Quercus_pontica\"       \"Quercus_pubescens\"    \n",
      "[25] \"Quercus_pyrenaica\"     \"Quercus_sartorii\"      \"Quercus_serrata\"      \n",
      "[28] \"Quercus_trojana\"      \n"
     ]
    },
    {
     "name": "stderr",
     "output_type": "stream",
     "text": [
      "Extra tips : leaf data\n",
      "\n"
     ]
    },
    {
     "name": "stdout",
     "output_type": "stream",
     "text": [
      " [1] \"Castanea_dentata\"      \"Castanopsis_fissa\"     \"Lithocarpus_hancei\"   \n",
      " [4] \"Quercus_acutidens\"     \"Quercus_acutissima\"    \"Quercus_aliena\"       \n",
      " [7] \"Quercus_baronii\"       \"Quercus_benthamii\"     \"Quercus_copeyensis\"   \n",
      "[10] \"Quercus_dalechampii\"   \"Quercus_dentata\"       \"Quercus_fabri\"        \n",
      "[13] \"Quercus_faginea\"       \"Quercus_gambelii\"      \"Quercus_graciliformis\"\n",
      "[16] \"Quercus_gravesii\"      \"Quercus_griffithii\"    \"Quercus_hinckleyi\"    \n",
      "[19] \"Quercus_libani\"        \"Quercus_lowilliamsii\"  \"Quercus_mongolica\"    \n",
      "[22] \"Quercus_ocoteifolia\"   \"Quercus_pontica\"       \"Quercus_pubescens\"    \n",
      "[25] \"Quercus_pyrenaica\"     \"Quercus_sartorii\"      \"Quercus_serrata\"      \n",
      "[28] \"Quercus_trojana\"      \n"
     ]
    },
    {
     "name": "stderr",
     "output_type": "stream",
     "text": [
      "Extra tips : sections\n",
      "\n"
     ]
    },
    {
     "name": "stdout",
     "output_type": "stream",
     "text": [
      " [1] \"Castanea_dentata\"      \"Castanopsis_fissa\"     \"Lithocarpus_hancei\"   \n",
      " [4] \"Quercus_acutidens\"     \"Quercus_acutissima\"    \"Quercus_aliena\"       \n",
      " [7] \"Quercus_baronii\"       \"Quercus_benthamii\"     \"Quercus_boissieri\"    \n",
      "[10] \"Quercus_copeyensis\"    \"Quercus_dalechampii\"   \"Quercus_dentata\"      \n",
      "[13] \"Quercus_dysophylla\"    \"Quercus_fabri\"         \"Quercus_faginea\"      \n",
      "[16] \"Quercus_gambelii\"      \"Quercus_graciliformis\" \"Quercus_gravesii\"     \n",
      "[19] \"Quercus_griffithii\"    \"Quercus_hinckleyi\"     \"Quercus_libani\"       \n",
      "[22] \"Quercus_lowilliamsii\"  \"Quercus_mongolica\"     \"Quercus_ocoteifolia\"  \n",
      "[25] \"Quercus_polycarpa\"     \"Quercus_pontica\"       \"Quercus_pubescens\"    \n",
      "[28] \"Quercus_pyrenaica\"     \"Quercus_sartorii\"      \"Quercus_serrata\"      \n",
      "[31] \"Quercus_sternbergii\"   \"Quercus_trojana\"      \n"
     ]
    }
   ],
   "source": [
    "## SCRIPT 01 -- optional ##\n",
    "\n",
    "message('Extra tips : Tree')\n",
    "print(setdiff(tr$tip.label, spp.intersect))\n",
    "message('Extra tips : bioclim')\n",
    "print(setdiff(row.names(dat.bio.means), spp.intersect))\n",
    "message('Extra tips : geog')\n",
    "print(setdiff(row.names(dat.geog), spp.intersect))\n",
    "message('Extra tips : leaf data')\n",
    "print(setdiff(row.names(dat.lf), spp.intersect))\n",
    "message('Extra tips : sections')\n",
    "print(setdiff(row.names(dat.sections), spp.intersect))"
   ]
  },
  {
   "attachments": {},
   "cell_type": "markdown",
   "metadata": {},
   "source": [
    "You can see that we are throwing away a bunch of leaf data and geographic data so just to match up with the bioclim data. This is why I tend to subset individual datasets separately for different analyses, generally creating datasets with `cleaned` as a suffix or some such thing. But for simplicity, let's subset them all to the same set of data, and just write over the data.frames so that we don't have a cluttered workspace. We'll use the `drop.tip` function for the tree:"
   ]
  },
  {
   "cell_type": "code",
   "execution_count": 24,
   "metadata": {
    "vscode": {
     "languageId": "r"
    }
   },
   "outputs": [],
   "source": [
    "## SCRIPT 01 ##\n",
    "\n",
    "tr <- drop.tip(tr, which(!tr$tip.label %in% spp.intersect))"
   ]
  },
  {
   "attachments": {},
   "cell_type": "markdown",
   "metadata": {},
   "source": [
    "In the above, we have used:\n",
    "* `%in%`, which returns a boolean vector that is `TRUE` for each element of `tr$tip.label` that is in `spp.intersect` and `FALSE` for each element that is not\n",
    "* `!` (the \"NOT\" operator in R) to reverse the boolean vector\n",
    "* `which`, which returns a numeric vector indexing the values of a boolean vector that == `TRUE`\n",
    "* `drop.tip` to drop tips from a tree, identified by string (name) or, as in our case, numeric position.\n",
    "\n",
    "Now, we'll use the `[` operator to subset our matrices by `row.name`:"
   ]
  },
  {
   "cell_type": "code",
   "execution_count": 25,
   "metadata": {
    "vscode": {
     "languageId": "r"
    }
   },
   "outputs": [],
   "source": [
    "## SCRIPT 01 ##\n",
    "\n",
    "dat.bio.means <- dat.bio.means[spp.intersect, ]\n",
    "dat.bio.sem <- dat.bio.sem[spp.intersect, ]\n",
    "dat.geog <- dat.geog[spp.intersect, ]\n",
    "dat.lf <- dat.lf[spp.intersect, ]\n",
    "dat.sections <- dat.sections[spp.intersect, ]"
   ]
  },
  {
   "attachments": {},
   "cell_type": "markdown",
   "metadata": {},
   "source": [
    "Finally, because I'm a nervous Nellie, I'll check to make sure that the names really all line up:"
   ]
  },
  {
   "cell_type": "code",
   "execution_count": 26,
   "metadata": {
    "vscode": {
     "languageId": "r"
    }
   },
   "outputs": [
    {
     "name": "stdout",
     "output_type": "stream",
     "text": [
      "      bio                    geog                   lf                    \n",
      " [1,] \"Quercus_turbinella\"   \"Quercus_turbinella\"   \"Quercus_turbinella\"  \n",
      " [2,] \"Quercus_ajoensis\"     \"Quercus_ajoensis\"     \"Quercus_ajoensis\"    \n",
      " [3,] \"Quercus_toumeyi\"      \"Quercus_toumeyi\"      \"Quercus_toumeyi\"     \n",
      " [4,] \"Quercus_grisea\"       \"Quercus_grisea\"       \"Quercus_grisea\"      \n",
      " [5,] \"Quercus_oblongifolia\" \"Quercus_oblongifolia\" \"Quercus_oblongifolia\"\n",
      " [6,] \"Quercus_engelmannii\"  \"Quercus_engelmannii\"  \"Quercus_engelmannii\" \n",
      " [7,] \"Quercus_arizonica\"    \"Quercus_arizonica\"    \"Quercus_arizonica\"   \n",
      " [8,] \"Quercus_laeta\"        \"Quercus_laeta\"        \"Quercus_laeta\"       \n",
      " [9,] \"Quercus_resinosa\"     \"Quercus_resinosa\"     \"Quercus_resinosa\"    \n",
      "[10,] \"Quercus_obtusata\"     \"Quercus_obtusata\"     \"Quercus_obtusata\"    \n",
      "      sect                  \n",
      " [1,] \"Quercus_turbinella\"  \n",
      " [2,] \"Quercus_ajoensis\"    \n",
      " [3,] \"Quercus_toumeyi\"     \n",
      " [4,] \"Quercus_grisea\"      \n",
      " [5,] \"Quercus_oblongifolia\"\n",
      " [6,] \"Quercus_engelmannii\" \n",
      " [7,] \"Quercus_arizonica\"   \n",
      " [8,] \"Quercus_laeta\"       \n",
      " [9,] \"Quercus_resinosa\"    \n",
      "[10,] \"Quercus_obtusata\"    \n"
     ]
    }
   ],
   "source": [
    "## SCRIPT 01 -- optional ##\n",
    "\n",
    "print(head(\n",
    "    cbind(bio = row.names(dat.bio.means), geog = row.names(dat.geog), \n",
    "            lf = row.names(dat.lf), sect = row.names(dat.sections)),\n",
    "    10))\n"
   ]
  },
  {
   "attachments": {},
   "cell_type": "markdown",
   "metadata": {},
   "source": [
    "And we're set to analyze our data now! WHEW! This set up often is a rather time-consuming part of a project, but doing it right from the get-go makes your life easier. We'll close this session by saving our workspace in a place where we can easily load it for the next tutorial:"
   ]
  },
  {
   "cell_type": "code",
   "execution_count": 30,
   "metadata": {
    "vscode": {
     "languageId": "r"
    }
   },
   "outputs": [],
   "source": [
    "save.image(file = '../data/phylo.session01a.Rdata') # places this in the phyloTutorials folder"
   ]
  },
  {
   "attachments": {},
   "cell_type": "markdown",
   "metadata": {},
   "source": [
    "### Using your script\n",
    "Hopefully you have been building script `01.readData.R` as we go along. In a real coding session, I work iteratively between the R interactive session and my code, prototyping lines in R, coding them into my script, then sourcing the whole thing in regularly using `source('../scripts/01.readData.R`. \n",
    "\n",
    "Try it yourself: navigate to the `working` directory, launch R, and source in your script. See if it works! If it does, celebrate. If not, don't despair: it will after you horse around with it a bit. Call me over if you get stuck! "
   ]
  },
  {
   "attachments": {},
   "cell_type": "markdown",
   "metadata": {},
   "source": [
    "### FOR INDEPENDENT WORK\n",
    "To make the most of this tutorial, take your own datasets that you would like to analyze for this class and organize them into a data folder, then write a script that reads them and processes them for analysis. Setting up your analysis pipeline as a set of scripts that can be read in using `source` will make your analyses easier to follow and replicate."
   ]
  },
  {
   "attachments": {},
   "cell_type": "markdown",
   "metadata": {},
   "source": [
    "### POSSIBLE DISCUSSION TOPICS\n",
    "\n",
    "* Relative benefits and downside of using RStudio or other IDE vs a code editor and the command line\n",
    "* File storage: Dropbox, Git / Subversion, local drives... when to use what?\n",
    "* Functions vs strings of code: how much can you  do as a function, and what are the benefits? If you are functionalizing analyses, how general should functions be? At what stage do you spin analyses you are writing off into functions that may be of general utility?"
   ]
  },
  {
   "attachments": {},
   "cell_type": "markdown",
   "metadata": {},
   "source": [
    "### Addendum: A list of functions you may find handy for data cleanup\n",
    "As you clean up your data and prepare for analysis, you will want the treasure trove of data accessing, matching, searching and subsetting tools present in R. We've used some of them here, but here is a short list of the functions I use most commonly.\n",
    "\n",
    "##### Cleaning names, changing names to match one another\n",
    "* duplicated\n",
    "* unique\n",
    "* make.unique\n",
    "\n",
    "* []\n",
    "* grep\n",
    "* match\n",
    "* strsplit\n",
    "* which\n",
    "\n",
    "* names\n",
    "* rownames\n",
    "* dimnames\n",
    "\n",
    "* gsub\n",
    "* paste\n",
    "\n",
    "* lapply\n",
    "* apply\n",
    "* sapply\n",
    "* split\n",
    "\n",
    "\n",
    "##### Subsetting and reordering data\n",
    "* Tables\n",
    "* Vectors\n",
    "* Trees\n",
    "<br>-- multi2di \n",
    "<br>-- chronos\n",
    "<br>-- ladderize\n",
    "<br>-- drop.tip\n",
    "\n",
    "##### Exporting manipulated data so that you know exactly what you did\n",
    "* write.csv\n",
    "* writeLines\n",
    "* write.tree\n",
    "* rad2phy\n",
    "* dput\n",
    "* save"
   ]
  }
 ],
 "metadata": {
  "anaconda-cloud": {},
  "kernelspec": {
   "display_name": "R",
   "language": "R",
   "name": "ir"
  },
  "language_info": {
   "codemirror_mode": "r",
   "file_extension": ".r",
   "mimetype": "text/x-r-source",
   "name": "R",
   "pygments_lexer": "r",
   "version": "4.1.1"
  }
 },
 "nbformat": 4,
 "nbformat_minor": 1
}

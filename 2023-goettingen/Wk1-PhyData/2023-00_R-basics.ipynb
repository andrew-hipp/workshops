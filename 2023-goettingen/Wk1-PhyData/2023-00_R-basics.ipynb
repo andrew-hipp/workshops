{
 "cells": [
  {
   "attachments": {},
   "cell_type": "markdown",
   "metadata": {},
   "source": [
    "# Introduction to phylogenetic comparative methods in R\n",
    "Goettingen 2023  \n",
    "Andrew Hipp, ahipp@mortonarb.org  \n",
    "Tutorial 0 (prior to class): Getting started in R\n",
    "Use [static view in nbviewer](https://nbviewer.org/github/andrew-hipp/workshops/blob/master/2023-goettingen/Wk1-PhyData/2023-00_R-basics.ipynb) if you are not working directly in Jupyter notebooks.\n",
    "\n",
    "## Goals of this tutorial\n",
    "This tutorial is intended for users who do not have experience with R, and may be thought of as a \"quick-start\" guide to R for this course. It does not replace a short course in R, nor experience with the language. But if you are concerned that you won't know the rudiments of using R, this covers some common questions I run into with students.\n",
    "\n",
    "If you are an experienced R user, there is probably no compelling reason to run through this tutorial."
   ]
  },
  {
   "attachments": {},
   "cell_type": "markdown",
   "metadata": {},
   "source": [
    "## Environment -- the R session\n",
    "R is a programming environment, organized as work sessions. Each work session has within it a host of objects---this includes variables and functions---enclosed within environments. Environments when you first start up R include all the packages that are included in the R base distribution, plus any that you specify to be loaded when you start up R. Start up R on your machine, and take a look at what's in there when you first start it."
   ]
  },
  {
   "cell_type": "code",
   "execution_count": 74,
   "metadata": {
    "vscode": {
     "languageId": "r"
    }
   },
   "outputs": [
    {
     "data": {
      "text/html": [
       "<style>\n",
       ".list-inline {list-style: none; margin:0; padding: 0}\n",
       ".list-inline>li {display: inline-block}\n",
       ".list-inline>li:not(:last-child)::after {content: \"\\00b7\"; padding: 0 .5ex}\n",
       "</style>\n",
       "<ol class=list-inline><li>'.GlobalEnv'</li><li>'package:ape'</li><li>'jupyter:irkernel'</li><li>'jupyter:irkernel'</li><li>'package:stats'</li><li>'package:graphics'</li><li>'package:grDevices'</li><li>'package:utils'</li><li>'package:datasets'</li><li>'package:methods'</li><li>'Autoloads'</li><li>'package:base'</li></ol>\n"
      ],
      "text/latex": [
       "\\begin{enumerate*}\n",
       "\\item '.GlobalEnv'\n",
       "\\item 'package:ape'\n",
       "\\item 'jupyter:irkernel'\n",
       "\\item 'jupyter:irkernel'\n",
       "\\item 'package:stats'\n",
       "\\item 'package:graphics'\n",
       "\\item 'package:grDevices'\n",
       "\\item 'package:utils'\n",
       "\\item 'package:datasets'\n",
       "\\item 'package:methods'\n",
       "\\item 'Autoloads'\n",
       "\\item 'package:base'\n",
       "\\end{enumerate*}\n"
      ],
      "text/markdown": [
       "1. '.GlobalEnv'\n",
       "2. 'package:ape'\n",
       "3. 'jupyter:irkernel'\n",
       "4. 'jupyter:irkernel'\n",
       "5. 'package:stats'\n",
       "6. 'package:graphics'\n",
       "7. 'package:grDevices'\n",
       "8. 'package:utils'\n",
       "9. 'package:datasets'\n",
       "10. 'package:methods'\n",
       "11. 'Autoloads'\n",
       "12. 'package:base'\n",
       "\n",
       "\n"
      ],
      "text/plain": [
       " [1] \".GlobalEnv\"        \"package:ape\"       \"jupyter:irkernel\" \n",
       " [4] \"jupyter:irkernel\"  \"package:stats\"     \"package:graphics\" \n",
       " [7] \"package:grDevices\" \"package:utils\"     \"package:datasets\" \n",
       "[10] \"package:methods\"   \"Autoloads\"         \"package:base\"     "
      ]
     },
     "metadata": {},
     "output_type": "display_data"
    }
   ],
   "source": [
    "search()"
   ]
  },
  {
   "attachments": {},
   "cell_type": "markdown",
   "metadata": {},
   "source": [
    "You see that there is something called '.GlobalEnv'. This is the environment in which you are working currently. The other environments are packages that were loaded when R started up. Whenever you type a function or variable name, as we did when we called the function \"search\", R searches backwards through the environments, beginning with the last one, and stops when it hits a match. If we were to create a new function called \"search\", it would live in the global environment, and R would find that function b/f it found the function search that is in the base package. Take a look:"
   ]
  },
  {
   "cell_type": "code",
   "execution_count": 75,
   "metadata": {
    "vscode": {
     "languageId": "r"
    }
   },
   "outputs": [
    {
     "name": "stdout",
     "output_type": "stream",
     "text": [
      "[1] \"Hello. I am looking for Otis -- can you help me?\"\n"
     ]
    }
   ],
   "source": [
    "search <- function(anyName = 'Otis') print(paste('Hello. I am looking for', \n",
    "                                           anyName, '-- can you help me?'))\n",
    "search()"
   ]
  },
  {
   "attachments": {},
   "cell_type": "markdown",
   "metadata": {},
   "source": [
    "Hold it! We have overwritten 'search'. Let's figure out where the original 'search' came from using '?search'. We find that it is from the base package, so we can access the object in a couple of ways:"
   ]
  },
  {
   "cell_type": "code",
   "execution_count": 76,
   "metadata": {
    "vscode": {
     "languageId": "r"
    }
   },
   "outputs": [
    {
     "data": {
      "text/html": [
       "<style>\n",
       ".list-inline {list-style: none; margin:0; padding: 0}\n",
       ".list-inline>li {display: inline-block}\n",
       ".list-inline>li:not(:last-child)::after {content: \"\\00b7\"; padding: 0 .5ex}\n",
       "</style>\n",
       "<ol class=list-inline><li>'.GlobalEnv'</li><li>'package:ape'</li><li>'jupyter:irkernel'</li><li>'jupyter:irkernel'</li><li>'package:stats'</li><li>'package:graphics'</li><li>'package:grDevices'</li><li>'package:utils'</li><li>'package:datasets'</li><li>'package:methods'</li><li>'Autoloads'</li><li>'package:base'</li></ol>\n"
      ],
      "text/latex": [
       "\\begin{enumerate*}\n",
       "\\item '.GlobalEnv'\n",
       "\\item 'package:ape'\n",
       "\\item 'jupyter:irkernel'\n",
       "\\item 'jupyter:irkernel'\n",
       "\\item 'package:stats'\n",
       "\\item 'package:graphics'\n",
       "\\item 'package:grDevices'\n",
       "\\item 'package:utils'\n",
       "\\item 'package:datasets'\n",
       "\\item 'package:methods'\n",
       "\\item 'Autoloads'\n",
       "\\item 'package:base'\n",
       "\\end{enumerate*}\n"
      ],
      "text/markdown": [
       "1. '.GlobalEnv'\n",
       "2. 'package:ape'\n",
       "3. 'jupyter:irkernel'\n",
       "4. 'jupyter:irkernel'\n",
       "5. 'package:stats'\n",
       "6. 'package:graphics'\n",
       "7. 'package:grDevices'\n",
       "8. 'package:utils'\n",
       "9. 'package:datasets'\n",
       "10. 'package:methods'\n",
       "11. 'Autoloads'\n",
       "12. 'package:base'\n",
       "\n",
       "\n"
      ],
      "text/plain": [
       " [1] \".GlobalEnv\"        \"package:ape\"       \"jupyter:irkernel\" \n",
       " [4] \"jupyter:irkernel\"  \"package:stats\"     \"package:graphics\" \n",
       " [7] \"package:grDevices\" \"package:utils\"     \"package:datasets\" \n",
       "[10] \"package:methods\"   \"Autoloads\"         \"package:base\"     "
      ]
     },
     "metadata": {},
     "output_type": "display_data"
    },
    {
     "data": {
      "text/html": [
       "<style>\n",
       ".list-inline {list-style: none; margin:0; padding: 0}\n",
       ".list-inline>li {display: inline-block}\n",
       ".list-inline>li:not(:last-child)::after {content: \"\\00b7\"; padding: 0 .5ex}\n",
       "</style>\n",
       "<ol class=list-inline><li>'.GlobalEnv'</li><li>'package:ape'</li><li>'jupyter:irkernel'</li><li>'jupyter:irkernel'</li><li>'package:stats'</li><li>'package:graphics'</li><li>'package:grDevices'</li><li>'package:utils'</li><li>'package:datasets'</li><li>'package:methods'</li><li>'Autoloads'</li><li>'package:base'</li></ol>\n"
      ],
      "text/latex": [
       "\\begin{enumerate*}\n",
       "\\item '.GlobalEnv'\n",
       "\\item 'package:ape'\n",
       "\\item 'jupyter:irkernel'\n",
       "\\item 'jupyter:irkernel'\n",
       "\\item 'package:stats'\n",
       "\\item 'package:graphics'\n",
       "\\item 'package:grDevices'\n",
       "\\item 'package:utils'\n",
       "\\item 'package:datasets'\n",
       "\\item 'package:methods'\n",
       "\\item 'Autoloads'\n",
       "\\item 'package:base'\n",
       "\\end{enumerate*}\n"
      ],
      "text/markdown": [
       "1. '.GlobalEnv'\n",
       "2. 'package:ape'\n",
       "3. 'jupyter:irkernel'\n",
       "4. 'jupyter:irkernel'\n",
       "5. 'package:stats'\n",
       "6. 'package:graphics'\n",
       "7. 'package:grDevices'\n",
       "8. 'package:utils'\n",
       "9. 'package:datasets'\n",
       "10. 'package:methods'\n",
       "11. 'Autoloads'\n",
       "12. 'package:base'\n",
       "\n",
       "\n"
      ],
      "text/plain": [
       " [1] \".GlobalEnv\"        \"package:ape\"       \"jupyter:irkernel\" \n",
       " [4] \"jupyter:irkernel\"  \"package:stats\"     \"package:graphics\" \n",
       " [7] \"package:grDevices\" \"package:utils\"     \"package:datasets\" \n",
       "[10] \"package:methods\"   \"Autoloads\"         \"package:base\"     "
      ]
     },
     "metadata": {},
     "output_type": "display_data"
    }
   ],
   "source": [
    "get('search', envir = baseenv())() ## this is most general, and it will allow you to access objects that are in a non-package environment\n",
    "base:::search() ## this works the same as the above, but it is a useful shortcut"
   ]
  },
  {
   "attachments": {},
   "cell_type": "markdown",
   "metadata": {},
   "source": [
    "Realizing now what we've done, we can remove the object we've created, no harm done."
   ]
  },
  {
   "cell_type": "code",
   "execution_count": 77,
   "metadata": {
    "vscode": {
     "languageId": "r"
    }
   },
   "outputs": [
    {
     "data": {
      "text/html": [
       "<style>\n",
       ".list-inline {list-style: none; margin:0; padding: 0}\n",
       ".list-inline>li {display: inline-block}\n",
       ".list-inline>li:not(:last-child)::after {content: \"\\00b7\"; padding: 0 .5ex}\n",
       "</style>\n",
       "<ol class=list-inline><li>'.GlobalEnv'</li><li>'package:ape'</li><li>'jupyter:irkernel'</li><li>'jupyter:irkernel'</li><li>'package:stats'</li><li>'package:graphics'</li><li>'package:grDevices'</li><li>'package:utils'</li><li>'package:datasets'</li><li>'package:methods'</li><li>'Autoloads'</li><li>'package:base'</li></ol>\n"
      ],
      "text/latex": [
       "\\begin{enumerate*}\n",
       "\\item '.GlobalEnv'\n",
       "\\item 'package:ape'\n",
       "\\item 'jupyter:irkernel'\n",
       "\\item 'jupyter:irkernel'\n",
       "\\item 'package:stats'\n",
       "\\item 'package:graphics'\n",
       "\\item 'package:grDevices'\n",
       "\\item 'package:utils'\n",
       "\\item 'package:datasets'\n",
       "\\item 'package:methods'\n",
       "\\item 'Autoloads'\n",
       "\\item 'package:base'\n",
       "\\end{enumerate*}\n"
      ],
      "text/markdown": [
       "1. '.GlobalEnv'\n",
       "2. 'package:ape'\n",
       "3. 'jupyter:irkernel'\n",
       "4. 'jupyter:irkernel'\n",
       "5. 'package:stats'\n",
       "6. 'package:graphics'\n",
       "7. 'package:grDevices'\n",
       "8. 'package:utils'\n",
       "9. 'package:datasets'\n",
       "10. 'package:methods'\n",
       "11. 'Autoloads'\n",
       "12. 'package:base'\n",
       "\n",
       "\n"
      ],
      "text/plain": [
       " [1] \".GlobalEnv\"        \"package:ape\"       \"jupyter:irkernel\" \n",
       " [4] \"jupyter:irkernel\"  \"package:stats\"     \"package:graphics\" \n",
       " [7] \"package:grDevices\" \"package:utils\"     \"package:datasets\" \n",
       "[10] \"package:methods\"   \"Autoloads\"         \"package:base\"     "
      ]
     },
     "metadata": {},
     "output_type": "display_data"
    }
   ],
   "source": [
    "rm(search)\n",
    "search()"
   ]
  },
  {
   "attachments": {},
   "cell_type": "markdown",
   "metadata": {
    "collapsed": true
   },
   "source": [
    "As you can see, we haven't removed the original function from the base environment, only the one we created. Whew!\n",
    "\n",
    "When I begin a work session, a new project, I typically clear out all objects that might be hanging around from the last time I was working in R, and I move into a new folder. This only becomes very important at the end of your work session, when you want to save the work session and history. While you can navigate to a new folder at any time, I try to do so at the beginning of my work session so that I don't inadvertantly overwrite what I was working on the last time I was here, and so any files I write (e.g., PDFs, tab-delimited files, error logs or anything else) are stored in a single working folder."
   ]
  },
  {
   "cell_type": "code",
   "execution_count": 78,
   "metadata": {
    "vscode": {
     "languageId": "r"
    }
   },
   "outputs": [
    {
     "data": {
      "text/html": [
       "<style>\n",
       ".list-inline {list-style: none; margin:0; padding: 0}\n",
       ".list-inline>li {display: inline-block}\n",
       ".list-inline>li:not(:last-child)::after {content: \"\\00b7\"; padding: 0 .5ex}\n",
       "</style>\n",
       "<ol class=list-inline><li>'aa'</li><li>'bb'</li><li>'cc'</li><li>'dd'</li><li>'dd2'</li><li>'ee'</li><li>'i'</li><li>'marxFavs'</li></ol>\n"
      ],
      "text/latex": [
       "\\begin{enumerate*}\n",
       "\\item 'aa'\n",
       "\\item 'bb'\n",
       "\\item 'cc'\n",
       "\\item 'dd'\n",
       "\\item 'dd2'\n",
       "\\item 'ee'\n",
       "\\item 'i'\n",
       "\\item 'marxFavs'\n",
       "\\end{enumerate*}\n"
      ],
      "text/markdown": [
       "1. 'aa'\n",
       "2. 'bb'\n",
       "3. 'cc'\n",
       "4. 'dd'\n",
       "5. 'dd2'\n",
       "6. 'ee'\n",
       "7. 'i'\n",
       "8. 'marxFavs'\n",
       "\n",
       "\n"
      ],
      "text/plain": [
       "[1] \"aa\"       \"bb\"       \"cc\"       \"dd\"       \"dd2\"      \"ee\"       \"i\"       \n",
       "[8] \"marxFavs\""
      ]
     },
     "metadata": {},
     "output_type": "display_data"
    }
   ],
   "source": [
    "ls() # this lists what is the in workspace at the time that I start up... \n",
    "        #it may be nothing, or all sorts of stuff."
   ]
  },
  {
   "cell_type": "code",
   "execution_count": 79,
   "metadata": {
    "vscode": {
     "languageId": "r"
    }
   },
   "outputs": [
    {
     "data": {
      "text/html": [],
      "text/latex": [],
      "text/markdown": [],
      "text/plain": [
       "character(0)"
      ]
     },
     "metadata": {},
     "output_type": "display_data"
    }
   ],
   "source": [
    "rm(list = ls()) # this deletes EVERYTHING in the workspace. \n",
    "                # This command is ruthless and will not ask you\n",
    "                # if you want to proceed.\n",
    "ls() # this lists what's in your workspace now; nothing"
   ]
  },
  {
   "cell_type": "code",
   "execution_count": 80,
   "metadata": {
    "vscode": {
     "languageId": "r"
    }
   },
   "outputs": [
    {
     "data": {
      "text/html": [
       "'/home/andrew/Documents/github/workshops/2023-goettingen/Wk1-PhyData'"
      ],
      "text/latex": [
       "'/home/andrew/Documents/github/workshops/2023-goettingen/Wk1-PhyData'"
      ],
      "text/markdown": [
       "'/home/andrew/Documents/github/workshops/2023-goettingen/Wk1-PhyData'"
      ],
      "text/plain": [
       "[1] \"/home/andrew/Documents/github/workshops/2023-goettingen/Wk1-PhyData\""
      ]
     },
     "metadata": {},
     "output_type": "display_data"
    },
    {
     "data": {
      "text/html": [
       "<style>\n",
       ".list-inline {list-style: none; margin:0; padding: 0}\n",
       ".list-inline>li {display: inline-block}\n",
       ".list-inline>li:not(:last-child)::after {content: \"\\00b7\"; padding: 0 .5ex}\n",
       "</style>\n",
       "<ol class=list-inline><li>'2023-00_R-basics.ipynb'</li><li>'2023-01a_organizingProjects.ipynb'</li><li>'2023-01b_datViz.ipynb'</li><li>'phyloTutorials'</li></ol>\n"
      ],
      "text/latex": [
       "\\begin{enumerate*}\n",
       "\\item '2023-00\\_R-basics.ipynb'\n",
       "\\item '2023-01a\\_organizingProjects.ipynb'\n",
       "\\item '2023-01b\\_datViz.ipynb'\n",
       "\\item 'phyloTutorials'\n",
       "\\end{enumerate*}\n"
      ],
      "text/markdown": [
       "1. '2023-00_R-basics.ipynb'\n",
       "2. '2023-01a_organizingProjects.ipynb'\n",
       "3. '2023-01b_datViz.ipynb'\n",
       "4. 'phyloTutorials'\n",
       "\n",
       "\n"
      ],
      "text/plain": [
       "[1] \"2023-00_R-basics.ipynb\"            \"2023-01a_organizingProjects.ipynb\"\n",
       "[3] \"2023-01b_datViz.ipynb\"             \"phyloTutorials\"                   "
      ]
     },
     "metadata": {},
     "output_type": "display_data"
    }
   ],
   "source": [
    "getwd() # this command tells me what directory I'm in...\n",
    "dir() # ... and this one tells me what is in that directory."
   ]
  },
  {
   "cell_type": "code",
   "execution_count": 81,
   "metadata": {
    "vscode": {
     "languageId": "r"
    }
   },
   "outputs": [],
   "source": [
    "#setwd(choose.dir()) # To change directories interactively, you can use this \n",
    "                    # command, but in Windows only; if you are not using\n",
    "                    # Windows, type the path in quotes between the \n",
    "                    # parentheses of \"setwd\"."
   ]
  },
  {
   "attachments": {},
   "cell_type": "markdown",
   "metadata": {},
   "source": [
    "I then attach the packages that I know or suspect that I'll need. If I don't do it right away, there's no great problem: packages can be attached any time, and you can navigate to a new folder at any time. "
   ]
  },
  {
   "cell_type": "code",
   "execution_count": 82,
   "metadata": {
    "vscode": {
     "languageId": "r"
    }
   },
   "outputs": [],
   "source": [
    "library(ape) # here I'm attaching the Analysis of Phylogenetics and Evolution package,\n",
    "             # if I didn't have that package installed on my machine, \n",
    "             # I would have to use install.packages('ape') before attaching it"
   ]
  },
  {
   "attachments": {},
   "cell_type": "markdown",
   "metadata": {},
   "source": [
    "## Assignment and data types\n",
    "### numeric vectors -- assignment of vectors, and operating on vectors\n",
    "One of the oft-quoted principles of R is that everything is an object. What this means is that almost everything you do---typing a number or character, performing math, calling a function---produces an object that can be acted upon in some way. It can be printed, added to, passed into another function or assigned to a variable within the workspace. There are some exceptions. For example, the \"save\" function is not called because it produces a useful object within the workspace, but because it has the external effect (often called a side-effect) of saving an object to the disk. The same is true of 'print'. But aside from these exceptions, learning to think in terms of objects is essential to getting around at all in R.\n",
    "\n",
    "Objects all have a class, which can be accessed using the \"class\" function. Numeric vectors are among the most commonly used objects in our work. In the following, you can see some of the ways in which numeric vectors are created and manipulated."
   ]
  },
  {
   "cell_type": "code",
   "execution_count": 83,
   "metadata": {
    "vscode": {
     "languageId": "r"
    }
   },
   "outputs": [
    {
     "data": {
      "text/html": [
       "<style>\n",
       ".list-inline {list-style: none; margin:0; padding: 0}\n",
       ".list-inline>li {display: inline-block}\n",
       ".list-inline>li:not(:last-child)::after {content: \"\\00b7\"; padding: 0 .5ex}\n",
       "</style>\n",
       "<ol class=list-inline><li>1</li><li>2</li><li>3</li><li>4</li><li>5</li><li>6</li><li>7</li><li>8</li><li>9</li><li>10</li></ol>\n"
      ],
      "text/latex": [
       "\\begin{enumerate*}\n",
       "\\item 1\n",
       "\\item 2\n",
       "\\item 3\n",
       "\\item 4\n",
       "\\item 5\n",
       "\\item 6\n",
       "\\item 7\n",
       "\\item 8\n",
       "\\item 9\n",
       "\\item 10\n",
       "\\end{enumerate*}\n"
      ],
      "text/markdown": [
       "1. 1\n",
       "2. 2\n",
       "3. 3\n",
       "4. 4\n",
       "5. 5\n",
       "6. 6\n",
       "7. 7\n",
       "8. 8\n",
       "9. 9\n",
       "10. 10\n",
       "\n",
       "\n"
      ],
      "text/plain": [
       " [1]  1  2  3  4  5  6  7  8  9 10"
      ]
     },
     "metadata": {},
     "output_type": "display_data"
    },
    {
     "data": {
      "text/html": [
       "'integer'"
      ],
      "text/latex": [
       "'integer'"
      ],
      "text/markdown": [
       "'integer'"
      ],
      "text/plain": [
       "[1] \"integer\""
      ]
     },
     "metadata": {},
     "output_type": "display_data"
    }
   ],
   "source": [
    "1:10 # prints 1:10, doesn't assign it to anything\n",
    "class(1:10)"
   ]
  },
  {
   "cell_type": "code",
   "execution_count": 84,
   "metadata": {
    "vscode": {
     "languageId": "r"
    }
   },
   "outputs": [
    {
     "data": {
      "text/html": [
       "'integer'"
      ],
      "text/latex": [
       "'integer'"
      ],
      "text/markdown": [
       "'integer'"
      ],
      "text/plain": [
       "[1] \"integer\""
      ]
     },
     "metadata": {},
     "output_type": "display_data"
    }
   ],
   "source": [
    "aa <- 1:10 # assign values using the <- or...\n",
    "aa = 1:10  # ... a single = sign.\n",
    "class(aa)"
   ]
  },
  {
   "cell_type": "code",
   "execution_count": 85,
   "metadata": {
    "vscode": {
     "languageId": "r"
    }
   },
   "outputs": [
    {
     "data": {
      "text/html": [
       "'numeric'"
      ],
      "text/latex": [
       "'numeric'"
      ],
      "text/markdown": [
       "'numeric'"
      ],
      "text/plain": [
       "[1] \"numeric\""
      ]
     },
     "metadata": {},
     "output_type": "display_data"
    }
   ],
   "source": [
    "# the \"c\" operator is very important in R: it is used to concatenate values.\n",
    "bb <- c(1, 2, 3, 4, 5, 6, 7, 8, 9, 10)\n",
    "class(bb) # note that these two are not of the same class; why not?\n",
    "\n",
    "cc <- seq(from = 1, to = 10, by = 1) # another way of saying cc <- 1:10, but more flexible;\n",
    "                                        # you can assign by 0.1 or 2 if you want different intervals"
   ]
  },
  {
   "cell_type": "code",
   "execution_count": 86,
   "metadata": {
    "vscode": {
     "languageId": "r"
    }
   },
   "outputs": [
    {
     "data": {
      "text/html": [
       "FALSE"
      ],
      "text/latex": [
       "FALSE"
      ],
      "text/markdown": [
       "FALSE"
      ],
      "text/plain": [
       "[1] FALSE"
      ]
     },
     "metadata": {},
     "output_type": "display_data"
    }
   ],
   "source": [
    "identical(aa, bb) # a logical test: is aa identical to bb?\n",
    "                    # this test fails, because the classes of aa and bb are different "
   ]
  },
  {
   "cell_type": "code",
   "execution_count": 87,
   "metadata": {
    "vscode": {
     "languageId": "r"
    }
   },
   "outputs": [
    {
     "data": {
      "text/html": [
       "<style>\n",
       ".list-inline {list-style: none; margin:0; padding: 0}\n",
       ".list-inline>li {display: inline-block}\n",
       ".list-inline>li:not(:last-child)::after {content: \"\\00b7\"; padding: 0 .5ex}\n",
       "</style>\n",
       "<ol class=list-inline><li>TRUE</li><li>TRUE</li><li>TRUE</li><li>TRUE</li><li>TRUE</li><li>TRUE</li><li>TRUE</li><li>TRUE</li><li>TRUE</li><li>TRUE</li></ol>\n"
      ],
      "text/latex": [
       "\\begin{enumerate*}\n",
       "\\item TRUE\n",
       "\\item TRUE\n",
       "\\item TRUE\n",
       "\\item TRUE\n",
       "\\item TRUE\n",
       "\\item TRUE\n",
       "\\item TRUE\n",
       "\\item TRUE\n",
       "\\item TRUE\n",
       "\\item TRUE\n",
       "\\end{enumerate*}\n"
      ],
      "text/markdown": [
       "1. TRUE\n",
       "2. TRUE\n",
       "3. TRUE\n",
       "4. TRUE\n",
       "5. TRUE\n",
       "6. TRUE\n",
       "7. TRUE\n",
       "8. TRUE\n",
       "9. TRUE\n",
       "10. TRUE\n",
       "\n",
       "\n"
      ],
      "text/plain": [
       " [1] TRUE TRUE TRUE TRUE TRUE TRUE TRUE TRUE TRUE TRUE"
      ]
     },
     "metadata": {},
     "output_type": "display_data"
    }
   ],
   "source": [
    "aa == bb # a logical test: is each element of aa equal to its related element in bb?"
   ]
  },
  {
   "cell_type": "code",
   "execution_count": 88,
   "metadata": {
    "vscode": {
     "languageId": "r"
    }
   },
   "outputs": [
    {
     "data": {
      "text/html": [
       "TRUE"
      ],
      "text/latex": [
       "TRUE"
      ],
      "text/markdown": [
       "TRUE"
      ],
      "text/plain": [
       "[1] TRUE"
      ]
     },
     "metadata": {},
     "output_type": "display_data"
    }
   ],
   "source": [
    "all(aa == bb) # another logical test: do ALL of the elements of aa equal their related elements in bb?"
   ]
  },
  {
   "cell_type": "code",
   "execution_count": 89,
   "metadata": {
    "vscode": {
     "languageId": "r"
    }
   },
   "outputs": [],
   "source": [
    "aa = bb  # assignment: set aa to be identical to bb\n",
    "aa <- bb # assignment"
   ]
  },
  {
   "cell_type": "code",
   "execution_count": 90,
   "metadata": {
    "vscode": {
     "languageId": "r"
    }
   },
   "outputs": [
    {
     "data": {
      "text/html": [
       "2"
      ],
      "text/latex": [
       "2"
      ],
      "text/markdown": [
       "2"
      ],
      "text/plain": [
       "[1] 2"
      ]
     },
     "metadata": {},
     "output_type": "display_data"
    }
   ],
   "source": [
    "aa[2] # look at the second element of aa\n",
    "aa[2] <- 15 # change the second element of aa"
   ]
  },
  {
   "cell_type": "code",
   "execution_count": 91,
   "metadata": {
    "vscode": {
     "languageId": "r"
    }
   },
   "outputs": [
    {
     "data": {
      "text/html": [
       "<style>\n",
       ".list-inline {list-style: none; margin:0; padding: 0}\n",
       ".list-inline>li {display: inline-block}\n",
       ".list-inline>li:not(:last-child)::after {content: \"\\00b7\"; padding: 0 .5ex}\n",
       "</style>\n",
       "<ol class=list-inline><li>TRUE</li><li>FALSE</li><li>TRUE</li><li>TRUE</li><li>TRUE</li><li>TRUE</li><li>TRUE</li><li>TRUE</li><li>TRUE</li><li>TRUE</li></ol>\n"
      ],
      "text/latex": [
       "\\begin{enumerate*}\n",
       "\\item TRUE\n",
       "\\item FALSE\n",
       "\\item TRUE\n",
       "\\item TRUE\n",
       "\\item TRUE\n",
       "\\item TRUE\n",
       "\\item TRUE\n",
       "\\item TRUE\n",
       "\\item TRUE\n",
       "\\item TRUE\n",
       "\\end{enumerate*}\n"
      ],
      "text/markdown": [
       "1. TRUE\n",
       "2. FALSE\n",
       "3. TRUE\n",
       "4. TRUE\n",
       "5. TRUE\n",
       "6. TRUE\n",
       "7. TRUE\n",
       "8. TRUE\n",
       "9. TRUE\n",
       "10. TRUE\n",
       "\n",
       "\n"
      ],
      "text/plain": [
       " [1]  TRUE FALSE  TRUE  TRUE  TRUE  TRUE  TRUE  TRUE  TRUE  TRUE"
      ]
     },
     "metadata": {},
     "output_type": "display_data"
    },
    {
     "name": "stdout",
     "output_type": "stream",
     "text": [
      " [1] \"multiplying: 1\"   \"multiplying: 30\"  \"multiplying: 9\"   \"multiplying: 16\" \n",
      " [5] \"multiplying: 25\"  \"multiplying: 36\"  \"multiplying: 49\"  \"multiplying: 64\" \n",
      " [9] \"multiplying: 81\"  \"multiplying: 100\"\n",
      " [1] \"adding: 2\"  \"adding: 17\" \"adding: 6\"  \"adding: 8\"  \"adding: 10\"\n",
      " [6] \"adding: 12\" \"adding: 14\" \"adding: 16\" \"adding: 18\" \"adding: 20\"\n"
     ]
    },
    {
     "data": {
      "text/html": [
       "<style>\n",
       ".list-inline {list-style: none; margin:0; padding: 0}\n",
       ".list-inline>li {display: inline-block}\n",
       ".list-inline>li:not(:last-child)::after {content: \"\\00b7\"; padding: 0 .5ex}\n",
       "</style>\n",
       "<ol class=list-inline><li>1.1</li><li>16.5</li><li>3.3</li><li>4.4</li><li>5.5</li><li>6.6</li><li>7.7</li><li>8.8</li><li>9.9</li><li>11</li></ol>\n"
      ],
      "text/latex": [
       "\\begin{enumerate*}\n",
       "\\item 1.1\n",
       "\\item 16.5\n",
       "\\item 3.3\n",
       "\\item 4.4\n",
       "\\item 5.5\n",
       "\\item 6.6\n",
       "\\item 7.7\n",
       "\\item 8.8\n",
       "\\item 9.9\n",
       "\\item 11\n",
       "\\end{enumerate*}\n"
      ],
      "text/markdown": [
       "1. 1.1\n",
       "2. 16.5\n",
       "3. 3.3\n",
       "4. 4.4\n",
       "5. 5.5\n",
       "6. 6.6\n",
       "7. 7.7\n",
       "8. 8.8\n",
       "9. 9.9\n",
       "10. 11\n",
       "\n",
       "\n"
      ],
      "text/plain": [
       " [1]  1.1 16.5  3.3  4.4  5.5  6.6  7.7  8.8  9.9 11.0"
      ]
     },
     "metadata": {},
     "output_type": "display_data"
    },
    {
     "data": {
      "text/html": [
       "<style>\n",
       ".list-inline {list-style: none; margin:0; padding: 0}\n",
       ".list-inline>li {display: inline-block}\n",
       ".list-inline>li:not(:last-child)::after {content: \"\\00b7\"; padding: 0 .5ex}\n",
       "</style>\n",
       "<ol class=list-inline><li>1</li><li>16</li><li>3</li><li>4</li><li>5</li><li>6</li><li>7</li><li>8</li><li>9</li><li>11</li></ol>\n"
      ],
      "text/latex": [
       "\\begin{enumerate*}\n",
       "\\item 1\n",
       "\\item 16\n",
       "\\item 3\n",
       "\\item 4\n",
       "\\item 5\n",
       "\\item 6\n",
       "\\item 7\n",
       "\\item 8\n",
       "\\item 9\n",
       "\\item 11\n",
       "\\end{enumerate*}\n"
      ],
      "text/markdown": [
       "1. 1\n",
       "2. 16\n",
       "3. 3\n",
       "4. 4\n",
       "5. 5\n",
       "6. 6\n",
       "7. 7\n",
       "8. 8\n",
       "9. 9\n",
       "10. 11\n",
       "\n",
       "\n"
      ],
      "text/plain": [
       " [1]  1 16  3  4  5  6  7  8  9 11"
      ]
     },
     "metadata": {},
     "output_type": "display_data"
    }
   ],
   "source": [
    "aa == bb\n",
    "print(paste('multiplying:', aa * bb))\n",
    "print(paste('adding:', aa + bb))\n",
    "aa * 1.1\n",
    "as.integer(aa * 1.1)"
   ]
  },
  {
   "cell_type": "code",
   "execution_count": 92,
   "metadata": {
    "vscode": {
     "languageId": "r"
    }
   },
   "outputs": [
    {
     "data": {
      "text/html": [
       "<style>\n",
       ".dl-inline {width: auto; margin:0; padding: 0}\n",
       ".dl-inline>dt, .dl-inline>dd {float: none; width: auto; display: inline-block}\n",
       ".dl-inline>dt::after {content: \":\\0020\"; padding-right: .5ex}\n",
       ".dl-inline>dt:not(:first-of-type) {padding-left: .5ex}\n",
       "</style><dl class=dl-inline><dt>Quercus</dt><dd>1</dd><dt>Carex</dt><dd>15</dd><dt>Acer</dt><dd>3</dd><dt>Daphnia</dt><dd>4</dd><dt>Granite</dt><dd>5</dd><dt>Pan</dt><dd>6</dd><dt>Peromyscus</dt><dd>7</dd><dt>Microtus</dt><dd>8</dd><dt>Shmoo</dt><dd>9</dd><dt>Caenorhabditis</dt><dd>10</dd></dl>\n"
      ],
      "text/latex": [
       "\\begin{description*}\n",
       "\\item[Quercus] 1\n",
       "\\item[Carex] 15\n",
       "\\item[Acer] 3\n",
       "\\item[Daphnia] 4\n",
       "\\item[Granite] 5\n",
       "\\item[Pan] 6\n",
       "\\item[Peromyscus] 7\n",
       "\\item[Microtus] 8\n",
       "\\item[Shmoo] 9\n",
       "\\item[Caenorhabditis] 10\n",
       "\\end{description*}\n"
      ],
      "text/markdown": [
       "Quercus\n",
       ":   1Carex\n",
       ":   15Acer\n",
       ":   3Daphnia\n",
       ":   4Granite\n",
       ":   5Pan\n",
       ":   6Peromyscus\n",
       ":   7Microtus\n",
       ":   8Shmoo\n",
       ":   9Caenorhabditis\n",
       ":   10\n",
       "\n"
      ],
      "text/plain": [
       "       Quercus          Carex           Acer        Daphnia        Granite \n",
       "             1             15              3              4              5 \n",
       "           Pan     Peromyscus       Microtus          Shmoo Caenorhabditis \n",
       "             6              7              8              9             10 "
      ]
     },
     "metadata": {},
     "output_type": "display_data"
    },
    {
     "name": "stderr",
     "output_type": "stream",
     "text": [
      "You can subset aa using a number or a name indexing the position of the data you want\n",
      "\n"
     ]
    },
    {
     "data": {
      "text/html": [
       "<strong>Quercus:</strong> 1"
      ],
      "text/latex": [
       "\\textbf{Quercus:} 1"
      ],
      "text/markdown": [
       "**Quercus:** 1"
      ],
      "text/plain": [
       "Quercus \n",
       "      1 "
      ]
     },
     "metadata": {},
     "output_type": "display_data"
    }
   ],
   "source": [
    "names(aa) <- names(bb) <- c('Quercus', 'Carex', 'Acer', 'Daphnia',\n",
    "                            'Granite', 'Pan', 'Peromyscus', 'Microtus', 'Shmoo', 'Caenorhabditis')\n",
    "aa\n",
    "message('You can subset aa using a number or a name indexing the position of the data you want')\n",
    "aa['Quercus']"
   ]
  },
  {
   "attachments": {},
   "cell_type": "markdown",
   "metadata": {},
   "source": [
    "### Matrices and data frames: start thinking about trait data\n",
    "Trait data may be one-dimensional, in which case we can store them in named numeric vectors (look at aa above). But more often they are two-dimensional, tabular data, with individuals or taxa as the rows and traits as the columns. If your trait data are all of one data class---e.g., all numeric or all character data---a matrix is a very natural way of storing these data. "
   ]
  },
  {
   "cell_type": "code",
   "execution_count": 93,
   "metadata": {
    "vscode": {
     "languageId": "r"
    }
   },
   "outputs": [],
   "source": [
    "dd <- matrix(1:12, 4, 3) # create a 4-row by 3-column matrix, filled by column with the numbers 1:12 \n",
    "dd <- matrix(1:12, 4, 3, byrow = T) # create a 4-row by 3-column matrix, filled by row with the numbers 1:12 \n",
    "dd <- matrix(NA, 5, 3, dimnames = list(c('harpo', 'groucho', 'zeppo', 'chico', 'gummo'), \n",
    "                                       c('instrument', 'hair', 'birthOrder'))) # create an empty matrix (cells filled with NA)\n",
    "                                                                                # and name the rows and columns using the\n",
    "                                                                                # dimnames argument"
   ]
  },
  {
   "cell_type": "code",
   "execution_count": 94,
   "metadata": {
    "vscode": {
     "languageId": "r"
    }
   },
   "outputs": [
    {
     "data": {
      "text/html": [
       "<table class=\"dataframe\">\n",
       "<caption>A matrix: 5 × 3 of type chr</caption>\n",
       "<thead>\n",
       "\t<tr><th></th><th scope=col>instrument</th><th scope=col>hair</th><th scope=col>birthOrder</th></tr>\n",
       "</thead>\n",
       "<tbody>\n",
       "\t<tr><th scope=row>harpo</th><td>harp  </td><td>NA</td><td>2</td></tr>\n",
       "\t<tr><th scope=row>groucho</th><td>guitar</td><td>NA</td><td>3</td></tr>\n",
       "\t<tr><th scope=row>zeppo</th><td>NA    </td><td>NA</td><td>5</td></tr>\n",
       "\t<tr><th scope=row>chico</th><td>piano </td><td>NA</td><td>1</td></tr>\n",
       "\t<tr><th scope=row>gummo</th><td>NA    </td><td>NA</td><td>4</td></tr>\n",
       "</tbody>\n",
       "</table>\n"
      ],
      "text/latex": [
       "A matrix: 5 × 3 of type chr\n",
       "\\begin{tabular}{r|lll}\n",
       "  & instrument & hair & birthOrder\\\\\n",
       "\\hline\n",
       "\tharpo & harp   & NA & 2\\\\\n",
       "\tgroucho & guitar & NA & 3\\\\\n",
       "\tzeppo & NA     & NA & 5\\\\\n",
       "\tchico & piano  & NA & 1\\\\\n",
       "\tgummo & NA     & NA & 4\\\\\n",
       "\\end{tabular}\n"
      ],
      "text/markdown": [
       "\n",
       "A matrix: 5 × 3 of type chr\n",
       "\n",
       "| <!--/--> | instrument | hair | birthOrder |\n",
       "|---|---|---|---|\n",
       "| harpo | harp   | NA | 2 |\n",
       "| groucho | guitar | NA | 3 |\n",
       "| zeppo | NA     | NA | 5 |\n",
       "| chico | piano  | NA | 1 |\n",
       "| gummo | NA     | NA | 4 |\n",
       "\n"
      ],
      "text/plain": [
       "        instrument hair birthOrder\n",
       "harpo   harp       NA   2         \n",
       "groucho guitar     NA   3         \n",
       "zeppo   NA         NA   5         \n",
       "chico   piano      NA   1         \n",
       "gummo   NA         NA   4         "
      ]
     },
     "metadata": {},
     "output_type": "display_data"
    },
    {
     "name": "stderr",
     "output_type": "stream",
     "text": [
      "now just get one value\n",
      "\n"
     ]
    },
    {
     "data": {
      "text/html": [
       "'harp'"
      ],
      "text/latex": [
       "'harp'"
      ],
      "text/markdown": [
       "'harp'"
      ],
      "text/plain": [
       "[1] \"harp\""
      ]
     },
     "metadata": {},
     "output_type": "display_data"
    }
   ],
   "source": [
    "dd[1, 1] <- 'harp' # place a single value in row 1, column 1\n",
    "dd[c(2,4), 1] <- c('guitar', 'piano') # place values in two arbitrarily selected cells\n",
    "dd[, 3] <- c(2, 3, 5, 1, 4) # fill column 3 with integers\n",
    "dd # look at the whole matrix\n",
    "message('now just get one value')\n",
    "dd[1,1] # select one value"
   ]
  },
  {
   "cell_type": "code",
   "execution_count": 95,
   "metadata": {
    "vscode": {
     "languageId": "r"
    }
   },
   "outputs": [
    {
     "data": {
      "text/html": [
       "'harp'"
      ],
      "text/latex": [
       "'harp'"
      ],
      "text/markdown": [
       "'harp'"
      ],
      "text/plain": [
       "[1] \"harp\""
      ]
     },
     "metadata": {},
     "output_type": "display_data"
    }
   ],
   "source": [
    "dd['harpo', 1] # look at the value in row 1, column 1"
   ]
  },
  {
   "cell_type": "code",
   "execution_count": 96,
   "metadata": {
    "vscode": {
     "languageId": "r"
    }
   },
   "outputs": [
    {
     "data": {
      "text/html": [
       "'harp'"
      ],
      "text/latex": [
       "'harp'"
      ],
      "text/markdown": [
       "'harp'"
      ],
      "text/plain": [
       "[1] \"harp\""
      ]
     },
     "metadata": {},
     "output_type": "display_data"
    }
   ],
   "source": [
    "dd['harpo', 'instrument'] # look at the value in row 1, column 1"
   ]
  },
  {
   "attachments": {},
   "cell_type": "markdown",
   "metadata": {},
   "source": [
    "Often, however, your data will be composed of traits of different classes: one continuous, one an ordered categorical trait, one binary. In this case, you are better off using a data.frame object. If you read in your data using 'read.csv', 'read.delim', or 'read.table', you will end up with a data.frame object. The following lines explore some of the properties of data.frames and their relationship to matrices."
   ]
  },
  {
   "cell_type": "code",
   "execution_count": 97,
   "metadata": {
    "vscode": {
     "languageId": "r"
    }
   },
   "outputs": [
    {
     "data": {
      "text/html": [
       "<style>\n",
       ".dl-inline {width: auto; margin:0; padding: 0}\n",
       ".dl-inline>dt, .dl-inline>dd {float: none; width: auto; display: inline-block}\n",
       ".dl-inline>dt::after {content: \":\\0020\"; padding-right: .5ex}\n",
       ".dl-inline>dt:not(:first-of-type) {padding-left: .5ex}\n",
       "</style><dl class=dl-inline><dt>harpo</dt><dd>'harp'</dd><dt>groucho</dt><dd>'guitar'</dd><dt>zeppo</dt><dd>NA</dd><dt>chico</dt><dd>'piano'</dd><dt>gummo</dt><dd>NA</dd></dl>\n"
      ],
      "text/latex": [
       "\\begin{description*}\n",
       "\\item[harpo] 'harp'\n",
       "\\item[groucho] 'guitar'\n",
       "\\item[zeppo] NA\n",
       "\\item[chico] 'piano'\n",
       "\\item[gummo] NA\n",
       "\\end{description*}\n"
      ],
      "text/markdown": [
       "harpo\n",
       ":   'harp'groucho\n",
       ":   'guitar'zeppo\n",
       ":   NAchico\n",
       ":   'piano'gummo\n",
       ":   NA\n",
       "\n"
      ],
      "text/plain": [
       "   harpo  groucho    zeppo    chico    gummo \n",
       "  \"harp\" \"guitar\"       NA  \"piano\"       NA "
      ]
     },
     "metadata": {},
     "output_type": "display_data"
    }
   ],
   "source": [
    "dd2 <- as.data.frame(dd)\n",
    "dd[, 1]"
   ]
  },
  {
   "cell_type": "code",
   "execution_count": 98,
   "metadata": {
    "vscode": {
     "languageId": "r"
    }
   },
   "outputs": [
    {
     "data": {
      "text/html": [
       "<style>\n",
       ".list-inline {list-style: none; margin:0; padding: 0}\n",
       ".list-inline>li {display: inline-block}\n",
       ".list-inline>li:not(:last-child)::after {content: \"\\00b7\"; padding: 0 .5ex}\n",
       "</style>\n",
       "<ol class=list-inline><li>'harp'</li><li>'guitar'</li><li>NA</li><li>'piano'</li><li>NA</li></ol>\n"
      ],
      "text/latex": [
       "\\begin{enumerate*}\n",
       "\\item 'harp'\n",
       "\\item 'guitar'\n",
       "\\item NA\n",
       "\\item 'piano'\n",
       "\\item NA\n",
       "\\end{enumerate*}\n"
      ],
      "text/markdown": [
       "1. 'harp'\n",
       "2. 'guitar'\n",
       "3. NA\n",
       "4. 'piano'\n",
       "5. NA\n",
       "\n",
       "\n"
      ],
      "text/plain": [
       "[1] \"harp\"   \"guitar\" NA       \"piano\"  NA      "
      ]
     },
     "metadata": {},
     "output_type": "display_data"
    }
   ],
   "source": [
    "dd2[, 1]"
   ]
  },
  {
   "cell_type": "code",
   "execution_count": 99,
   "metadata": {
    "vscode": {
     "languageId": "r"
    }
   },
   "outputs": [
    {
     "data": {
      "text/html": [
       "<ol>\n",
       "\t<li><style>\n",
       ".list-inline {list-style: none; margin:0; padding: 0}\n",
       ".list-inline>li {display: inline-block}\n",
       ".list-inline>li:not(:last-child)::after {content: \"\\00b7\"; padding: 0 .5ex}\n",
       "</style>\n",
       "<ol class=list-inline><li>'harpo'</li><li>'groucho'</li><li>'zeppo'</li><li>'chico'</li><li>'gummo'</li></ol>\n",
       "</li>\n",
       "\t<li><style>\n",
       ".list-inline {list-style: none; margin:0; padding: 0}\n",
       ".list-inline>li {display: inline-block}\n",
       ".list-inline>li:not(:last-child)::after {content: \"\\00b7\"; padding: 0 .5ex}\n",
       "</style>\n",
       "<ol class=list-inline><li>'instrument'</li><li>'hair'</li><li>'birthOrder'</li></ol>\n",
       "</li>\n",
       "</ol>\n"
      ],
      "text/latex": [
       "\\begin{enumerate}\n",
       "\\item \\begin{enumerate*}\n",
       "\\item 'harpo'\n",
       "\\item 'groucho'\n",
       "\\item 'zeppo'\n",
       "\\item 'chico'\n",
       "\\item 'gummo'\n",
       "\\end{enumerate*}\n",
       "\n",
       "\\item \\begin{enumerate*}\n",
       "\\item 'instrument'\n",
       "\\item 'hair'\n",
       "\\item 'birthOrder'\n",
       "\\end{enumerate*}\n",
       "\n",
       "\\end{enumerate}\n"
      ],
      "text/markdown": [
       "1. 1. 'harpo'\n",
       "2. 'groucho'\n",
       "3. 'zeppo'\n",
       "4. 'chico'\n",
       "5. 'gummo'\n",
       "\n",
       "\n",
       "\n",
       "2. 1. 'instrument'\n",
       "2. 'hair'\n",
       "3. 'birthOrder'\n",
       "\n",
       "\n",
       "\n",
       "\n",
       "\n"
      ],
      "text/plain": [
       "[[1]]\n",
       "[1] \"harpo\"   \"groucho\" \"zeppo\"   \"chico\"   \"gummo\"  \n",
       "\n",
       "[[2]]\n",
       "[1] \"instrument\" \"hair\"       \"birthOrder\"\n"
      ]
     },
     "metadata": {},
     "output_type": "display_data"
    }
   ],
   "source": [
    "dimnames(dd2)"
   ]
  },
  {
   "cell_type": "code",
   "execution_count": 100,
   "metadata": {
    "vscode": {
     "languageId": "r"
    }
   },
   "outputs": [
    {
     "data": {
      "text/html": [
       "<style>\n",
       ".list-inline {list-style: none; margin:0; padding: 0}\n",
       ".list-inline>li {display: inline-block}\n",
       ".list-inline>li:not(:last-child)::after {content: \"\\00b7\"; padding: 0 .5ex}\n",
       "</style>\n",
       "<ol class=list-inline><li>'harpo'</li><li>'groucho'</li><li>'zeppo'</li><li>'chico'</li><li>'gummo'</li></ol>\n"
      ],
      "text/latex": [
       "\\begin{enumerate*}\n",
       "\\item 'harpo'\n",
       "\\item 'groucho'\n",
       "\\item 'zeppo'\n",
       "\\item 'chico'\n",
       "\\item 'gummo'\n",
       "\\end{enumerate*}\n"
      ],
      "text/markdown": [
       "1. 'harpo'\n",
       "2. 'groucho'\n",
       "3. 'zeppo'\n",
       "4. 'chico'\n",
       "5. 'gummo'\n",
       "\n",
       "\n"
      ],
      "text/plain": [
       "[1] \"harpo\"   \"groucho\" \"zeppo\"   \"chico\"   \"gummo\"  "
      ]
     },
     "metadata": {},
     "output_type": "display_data"
    }
   ],
   "source": [
    "row.names(dd2)"
   ]
  },
  {
   "cell_type": "code",
   "execution_count": 101,
   "metadata": {
    "vscode": {
     "languageId": "r"
    }
   },
   "outputs": [
    {
     "data": {
      "text/html": [
       "<style>\n",
       ".list-inline {list-style: none; margin:0; padding: 0}\n",
       ".list-inline>li {display: inline-block}\n",
       ".list-inline>li:not(:last-child)::after {content: \"\\00b7\"; padding: 0 .5ex}\n",
       "</style>\n",
       "<ol class=list-inline><li>'instrument'</li><li>'hair'</li><li>'birthOrder'</li></ol>\n"
      ],
      "text/latex": [
       "\\begin{enumerate*}\n",
       "\\item 'instrument'\n",
       "\\item 'hair'\n",
       "\\item 'birthOrder'\n",
       "\\end{enumerate*}\n"
      ],
      "text/markdown": [
       "1. 'instrument'\n",
       "2. 'hair'\n",
       "3. 'birthOrder'\n",
       "\n",
       "\n"
      ],
      "text/plain": [
       "[1] \"instrument\" \"hair\"       \"birthOrder\""
      ]
     },
     "metadata": {},
     "output_type": "display_data"
    }
   ],
   "source": [
    "names(dd2)"
   ]
  },
  {
   "attachments": {},
   "cell_type": "markdown",
   "metadata": {},
   "source": [
    "One of the oddities of data.frame objects is that they default to storing all data as factors. Factors are more often than not a bother, and they working with them can have odd side-effects. When I read in data from an external file using \"read.csv\" or \"read.delim\", I almost always use the \"as.is = TRUE\" argument to prevent R from coercing my data to factors. In the following lines, I convert a few columns to non-factor classes. I also demonstrate the use of $ and [[]] to index columns in a data.frame; neither can be used for matrices."
   ]
  },
  {
   "cell_type": "code",
   "execution_count": 102,
   "metadata": {
    "vscode": {
     "languageId": "r"
    }
   },
   "outputs": [
    {
     "data": {
      "text/html": [
       "<style>\n",
       ".list-inline {list-style: none; margin:0; padding: 0}\n",
       ".list-inline>li {display: inline-block}\n",
       ".list-inline>li:not(:last-child)::after {content: \"\\00b7\"; padding: 0 .5ex}\n",
       "</style>\n",
       "<ol class=list-inline><li>'2'</li><li>'3'</li><li>'5'</li><li>'1'</li><li>'4'</li></ol>\n"
      ],
      "text/latex": [
       "\\begin{enumerate*}\n",
       "\\item '2'\n",
       "\\item '3'\n",
       "\\item '5'\n",
       "\\item '1'\n",
       "\\item '4'\n",
       "\\end{enumerate*}\n"
      ],
      "text/markdown": [
       "1. '2'\n",
       "2. '3'\n",
       "3. '5'\n",
       "4. '1'\n",
       "5. '4'\n",
       "\n",
       "\n"
      ],
      "text/plain": [
       "[1] \"2\" \"3\" \"5\" \"1\" \"4\""
      ]
     },
     "metadata": {},
     "output_type": "display_data"
    }
   ],
   "source": [
    "dd2$birthOrder"
   ]
  },
  {
   "cell_type": "code",
   "execution_count": 103,
   "metadata": {
    "vscode": {
     "languageId": "r"
    }
   },
   "outputs": [
    {
     "data": {
      "text/html": [
       "<style>\n",
       ".list-inline {list-style: none; margin:0; padding: 0}\n",
       ".list-inline>li {display: inline-block}\n",
       ".list-inline>li:not(:last-child)::after {content: \"\\00b7\"; padding: 0 .5ex}\n",
       "</style>\n",
       "<ol class=list-inline><li>2</li><li>3</li><li>5</li><li>1</li><li>4</li></ol>\n"
      ],
      "text/latex": [
       "\\begin{enumerate*}\n",
       "\\item 2\n",
       "\\item 3\n",
       "\\item 5\n",
       "\\item 1\n",
       "\\item 4\n",
       "\\end{enumerate*}\n"
      ],
      "text/markdown": [
       "1. 2\n",
       "2. 3\n",
       "3. 5\n",
       "4. 1\n",
       "5. 4\n",
       "\n",
       "\n"
      ],
      "text/plain": [
       "[1] 2 3 5 1 4"
      ]
     },
     "metadata": {},
     "output_type": "display_data"
    }
   ],
   "source": [
    "as.integer(dd2$birthOrder)"
   ]
  },
  {
   "cell_type": "code",
   "execution_count": 104,
   "metadata": {
    "vscode": {
     "languageId": "r"
    }
   },
   "outputs": [
    {
     "name": "stdout",
     "output_type": "stream",
     "text": [
      "[1] \"character\"\n",
      "[1] \"character\"\n",
      "[1] \"integer\"\n"
     ]
    }
   ],
   "source": [
    "dd2$birthOrder <- as.integer(dd2$birthOrder)\n",
    "dd2$instrument <- as.character(dd2$instrument)\n",
    "for(i in 1:3) print(class(dd2[[i]]))"
   ]
  },
  {
   "attachments": {},
   "cell_type": "markdown",
   "metadata": {},
   "source": [
    "A data.frame object can be indexed just like a matrix, as well:"
   ]
  },
  {
   "cell_type": "code",
   "execution_count": 105,
   "metadata": {
    "vscode": {
     "languageId": "r"
    }
   },
   "outputs": [
    {
     "name": "stdout",
     "output_type": "stream",
     "text": [
      "        instrument hair birthOrder\n",
      "groucho     guitar <NA>          3\n",
      "harpo         harp <NA>          2\n",
      "chico        piano <NA>          1\n"
     ]
    }
   ],
   "source": [
    "marxFavs <- c('groucho', 'harpo', 'chico')\n",
    "print(dd2[marxFavs, ])"
   ]
  },
  {
   "attachments": {},
   "cell_type": "markdown",
   "metadata": {},
   "source": [
    "### Lists: the most flexible data class\n",
    "While matrices are composed of cells of all one data class, the columns of a data.frame may be of different data classes. The data.frame, it turns out, is just a special kind of list. Lists are collections of any kind of object, indexed using $ and [[]] or [], like a data.frame. In our line of work, the 'phylo' class is a simply a list that packages together a matrix, one or more numeric vectors, and character vectors to define a phylogenetic tree. "
   ]
  },
  {
   "cell_type": "code",
   "execution_count": 106,
   "metadata": {
    "vscode": {
     "languageId": "r"
    }
   },
   "outputs": [
    {
     "data": {
      "text/html": [
       "<dl>\n",
       "\t<dt>$instrument</dt>\n",
       "\t\t<dd><style>\n",
       ".list-inline {list-style: none; margin:0; padding: 0}\n",
       ".list-inline>li {display: inline-block}\n",
       ".list-inline>li:not(:last-child)::after {content: \"\\00b7\"; padding: 0 .5ex}\n",
       "</style>\n",
       "<ol class=list-inline><li>'harp'</li><li>'guitar'</li><li>NA</li><li>'piano'</li><li>NA</li></ol>\n",
       "</dd>\n",
       "\t<dt>$hair</dt>\n",
       "\t\t<dd><style>\n",
       ".list-inline {list-style: none; margin:0; padding: 0}\n",
       ".list-inline>li {display: inline-block}\n",
       ".list-inline>li:not(:last-child)::after {content: \"\\00b7\"; padding: 0 .5ex}\n",
       "</style>\n",
       "<ol class=list-inline><li>NA</li><li>NA</li><li>NA</li><li>NA</li><li>NA</li></ol>\n",
       "</dd>\n",
       "\t<dt>$birthOrder</dt>\n",
       "\t\t<dd><style>\n",
       ".list-inline {list-style: none; margin:0; padding: 0}\n",
       ".list-inline>li {display: inline-block}\n",
       ".list-inline>li:not(:last-child)::after {content: \"\\00b7\"; padding: 0 .5ex}\n",
       "</style>\n",
       "<ol class=list-inline><li>2</li><li>3</li><li>5</li><li>1</li><li>4</li></ol>\n",
       "</dd>\n",
       "</dl>\n"
      ],
      "text/latex": [
       "\\begin{description}\n",
       "\\item[\\$instrument] \\begin{enumerate*}\n",
       "\\item 'harp'\n",
       "\\item 'guitar'\n",
       "\\item NA\n",
       "\\item 'piano'\n",
       "\\item NA\n",
       "\\end{enumerate*}\n",
       "\n",
       "\\item[\\$hair] \\begin{enumerate*}\n",
       "\\item NA\n",
       "\\item NA\n",
       "\\item NA\n",
       "\\item NA\n",
       "\\item NA\n",
       "\\end{enumerate*}\n",
       "\n",
       "\\item[\\$birthOrder] \\begin{enumerate*}\n",
       "\\item 2\n",
       "\\item 3\n",
       "\\item 5\n",
       "\\item 1\n",
       "\\item 4\n",
       "\\end{enumerate*}\n",
       "\n",
       "\\end{description}\n"
      ],
      "text/markdown": [
       "$instrument\n",
       ":   1. 'harp'\n",
       "2. 'guitar'\n",
       "3. NA\n",
       "4. 'piano'\n",
       "5. NA\n",
       "\n",
       "\n",
       "\n",
       "$hair\n",
       ":   1. NA\n",
       "2. NA\n",
       "3. NA\n",
       "4. NA\n",
       "5. NA\n",
       "\n",
       "\n",
       "\n",
       "$birthOrder\n",
       ":   1. 2\n",
       "2. 3\n",
       "3. 5\n",
       "4. 1\n",
       "5. 4\n",
       "\n",
       "\n",
       "\n",
       "\n",
       "\n"
      ],
      "text/plain": [
       "$instrument\n",
       "[1] \"harp\"   \"guitar\" NA       \"piano\"  NA      \n",
       "\n",
       "$hair\n",
       "[1] NA NA NA NA NA\n",
       "\n",
       "$birthOrder\n",
       "[1] 2 3 5 1 4\n"
      ]
     },
     "metadata": {},
     "output_type": "display_data"
    },
    {
     "name": "stderr",
     "output_type": "stream",
     "text": [
      "contents of ee$anotherBunchOfLetters:\n",
      "\n"
     ]
    },
    {
     "data": {
      "text/html": [
       "<style>\n",
       ".list-inline {list-style: none; margin:0; padding: 0}\n",
       ".list-inline>li {display: inline-block}\n",
       ".list-inline>li:not(:last-child)::after {content: \"\\00b7\"; padding: 0 .5ex}\n",
       "</style>\n",
       "<ol class=list-inline><li>'R'</li><li>'Q'</li><li>'P'</li><li>'O'</li><li>'N'</li><li>'M'</li><li>'L'</li><li>'K'</li><li>'J'</li><li>'I'</li><li>'H'</li><li>'G'</li><li>'F'</li><li>'E'</li><li>'D'</li><li>'C'</li><li>'B'</li></ol>\n"
      ],
      "text/latex": [
       "\\begin{enumerate*}\n",
       "\\item 'R'\n",
       "\\item 'Q'\n",
       "\\item 'P'\n",
       "\\item 'O'\n",
       "\\item 'N'\n",
       "\\item 'M'\n",
       "\\item 'L'\n",
       "\\item 'K'\n",
       "\\item 'J'\n",
       "\\item 'I'\n",
       "\\item 'H'\n",
       "\\item 'G'\n",
       "\\item 'F'\n",
       "\\item 'E'\n",
       "\\item 'D'\n",
       "\\item 'C'\n",
       "\\item 'B'\n",
       "\\end{enumerate*}\n"
      ],
      "text/markdown": [
       "1. 'R'\n",
       "2. 'Q'\n",
       "3. 'P'\n",
       "4. 'O'\n",
       "5. 'N'\n",
       "6. 'M'\n",
       "7. 'L'\n",
       "8. 'K'\n",
       "9. 'J'\n",
       "10. 'I'\n",
       "11. 'H'\n",
       "12. 'G'\n",
       "13. 'F'\n",
       "14. 'E'\n",
       "15. 'D'\n",
       "16. 'C'\n",
       "17. 'B'\n",
       "\n",
       "\n"
      ],
      "text/plain": [
       " [1] \"R\" \"Q\" \"P\" \"O\" \"N\" \"M\" \"L\" \"K\" \"J\" \"I\" \"H\" \"G\" \"F\" \"E\" \"D\" \"C\" \"B\""
      ]
     },
     "metadata": {},
     "output_type": "display_data"
    }
   ],
   "source": [
    "as.list(dd2)\n",
    "ee <- c(dd2, list(justABunchOfLetters = letters[1:16], anotherBunchOfLetters = LETTERS[18:2]))\n",
    "message('contents of ee$anotherBunchOfLetters:')\n",
    "ee$anotherBunchOfLetters"
   ]
  },
  {
   "cell_type": "code",
   "execution_count": 107,
   "metadata": {
    "vscode": {
     "languageId": "r"
    }
   },
   "outputs": [
    {
     "data": {
      "text/html": [
       "<dl>\n",
       "\t<dt>$birthOrder</dt>\n",
       "\t\t<dd><style>\n",
       ".list-inline {list-style: none; margin:0; padding: 0}\n",
       ".list-inline>li {display: inline-block}\n",
       ".list-inline>li:not(:last-child)::after {content: \"\\00b7\"; padding: 0 .5ex}\n",
       "</style>\n",
       "<ol class=list-inline><li>2</li><li>3</li><li>5</li><li>1</li><li>4</li></ol>\n",
       "</dd>\n",
       "\t<dt>$justABunchOfLetters</dt>\n",
       "\t\t<dd><style>\n",
       ".list-inline {list-style: none; margin:0; padding: 0}\n",
       ".list-inline>li {display: inline-block}\n",
       ".list-inline>li:not(:last-child)::after {content: \"\\00b7\"; padding: 0 .5ex}\n",
       "</style>\n",
       "<ol class=list-inline><li>'a'</li><li>'b'</li><li>'c'</li><li>'d'</li><li>'e'</li><li>'f'</li><li>'g'</li><li>'h'</li><li>'i'</li><li>'j'</li><li>'k'</li><li>'l'</li><li>'m'</li><li>'n'</li><li>'o'</li><li>'p'</li></ol>\n",
       "</dd>\n",
       "</dl>\n"
      ],
      "text/latex": [
       "\\begin{description}\n",
       "\\item[\\$birthOrder] \\begin{enumerate*}\n",
       "\\item 2\n",
       "\\item 3\n",
       "\\item 5\n",
       "\\item 1\n",
       "\\item 4\n",
       "\\end{enumerate*}\n",
       "\n",
       "\\item[\\$justABunchOfLetters] \\begin{enumerate*}\n",
       "\\item 'a'\n",
       "\\item 'b'\n",
       "\\item 'c'\n",
       "\\item 'd'\n",
       "\\item 'e'\n",
       "\\item 'f'\n",
       "\\item 'g'\n",
       "\\item 'h'\n",
       "\\item 'i'\n",
       "\\item 'j'\n",
       "\\item 'k'\n",
       "\\item 'l'\n",
       "\\item 'm'\n",
       "\\item 'n'\n",
       "\\item 'o'\n",
       "\\item 'p'\n",
       "\\end{enumerate*}\n",
       "\n",
       "\\end{description}\n"
      ],
      "text/markdown": [
       "$birthOrder\n",
       ":   1. 2\n",
       "2. 3\n",
       "3. 5\n",
       "4. 1\n",
       "5. 4\n",
       "\n",
       "\n",
       "\n",
       "$justABunchOfLetters\n",
       ":   1. 'a'\n",
       "2. 'b'\n",
       "3. 'c'\n",
       "4. 'd'\n",
       "5. 'e'\n",
       "6. 'f'\n",
       "7. 'g'\n",
       "8. 'h'\n",
       "9. 'i'\n",
       "10. 'j'\n",
       "11. 'k'\n",
       "12. 'l'\n",
       "13. 'm'\n",
       "14. 'n'\n",
       "15. 'o'\n",
       "16. 'p'\n",
       "\n",
       "\n",
       "\n",
       "\n",
       "\n"
      ],
      "text/plain": [
       "$birthOrder\n",
       "[1] 2 3 5 1 4\n",
       "\n",
       "$justABunchOfLetters\n",
       " [1] \"a\" \"b\" \"c\" \"d\" \"e\" \"f\" \"g\" \"h\" \"i\" \"j\" \"k\" \"l\" \"m\" \"n\" \"o\" \"p\"\n"
      ]
     },
     "metadata": {},
     "output_type": "display_data"
    }
   ],
   "source": [
    "ee[3:4]"
   ]
  },
  {
   "cell_type": "code",
   "execution_count": 108,
   "metadata": {
    "vscode": {
     "languageId": "r"
    }
   },
   "outputs": [
    {
     "data": {
      "text/html": [
       "<style>\n",
       ".list-inline {list-style: none; margin:0; padding: 0}\n",
       ".list-inline>li {display: inline-block}\n",
       ".list-inline>li:not(:last-child)::after {content: \"\\00b7\"; padding: 0 .5ex}\n",
       "</style>\n",
       "<ol class=list-inline><li>2</li><li>3</li><li>5</li><li>1</li><li>4</li></ol>\n"
      ],
      "text/latex": [
       "\\begin{enumerate*}\n",
       "\\item 2\n",
       "\\item 3\n",
       "\\item 5\n",
       "\\item 1\n",
       "\\item 4\n",
       "\\end{enumerate*}\n"
      ],
      "text/markdown": [
       "1. 2\n",
       "2. 3\n",
       "3. 5\n",
       "4. 1\n",
       "5. 4\n",
       "\n",
       "\n"
      ],
      "text/plain": [
       "[1] 2 3 5 1 4"
      ]
     },
     "metadata": {},
     "output_type": "display_data"
    }
   ],
   "source": [
    "ee[[3]]"
   ]
  },
  {
   "cell_type": "code",
   "execution_count": 109,
   "metadata": {
    "vscode": {
     "languageId": "r"
    }
   },
   "outputs": [
    {
     "data": {
      "text/html": [
       "<strong>$birthOrder</strong> = <style>\n",
       ".list-inline {list-style: none; margin:0; padding: 0}\n",
       ".list-inline>li {display: inline-block}\n",
       ".list-inline>li:not(:last-child)::after {content: \"\\00b7\"; padding: 0 .5ex}\n",
       "</style>\n",
       "<ol class=list-inline><li>2</li><li>3</li><li>5</li><li>1</li><li>4</li></ol>\n"
      ],
      "text/latex": [
       "\\textbf{\\$birthOrder} = \\begin{enumerate*}\n",
       "\\item 2\n",
       "\\item 3\n",
       "\\item 5\n",
       "\\item 1\n",
       "\\item 4\n",
       "\\end{enumerate*}\n"
      ],
      "text/markdown": [
       "**$birthOrder** = 1. 2\n",
       "2. 3\n",
       "3. 5\n",
       "4. 1\n",
       "5. 4\n",
       "\n",
       "\n"
      ],
      "text/plain": [
       "$birthOrder\n",
       "[1] 2 3 5 1 4\n"
      ]
     },
     "metadata": {},
     "output_type": "display_data"
    }
   ],
   "source": [
    "ee[3]"
   ]
  },
  {
   "cell_type": "code",
   "execution_count": 110,
   "metadata": {
    "vscode": {
     "languageId": "r"
    }
   },
   "outputs": [
    {
     "data": {
      "text/html": [
       "'integer'"
      ],
      "text/latex": [
       "'integer'"
      ],
      "text/markdown": [
       "'integer'"
      ],
      "text/plain": [
       "[1] \"integer\""
      ]
     },
     "metadata": {},
     "output_type": "display_data"
    }
   ],
   "source": [
    "class(ee[[3]])"
   ]
  },
  {
   "cell_type": "code",
   "execution_count": 111,
   "metadata": {
    "vscode": {
     "languageId": "r"
    }
   },
   "outputs": [
    {
     "data": {
      "text/html": [
       "'list'"
      ],
      "text/latex": [
       "'list'"
      ],
      "text/markdown": [
       "'list'"
      ],
      "text/plain": [
       "[1] \"list\""
      ]
     },
     "metadata": {},
     "output_type": "display_data"
    }
   ],
   "source": [
    "class(ee[3])"
   ]
  },
  {
   "cell_type": "code",
   "execution_count": 112,
   "metadata": {
    "vscode": {
     "languageId": "r"
    }
   },
   "outputs": [
    {
     "data": {
      "text/html": [
       "'list'"
      ],
      "text/latex": [
       "'list'"
      ],
      "text/markdown": [
       "'list'"
      ],
      "text/plain": [
       "[1] \"list\""
      ]
     },
     "metadata": {},
     "output_type": "display_data"
    }
   ],
   "source": [
    "class(ee[3:4])"
   ]
  },
  {
   "attachments": {},
   "cell_type": "markdown",
   "metadata": {},
   "source": [
    "### How to find data\n",
    "When your dataset is small, it's easy to manipulate, but if you want to find or modify things on the fly, you need to be able to search through your objects. The \"grep\" and \"match\" functions are greatly helpful in this regard."
   ]
  },
  {
   "cell_type": "code",
   "execution_count": 113,
   "metadata": {
    "vscode": {
     "languageId": "r"
    }
   },
   "outputs": [
    {
     "data": {
      "text/html": [
       "17"
      ],
      "text/latex": [
       "17"
      ],
      "text/markdown": [
       "17"
      ],
      "text/plain": [
       "[1] 17"
      ]
     },
     "metadata": {},
     "output_type": "display_data"
    }
   ],
   "source": [
    "grep('B', ee$anotherBunchOfLetters)"
   ]
  },
  {
   "cell_type": "code",
   "execution_count": 114,
   "metadata": {
    "vscode": {
     "languageId": "r"
    }
   },
   "outputs": [
    {
     "data": {
      "text/html": [
       "1"
      ],
      "text/latex": [
       "1"
      ],
      "text/markdown": [
       "1"
      ],
      "text/plain": [
       "[1] 1"
      ]
     },
     "metadata": {},
     "output_type": "display_data"
    }
   ],
   "source": [
    "grep('rp', dd2$instrument)"
   ]
  },
  {
   "cell_type": "code",
   "execution_count": 115,
   "metadata": {
    "vscode": {
     "languageId": "r"
    }
   },
   "outputs": [
    {
     "data": {
      "text/html": [
       "'harp'"
      ],
      "text/latex": [
       "'harp'"
      ],
      "text/markdown": [
       "'harp'"
      ],
      "text/plain": [
       "[1] \"harp\""
      ]
     },
     "metadata": {},
     "output_type": "display_data"
    }
   ],
   "source": [
    "grep('rp', dd2$instrument, value = T)"
   ]
  },
  {
   "cell_type": "code",
   "execution_count": 116,
   "metadata": {
    "vscode": {
     "languageId": "r"
    }
   },
   "outputs": [
    {
     "data": {
      "text/html": [
       "<style>\n",
       ".list-inline {list-style: none; margin:0; padding: 0}\n",
       ".list-inline>li {display: inline-block}\n",
       ".list-inline>li:not(:last-child)::after {content: \"\\00b7\"; padding: 0 .5ex}\n",
       "</style>\n",
       "<ol class=list-inline><li>'guitar'</li><li>NA</li><li>'piano'</li><li>NA</li></ol>\n"
      ],
      "text/latex": [
       "\\begin{enumerate*}\n",
       "\\item 'guitar'\n",
       "\\item NA\n",
       "\\item 'piano'\n",
       "\\item NA\n",
       "\\end{enumerate*}\n"
      ],
      "text/markdown": [
       "1. 'guitar'\n",
       "2. NA\n",
       "3. 'piano'\n",
       "4. NA\n",
       "\n",
       "\n"
      ],
      "text/plain": [
       "[1] \"guitar\" NA       \"piano\"  NA      "
      ]
     },
     "metadata": {},
     "output_type": "display_data"
    }
   ],
   "source": [
    "grep('rp', dd2$instrument, value = T, invert = T)"
   ]
  },
  {
   "cell_type": "code",
   "execution_count": 119,
   "metadata": {
    "vscode": {
     "languageId": "r"
    }
   },
   "outputs": [
    {
     "data": {
      "text/html": [
       "<style>\n",
       ".list-inline {list-style: none; margin:0; padding: 0}\n",
       ".list-inline>li {display: inline-block}\n",
       ".list-inline>li:not(:last-child)::after {content: \"\\00b7\"; padding: 0 .5ex}\n",
       "</style>\n",
       "<ol class=list-inline><li>2</li><li>1</li><li>4</li></ol>\n"
      ],
      "text/latex": [
       "\\begin{enumerate*}\n",
       "\\item 2\n",
       "\\item 1\n",
       "\\item 4\n",
       "\\end{enumerate*}\n"
      ],
      "text/markdown": [
       "1. 2\n",
       "2. 1\n",
       "3. 4\n",
       "\n",
       "\n"
      ],
      "text/plain": [
       "[1] 2 1 4"
      ]
     },
     "metadata": {},
     "output_type": "display_data"
    }
   ],
   "source": [
    "match(marxFavs, row.names(dd2))"
   ]
  },
  {
   "attachments": {},
   "cell_type": "markdown",
   "metadata": {},
   "source": [
    "### At the end of the day\n",
    "Provided you have navigated to a new folder, you can end your session using \"q()\" or \"quit(),\" and you'll be given the option to save your workspace. Do so: you'll find all your objects and history (up to 512 lines, unless you increase the default using \"Sys.setenv(R_HISTSIZE = x)\", where x is the number of lines you'd like to be saved in the history file). You can later double-click the workspace file if you are in windows or simply launch R from within the folder you've left (in Linux and, I think, Mac) to restore the worksession. Alternatively, you can reload it manually using \"load(x)\", where x is the name of your workspace. You can also save any objects you like in the workspace using \"save\"... see documentation for these."
   ]
  },
  {
   "cell_type": "code",
   "execution_count": 118,
   "metadata": {
    "vscode": {
     "languageId": "r"
    }
   },
   "outputs": [],
   "source": [
    "# save()\n",
    "# load()\n",
    "# rm()\n",
    "# quit(); q()"
   ]
  },
  {
   "attachments": {},
   "cell_type": "markdown",
   "metadata": {},
   "source": [
    "## Websites for additional information and examples\n",
    "http://kembellab.ca/r-workshop/biodivR/SK_Biodiversity_R.html\n",
    "\n",
    "http://www.mpcm-evolution.org/practice/online-practical-material-chapter-4/chapter-4-1-codes-used-produce-twelve-figures-chapter"
   ]
  }
 ],
 "metadata": {
  "anaconda-cloud": {},
  "kernelspec": {
   "display_name": "R",
   "language": "R",
   "name": "ir"
  },
  "language_info": {
   "codemirror_mode": "r",
   "file_extension": ".r",
   "mimetype": "text/x-r-source",
   "name": "R",
   "pygments_lexer": "r",
   "version": "4.2.3"
  }
 },
 "nbformat": 4,
 "nbformat_minor": 1
}
